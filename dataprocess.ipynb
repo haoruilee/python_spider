{
 "cells": [
  {
   "cell_type": "code",
   "execution_count": 4,
   "metadata": {},
   "outputs": [
    {
     "name": "stdout",
     "output_type": "stream",
     "text": [
      "Successfully save 61518407李浩瑞-排名.json\n"
     ]
    }
   ],
   "source": [
    "#61518407 李浩瑞\n",
    "#2019湖北文科 655~542段 一分一段统计json\n",
    "import pandas as pd\n",
    "import json\n",
    "def excel_to_json(path):\n",
    "    '''\n",
    "    本函数可将指定excel转为json格式并返回\n",
    "    变量说明：\n",
    "    path: Excel文件路径\n",
    "    Wenke_dict:文科一分一段统计json\n",
    "    '''\n",
    "    xlsx_file = path\n",
    "    fulldata = pd.read_excel(xlsx_file)#将数据读取为dataframe格式\n",
    "    temp=dict()#中间变量记录一分一段\n",
    "    for i in range(len(fulldata)):\n",
    "        temp[str(fulldata.loc[i][0])]=float(fulldata.loc[i][1])\n",
    "    Wenke_dict={\"2019\":{\"湖北\":{\"文科\":temp}}}\n",
    "    return Wenke_dict\n",
    "\n",
    "if __name__ == '__main__':\n",
    "    Wenke_dict=excel_to_json(\"Hubei_W_1.xlsx\")#由于提供数据为图片格式，故手工记录了一分一段统计Excel\n",
    "    with open('61518407李浩瑞-排名.json', 'w') as f:\n",
    "        json.dump(Wenke_dict, f,indent=4,ensure_ascii=False)#四行缩进，保证中文编码\n",
    "    print(\"Successfully save 61518407李浩瑞-排名.json\")"
   ]
  },
  {
   "cell_type": "code",
   "execution_count": 3,
   "metadata": {},
   "outputs": [],
   "source": [
    "'''加载数据集'''\n",
    "#pandas模型中的read_excel方法读取excel的xlsx数据\n",
    "import pandas as pd\n",
    "xlsx_file = \"Hubei_W_1.xlsx\"\n",
    "\n",
    "\"\"\"\n",
    "# read_excel方法读取文件\n",
    "xlsx_feature = pd.read_excel(xlsx_file, usecols=[1, 2, 3, 4, 5, 6, 7]) #usecols属性读取excel文件中的指定列，列号从0起始；skiprows属性跳过excel文件中指定行，行号从0起始\n",
    "xlsx_target = pd.read_excel(xlsx_file, usecols=[8])\n",
    "#通过pd.DataFrame将excel文件转化为DataFrame类型，多此一举\n",
    "feature = pd.DataFrame(xlsx_feature)\n",
    "target = pd.DataFrame(xlsx_target)\n",
    "# print(type(feature))\n",
    "# print(feature)\n",
    "# print(type(target))\n",
    "# print(target)\n",
    "\"\"\"\n",
    "# read_excel方法返回类型为DataFrame，不需要再次转换\n",
    "full = pd.read_excel(xlsx_file)\n",
    "# print(type(feature))\n",
    "# print(type(target))\n",
    "# print(feature)\n",
    "# print(target)\n",
    "\n"
   ]
  },
  {
   "cell_type": "code",
   "execution_count": 28,
   "metadata": {},
   "outputs": [
    {
     "data": {
      "text/html": [
       "<div>\n",
       "<style scoped>\n",
       "    .dataframe tbody tr th:only-of-type {\n",
       "        vertical-align: middle;\n",
       "    }\n",
       "\n",
       "    .dataframe tbody tr th {\n",
       "        vertical-align: top;\n",
       "    }\n",
       "\n",
       "    .dataframe thead th {\n",
       "        text-align: right;\n",
       "    }\n",
       "</style>\n",
       "<table border=\"1\" class=\"dataframe\">\n",
       "  <thead>\n",
       "    <tr style=\"text-align: right;\">\n",
       "      <th></th>\n",
       "      <th>分数</th>\n",
       "      <th>累计人数</th>\n",
       "    </tr>\n",
       "  </thead>\n",
       "  <tbody>\n",
       "    <tr>\n",
       "      <th>0</th>\n",
       "      <td>655</td>\n",
       "      <td>16</td>\n",
       "    </tr>\n",
       "    <tr>\n",
       "      <th>1</th>\n",
       "      <td>654</td>\n",
       "      <td>18</td>\n",
       "    </tr>\n",
       "    <tr>\n",
       "      <th>2</th>\n",
       "      <td>653</td>\n",
       "      <td>18</td>\n",
       "    </tr>\n",
       "    <tr>\n",
       "      <th>3</th>\n",
       "      <td>652</td>\n",
       "      <td>21</td>\n",
       "    </tr>\n",
       "    <tr>\n",
       "      <th>4</th>\n",
       "      <td>651</td>\n",
       "      <td>21</td>\n",
       "    </tr>\n",
       "    <tr>\n",
       "      <th>...</th>\n",
       "      <td>...</td>\n",
       "      <td>...</td>\n",
       "    </tr>\n",
       "    <tr>\n",
       "      <th>109</th>\n",
       "      <td>546</td>\n",
       "      <td>10899</td>\n",
       "    </tr>\n",
       "    <tr>\n",
       "      <th>110</th>\n",
       "      <td>545</td>\n",
       "      <td>11151</td>\n",
       "    </tr>\n",
       "    <tr>\n",
       "      <th>111</th>\n",
       "      <td>544</td>\n",
       "      <td>11398</td>\n",
       "    </tr>\n",
       "    <tr>\n",
       "      <th>112</th>\n",
       "      <td>543</td>\n",
       "      <td>11674</td>\n",
       "    </tr>\n",
       "    <tr>\n",
       "      <th>113</th>\n",
       "      <td>542</td>\n",
       "      <td>11943</td>\n",
       "    </tr>\n",
       "  </tbody>\n",
       "</table>\n",
       "<p>114 rows × 2 columns</p>\n",
       "</div>"
      ],
      "text/plain": [
       "      分数   累计人数\n",
       "0    655     16\n",
       "1    654     18\n",
       "2    653     18\n",
       "3    652     21\n",
       "4    651     21\n",
       "..   ...    ...\n",
       "109  546  10899\n",
       "110  545  11151\n",
       "111  544  11398\n",
       "112  543  11674\n",
       "113  542  11943\n",
       "\n",
       "[114 rows x 2 columns]"
      ]
     },
     "execution_count": 28,
     "metadata": {},
     "output_type": "execute_result"
    }
   ],
   "source": [
    "full"
   ]
  },
  {
   "cell_type": "code",
   "execution_count": 29,
   "metadata": {},
   "outputs": [
    {
     "data": {
      "text/plain": [
       "114"
      ]
     },
     "execution_count": 29,
     "metadata": {},
     "output_type": "execute_result"
    }
   ],
   "source": [
    "len(full)"
   ]
  },
  {
   "cell_type": "code",
   "execution_count": 24,
   "metadata": {},
   "outputs": [
    {
     "data": {
      "text/plain": [
       "655"
      ]
     },
     "execution_count": 24,
     "metadata": {},
     "output_type": "execute_result"
    }
   ],
   "source": [
    "(full.loc[0][0])"
   ]
  },
  {
   "cell_type": "code",
   "execution_count": 26,
   "metadata": {},
   "outputs": [],
   "source": [
    "W_dict={\"2019\":{\"湖北\":{\"文科\":\"temp\"}}}"
   ]
  },
  {
   "cell_type": "code",
   "execution_count": 27,
   "metadata": {},
   "outputs": [
    {
     "name": "stdout",
     "output_type": "stream",
     "text": [
      "{'2019': {'湖北': {'文科': 'temp'}}}\n"
     ]
    }
   ],
   "source": [
    "print(W_dict)"
   ]
  },
  {
   "cell_type": "code",
   "execution_count": 41,
   "metadata": {},
   "outputs": [],
   "source": [
    "#https://jingyan.baidu.com/article/9158e0006093daa2541228a7.html 增加键值对\n",
    "temp=dict()\n",
    "for i in range(len(full)):\n",
    "    temp[str(full.loc[i][0])]=float(full.loc[i][1])"
   ]
  },
  {
   "cell_type": "code",
   "execution_count": 42,
   "metadata": {},
   "outputs": [
    {
     "name": "stdout",
     "output_type": "stream",
     "text": [
      "{'655': 16.0, '654': 18.0, '653': 18.0, '652': 21.0, '651': 21.0, '650': 27.0, '649': 32.0, '648': 34.0, '647': 38.0, '646': 41.0, '645': 50.0, '644': 58.0, '643': 65.0, '642': 74.0, '641': 85.0, '640': 98.0, '639': 101.0, '638': 115.0, '637': 124.0, '636': 135.0, '635': 155.0, '634': 166.0, '633': 178.0, '632': 189.0, '631': 209.0, '630': 225.0, '629': 243.0, '628': 268.0, '627': 290.0, '626': 307.0, '625': 326.0, '624': 348.0, '623': 378.0, '622': 397.0, '621': 430.0, '620': 460.0, '619': 496.0, '618': 541.0, '617': 583.0, '616': 627.0, '615': 664.0, '614': 700.0, '613': 750.0, '612': 801.0, '611': 843.0, '610': 905.0, '609': 960.0, '608': 1012.0, '607': 1059.0, '606': 1130.0, '605': 1200.0, '604': 1260.0, '603': 1318.0, '602': 1391.0, '601': 1472.0, '600': 1560.0, '599': 1641.0, '598': 1728.0, '597': 1808.0, '596': 1912.0, '595': 2000.0, '594': 2100.0, '593': 2188.0, '592': 2282.0, '591': 2375.0, '590': 2485.0, '589': 2596.0, '588': 2720.0, '587': 2835.0, '586': 2979.0, '585': 3098.0, '584': 3234.0, '583': 3351.0, '582': 3497.0, '581': 3641.0, '580': 3755.0, '579': 3911.0, '578': 4059.0, '577': 4220.0, '576': 4399.0, '575': 4564.0, '574': 4729.0, '573': 4898.0, '572': 5074.0, '571': 5228.0, '570': 5431.0, '569': 5637.0, '568': 5836.0, '567': 6059.0, '566': 6264.0, '565': 6486.0, '564': 6687.0, '563': 6897.0, '562': 7116.0, '561': 7360.0, '560': 7548.0, '559': 7761.0, '558': 7988.0, '557': 8234.0, '556': 8448.0, '555': 8672.0, '554': 8920.0, '553': 9153.0, '552': 9423.0, '551': 9653.0, '550': 9903.0, '549': 10144.0, '548': 10405.0, '547': 10661.0, '546': 10899.0, '545': 11151.0, '544': 11398.0, '543': 11674.0, '542': 11943.0}\n"
     ]
    }
   ],
   "source": [
    "print(temp)"
   ]
  },
  {
   "cell_type": "code",
   "execution_count": 43,
   "metadata": {},
   "outputs": [],
   "source": [
    "W_dict={\"2019\":{\"湖北\":{\"文科\":temp}}}"
   ]
  },
  {
   "cell_type": "code",
   "execution_count": 44,
   "metadata": {},
   "outputs": [
    {
     "name": "stdout",
     "output_type": "stream",
     "text": [
      "{'2019': {'湖北': {'文科': {'655': 16.0, '654': 18.0, '653': 18.0, '652': 21.0, '651': 21.0, '650': 27.0, '649': 32.0, '648': 34.0, '647': 38.0, '646': 41.0, '645': 50.0, '644': 58.0, '643': 65.0, '642': 74.0, '641': 85.0, '640': 98.0, '639': 101.0, '638': 115.0, '637': 124.0, '636': 135.0, '635': 155.0, '634': 166.0, '633': 178.0, '632': 189.0, '631': 209.0, '630': 225.0, '629': 243.0, '628': 268.0, '627': 290.0, '626': 307.0, '625': 326.0, '624': 348.0, '623': 378.0, '622': 397.0, '621': 430.0, '620': 460.0, '619': 496.0, '618': 541.0, '617': 583.0, '616': 627.0, '615': 664.0, '614': 700.0, '613': 750.0, '612': 801.0, '611': 843.0, '610': 905.0, '609': 960.0, '608': 1012.0, '607': 1059.0, '606': 1130.0, '605': 1200.0, '604': 1260.0, '603': 1318.0, '602': 1391.0, '601': 1472.0, '600': 1560.0, '599': 1641.0, '598': 1728.0, '597': 1808.0, '596': 1912.0, '595': 2000.0, '594': 2100.0, '593': 2188.0, '592': 2282.0, '591': 2375.0, '590': 2485.0, '589': 2596.0, '588': 2720.0, '587': 2835.0, '586': 2979.0, '585': 3098.0, '584': 3234.0, '583': 3351.0, '582': 3497.0, '581': 3641.0, '580': 3755.0, '579': 3911.0, '578': 4059.0, '577': 4220.0, '576': 4399.0, '575': 4564.0, '574': 4729.0, '573': 4898.0, '572': 5074.0, '571': 5228.0, '570': 5431.0, '569': 5637.0, '568': 5836.0, '567': 6059.0, '566': 6264.0, '565': 6486.0, '564': 6687.0, '563': 6897.0, '562': 7116.0, '561': 7360.0, '560': 7548.0, '559': 7761.0, '558': 7988.0, '557': 8234.0, '556': 8448.0, '555': 8672.0, '554': 8920.0, '553': 9153.0, '552': 9423.0, '551': 9653.0, '550': 9903.0, '549': 10144.0, '548': 10405.0, '547': 10661.0, '546': 10899.0, '545': 11151.0, '544': 11398.0, '543': 11674.0, '542': 11943.0}}}}\n"
     ]
    }
   ],
   "source": [
    "print(W_dict)"
   ]
  },
  {
   "cell_type": "code",
   "execution_count": 45,
   "metadata": {},
   "outputs": [],
   "source": [
    "import json"
   ]
  },
  {
   "cell_type": "code",
   "execution_count": 58,
   "metadata": {},
   "outputs": [],
   "source": [
    "with open('data.json', 'w') as f:\n",
    "    json.dump(W_dict, f,indent=4,ensure_ascii=False)#四行缩进，保证中文编码"
   ]
  },
  {
   "cell_type": "code",
   "execution_count": null,
   "metadata": {},
   "outputs": [],
   "source": []
  },
  {
   "cell_type": "code",
   "execution_count": null,
   "metadata": {},
   "outputs": [],
   "source": []
  },
  {
   "cell_type": "code",
   "execution_count": null,
   "metadata": {},
   "outputs": [],
   "source": []
  },
  {
   "cell_type": "code",
   "execution_count": 6,
   "metadata": {},
   "outputs": [],
   "source": [
    "def to_json2(df,orient='split'):\n",
    "    df_json = df.to_json(orient = orient, force_ascii = False)\n",
    "    return json.loads(df_json)"
   ]
  },
  {
   "cell_type": "code",
   "execution_count": 7,
   "metadata": {},
   "outputs": [],
   "source": [
    "after_to_json = pd.DataFrame(full)"
   ]
  },
  {
   "cell_type": "code",
   "execution_count": 8,
   "metadata": {},
   "outputs": [
    {
     "data": {
      "text/html": [
       "<div>\n",
       "<style scoped>\n",
       "    .dataframe tbody tr th:only-of-type {\n",
       "        vertical-align: middle;\n",
       "    }\n",
       "\n",
       "    .dataframe tbody tr th {\n",
       "        vertical-align: top;\n",
       "    }\n",
       "\n",
       "    .dataframe thead th {\n",
       "        text-align: right;\n",
       "    }\n",
       "</style>\n",
       "<table border=\"1\" class=\"dataframe\">\n",
       "  <thead>\n",
       "    <tr style=\"text-align: right;\">\n",
       "      <th></th>\n",
       "      <th>分数</th>\n",
       "      <th>累计人数</th>\n",
       "    </tr>\n",
       "  </thead>\n",
       "  <tbody>\n",
       "    <tr>\n",
       "      <th>0</th>\n",
       "      <td>655</td>\n",
       "      <td>16</td>\n",
       "    </tr>\n",
       "    <tr>\n",
       "      <th>1</th>\n",
       "      <td>654</td>\n",
       "      <td>18</td>\n",
       "    </tr>\n",
       "    <tr>\n",
       "      <th>2</th>\n",
       "      <td>653</td>\n",
       "      <td>18</td>\n",
       "    </tr>\n",
       "    <tr>\n",
       "      <th>3</th>\n",
       "      <td>652</td>\n",
       "      <td>21</td>\n",
       "    </tr>\n",
       "    <tr>\n",
       "      <th>4</th>\n",
       "      <td>651</td>\n",
       "      <td>21</td>\n",
       "    </tr>\n",
       "    <tr>\n",
       "      <th>...</th>\n",
       "      <td>...</td>\n",
       "      <td>...</td>\n",
       "    </tr>\n",
       "    <tr>\n",
       "      <th>109</th>\n",
       "      <td>546</td>\n",
       "      <td>10899</td>\n",
       "    </tr>\n",
       "    <tr>\n",
       "      <th>110</th>\n",
       "      <td>545</td>\n",
       "      <td>11151</td>\n",
       "    </tr>\n",
       "    <tr>\n",
       "      <th>111</th>\n",
       "      <td>544</td>\n",
       "      <td>11398</td>\n",
       "    </tr>\n",
       "    <tr>\n",
       "      <th>112</th>\n",
       "      <td>543</td>\n",
       "      <td>11674</td>\n",
       "    </tr>\n",
       "    <tr>\n",
       "      <th>113</th>\n",
       "      <td>542</td>\n",
       "      <td>11943</td>\n",
       "    </tr>\n",
       "  </tbody>\n",
       "</table>\n",
       "<p>114 rows × 2 columns</p>\n",
       "</div>"
      ],
      "text/plain": [
       "      分数   累计人数\n",
       "0    655     16\n",
       "1    654     18\n",
       "2    653     18\n",
       "3    652     21\n",
       "4    651     21\n",
       "..   ...    ...\n",
       "109  546  10899\n",
       "110  545  11151\n",
       "111  544  11398\n",
       "112  543  11674\n",
       "113  542  11943\n",
       "\n",
       "[114 rows x 2 columns]"
      ]
     },
     "execution_count": 8,
     "metadata": {},
     "output_type": "execute_result"
    }
   ],
   "source": [
    "after_to_json"
   ]
  },
  {
   "cell_type": "code",
   "execution_count": 10,
   "metadata": {},
   "outputs": [
    {
     "name": "stdout",
     "output_type": "stream",
     "text": [
      "分数\n",
      "累计人数\n"
     ]
    }
   ],
   "source": [
    "count=0\n",
    "for i in after_to_json['分数']:\n",
    "    print(i)\n",
    "    count+=1\n",
    "    if count>10:\n",
    "        break"
   ]
  },
  {
   "cell_type": "code",
   "execution_count": null,
   "metadata": {},
   "outputs": [],
   "source": []
  }
 ],
 "metadata": {
  "kernelspec": {
   "display_name": "Python 3",
   "language": "python",
   "name": "python3"
  },
  "language_info": {
   "codemirror_mode": {
    "name": "ipython",
    "version": 3
   },
   "file_extension": ".py",
   "mimetype": "text/x-python",
   "name": "python",
   "nbconvert_exporter": "python",
   "pygments_lexer": "ipython3",
   "version": "3.6.9"
  }
 },
 "nbformat": 4,
 "nbformat_minor": 2
}
