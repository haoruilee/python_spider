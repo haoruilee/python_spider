{
 "cells": [
  {
   "cell_type": "markdown",
   "metadata": {},
   "source": [
    "# 提交版"
   ]
  },
  {
   "cell_type": "code",
   "execution_count": 3,
   "metadata": {},
   "outputs": [
    {
     "name": "stdout",
     "output_type": "stream",
     "text": [
      "Finish!\n"
     ]
    }
   ],
   "source": [
    "import csv\n",
    "import requests\n",
    "from urllib import parse\n",
    "import json\n",
    "from bs4 import BeautifulSoup \n",
    "import random\n",
    "\n",
    "\n",
    "def get_user_agent_pc():\n",
    "    '''随机获得伪装头'''\n",
    "    # pc端的user-agent\n",
    "    user_agent_pc = [\n",
    "        # 谷歌\n",
    "        'Mozilla/5.0.html (Windows NT 6.1; WOW64) AppleWebKit/537.36 (KHTML, like Gecko) Chrome/39.0.html.2171.71 Safari/537.36',\n",
    "        'Mozilla/5.0.html (X11; Linux x86_64) AppleWebKit/537.11 (KHTML, like Gecko) Chrome/23.0.html.1271.64 Safari/537.11',\n",
    "        'Mozilla/5.0.html (Windows; U; Windows NT 6.1; en-US) AppleWebKit/534.16 (KHTML, like Gecko) Chrome/10.0.html.648.133 Safari/534.16',\n",
    "        # 火狐\n",
    "        'Mozilla/5.0.html (Windows NT 6.1; WOW64; rv:34.0.html) Gecko/20100101 Firefox/34.0.html',\n",
    "        'Mozilla/5.0.html (X11; U; Linux x86_64; zh-CN; rv:1.9.2.10) Gecko/20100922 Ubuntu/10.10 (maverick) Firefox/3.6.10',\n",
    "        # opera\n",
    "        'Mozilla/5.0.html (Windows NT 6.1; WOW64) AppleWebKit/537.36 (KHTML, like Gecko) Chrome/39.0.html.2171.95 Safari/537.36 OPR/26.0.html.1656.60',\n",
    "        # qq浏览器\n",
    "        'Mozilla/5.0.html (compatible; MSIE 9.0.html; Windows NT 6.1; WOW64; Trident/5.0.html; SLCC2; .NET CLR 2.0.html.50727; .NET CLR 3.5.30729; .NET CLR 3.0.html.30729; Media Center PC 6.0.html; .NET4.0C; .NET4.0E; QQBrowser/7.0.html.3698.400)',\n",
    "        # 搜狗浏览器\n",
    "        'Mozilla/5.0.html (Windows NT 5.1) AppleWebKit/535.11 (KHTML, like Gecko) Chrome/17.0.html.963.84 Safari/535.11 SE 2.X MetaSr 1.0.html',\n",
    "        # 360浏览器\n",
    "        'Mozilla/5.0.html (Windows NT 6.1; WOW64) AppleWebKit/537.36 (KHTML, like Gecko) Chrome/30.0.html.1599.101 Safari/537.36',\n",
    "        'Mozilla/5.0.html (Windows NT 6.1; WOW64; Trident/7.0.html; rv:11.0.html) like Gecko',\n",
    "        # uc浏览器\n",
    "        'Mozilla/5.0.html (Windows NT 6.1; WOW64) AppleWebKit/537.36 (KHTML, like Gecko) Chrome/38.0.html.2125.122 UBrowser/4.0.html.3214.0.html Safari/537.36',\n",
    "    ]\n",
    "    return random.choice(user_agent_pc)\n",
    "\n",
    "def spider():\n",
    "    '''迭代爬取西北大学某年-某文理科-某省份-某专业的最低分数线'''\n",
    "    #Init\n",
    "    csv_list=list()\n",
    "    info_list=list()\n",
    "    year_list=['2019','2018','2017']#业务要求三年的分数\n",
    "    province_list=['北京', '天津', '河北', '山西', '内蒙古', '辽宁', '吉林', '黑龙江',\n",
    "                   '上海', '江苏', '浙江', '安徽', '福建', '江西','山东', '河南', '湖北',\n",
    "                   '湖南', '广东', '广西', '海南', '重庆', '四川', '贵州', '云南', '西藏',\n",
    "                   '陕西', '甘肃', '青海', '宁夏', '新疆']#31个招生的省市\n",
    "    for y in (year_list):\n",
    "        #按年迭代\n",
    "        if (y=='2019') or (y=='2018'):\n",
    "            major_list=['文史','理工']\n",
    "        else:\n",
    "            #2017年的url特殊，单独处理\n",
    "            major_list=['文科','理科']\n",
    "        for m in major_list:\n",
    "            #按文理迭代\n",
    "            major_dict={'scienceClass':'{}'.format(m)}\n",
    "            major_url=parse.urlencode(major_dict)\n",
    "            for p in range(len(province_list)):\n",
    "                #按省迭代\n",
    "                cityname_dict={'cityName':'{}'.format(province_list[p])}\n",
    "                cityname_url=parse.urlencode(cityname_dict)\n",
    "                #print(cityname_url)\n",
    "                #加上随机伪装头\n",
    "                try:\n",
    "                    #异常处理\n",
    "                    r=requests.get(\"http://admin.zhinengdayi.com/front/enroll/findMajorScoreCompareList?sCode=FCHTWR&{}&year={}&{}&type={}&batch={}\".format(cityname_url,y,major_url,'%E6%99%AE%E9%80%9A%E6%96%87%E7%90%86','%E6%9C%AC%E7%A7%91%E4%B8%80%E6%89%B9')\n",
    "                              ,headers={\n",
    "                    'User-Agent': get_user_agent_pc()})\n",
    "                    jsonlib=r.json()\n",
    "                except:\n",
    "                    print(\"Spider of {}-{}-{} went wrong!\".format(y,m,province_list[p]))\n",
    "                    break\n",
    "                for index in range(len(jsonlib['list'])):\n",
    "                    info_list=[]\n",
    "                    info_string=\"西北大学,{},{},{},{},{},61518407李浩瑞\".format(y,province_list[p],m,jsonlib['list'][index]['majorName'],int(jsonlib['list'][index]['lowScore']))\n",
    "                    #作业要求“文科”和“理科”，因此进行字符串替换\n",
    "                    info_string=info_string.replace('文史','文科')\n",
    "                    info_string=info_string.replace('理工','理科')\n",
    "                    info_list=info_string.split(\",\")\n",
    "                    csv_list.append(info_list)\n",
    "    return csv_list\n",
    "\n",
    "def write_csv(csv_list):\n",
    "    '''\n",
    "    将爬取到的信息写入csv文件中\n",
    "    csv_list:按\"学校-年份-省份-文理-专业-得分-贡献值者\"排列的二维数组\n",
    "    '''\n",
    "    s_head=\"College Year Province Category Major Score Contributor\"#写入表头\n",
    "    csv_head=[]\n",
    "    csv_head=s_head.split(\" \")\n",
    "    with open('61518407李浩瑞-西北大学.csv', 'w', newline='') as csvfile:\n",
    "        #写入表单数据\n",
    "        writer  = csv.writer(csvfile)\n",
    "        writer.writerow(csv_head)\n",
    "        for row in csv_list:\n",
    "            writer.writerow(row)\n",
    "            \n",
    "if __name__==\"__main__\":\n",
    "    csv_list=spider()#爬取数据存入列表\n",
    "    write_csv(csv_list)#写入文件\n",
    "    print(\"Finish!\")"
   ]
  },
  {
   "cell_type": "code",
   "execution_count": null,
   "metadata": {},
   "outputs": [],
   "source": []
  },
  {
   "cell_type": "code",
   "execution_count": null,
   "metadata": {},
   "outputs": [],
   "source": []
  },
  {
   "cell_type": "markdown",
   "metadata": {},
   "source": [
    "# 最后一次Beautiful Soup"
   ]
  },
  {
   "cell_type": "code",
   "execution_count": null,
   "metadata": {},
   "outputs": [],
   "source": []
  },
  {
   "cell_type": "code",
   "execution_count": null,
   "metadata": {},
   "outputs": [],
   "source": []
  },
  {
   "cell_type": "code",
   "execution_count": null,
   "metadata": {},
   "outputs": [],
   "source": []
  },
  {
   "cell_type": "code",
   "execution_count": null,
   "metadata": {},
   "outputs": [],
   "source": []
  },
  {
   "cell_type": "code",
   "execution_count": 26,
   "metadata": {},
   "outputs": [],
   "source": [
    "import requests\n",
    "from urllib import parse\n",
    "import json"
   ]
  },
  {
   "cell_type": "code",
   "execution_count": 30,
   "metadata": {
    "scrolled": false
   },
   "outputs": [],
   "source": [
    "from bs4 import BeautifulSoup \n",
    "file = open(\"./NWU.html\",\"rb\")\n",
    "html = file.read().decode(\"utf-8\")\n",
    "soup = BeautifulSoup(html,'html.parser')\n",
    "#32个省、市招生\n",
    "options_list=[]\n",
    "for options in soup.find_all(name ='option'):\n",
    "    options_list.append(options.string)\n",
    "#print(soup.find_all(name='option'))\n",
    "#print(type(soup.ul.par)) \n",
    "#print(list(enumerate(soup.select)))"
   ]
  },
  {
   "cell_type": "code",
   "execution_count": 31,
   "metadata": {},
   "outputs": [],
   "source": [
    "province_list=options_list[0:31]#取招生省份"
   ]
  },
  {
   "cell_type": "code",
   "execution_count": 32,
   "metadata": {},
   "outputs": [
    {
     "data": {
      "text/plain": [
       "['北京',\n",
       " '天津',\n",
       " '河北',\n",
       " '山西',\n",
       " '内蒙古',\n",
       " '辽宁',\n",
       " '吉林',\n",
       " '黑龙江',\n",
       " '上海',\n",
       " '江苏',\n",
       " '浙江',\n",
       " '安徽',\n",
       " '福建',\n",
       " '江西',\n",
       " '山东',\n",
       " '河南',\n",
       " '湖北',\n",
       " '湖南',\n",
       " '广东',\n",
       " '广西',\n",
       " '海南',\n",
       " '重庆',\n",
       " '四川',\n",
       " '贵州',\n",
       " '云南',\n",
       " '西藏',\n",
       " '陕西',\n",
       " '甘肃',\n",
       " '青海',\n",
       " '宁夏',\n",
       " '新疆']"
      ]
     },
     "execution_count": 32,
     "metadata": {},
     "output_type": "execute_result"
    }
   ],
   "source": [
    "province_list"
   ]
  },
  {
   "cell_type": "code",
   "execution_count": 33,
   "metadata": {},
   "outputs": [],
   "source": [
    "province_list=['北京', '天津', '河北', '山西', '内蒙古', '辽宁', '吉林', '黑龙江',\n",
    "               '上海', '江苏', '浙江', '安徽', '福建', '江西','山东', '河南', '湖北',\n",
    "               '湖南', '广东', '广西', '海南', '重庆', '四川', '贵州', '云南', '西藏',\n",
    "               '陕西', '甘肃', '青海', '宁夏', '新疆']"
   ]
  },
  {
   "cell_type": "code",
   "execution_count": 4,
   "metadata": {
    "scrolled": false
   },
   "outputs": [
    {
     "name": "stdout",
     "output_type": "stream",
     "text": [
      "[['西北大学', '2018', '北京', '文史', '金融学', '623', '61518407李浩瑞'], ['西北大学', '2018', '天津', '文史', '英语', '596', '61518407李浩瑞'], ['西北大学', '2018', '河北', '文史', '公共管理类', '637', '61518407李浩瑞'], ['西北大学', '2018', '山西', '文史', '图书情报与档案管理类', '588', '61518407李浩瑞'], ['西北大学', '2018', '内蒙古', '文史', '公共管理类', '577', '61518407李浩瑞'], ['西北大学', '2018', '辽宁', '文史', '公共管理类', '593', '61518407李浩瑞'], ['西北大学', '2018', '吉林', '文史', '公共管理类', '570', '61518407李浩瑞'], ['西北大学', '2018', '黑龙江', '文史', '图书情报与档案管理类', '559', '61518407李浩瑞'], ['西北大学', '2018', '黑龙江', '文史', '图书情报与档案管理类', '559', '61518407李浩瑞'], ['西北大学', '2018', '江苏', '文史', '公共管理类', '360', '61518407李浩瑞'], ['西北大学', '2018', '江苏', '文史', '公共管理类', '360', '61518407李浩瑞'], ['西北大学', '2018', '安徽', '文史', '考古学', '619', '61518407李浩瑞'], ['西北大学', '2018', '福建', '文史', '公共管理类', '599', '61518407李浩瑞'], ['西北大学', '2018', '江西', '文史', '图书情报与档案管理', '611', '61518407李浩瑞'], ['西北大学', '2018', '山东', '文史', '图书情报与档案管理类', '612', '61518407李浩瑞'], ['西北大学', '2018', '河南', '文史', '公共管理类', '617', '61518407李浩瑞'], ['西北大学', '2018', '湖北', '文史', '旅游管理', '610', '61518407李浩瑞'], ['西北大学', '2018', '湖南', '文史', '哲学', '626', '61518407李浩瑞'], ['西北大学', '2018', '广东', '文史', '英语', '583', '61518407李浩瑞'], ['西北大学', '2018', '广西', '文史', '考古学', '590', '61518407李浩瑞'], ['西北大学', '2018', '海南', '文史', '新闻传播学类', '720', '61518407李浩瑞'], ['西北大学', '2018', '重庆', '文史', '新闻传播学类', '568', '61518407李浩瑞'], ['西北大学', '2018', '四川', '文史', '英语', '595', '61518407李浩瑞'], ['西北大学', '2018', '贵州', '文史', '图书情报与档案管理类', '631', '61518407李浩瑞'], ['西北大学', '2018', '云南', '文史', '英语', '621', '61518407李浩瑞'], ['西北大学', '2018', '云南', '文史', '英语', '621', '61518407李浩瑞'], ['西北大学', '2018', '陕西', '文史', '图书情报与档案管理类', '584', '61518407李浩瑞'], ['西北大学', '2018', '甘肃', '文史', '旅游管理', '558', '61518407李浩瑞'], ['西北大学', '2018', '青海', '文史', '旅游管理', '519', '61518407李浩瑞'], ['西北大学', '2018', '宁夏', '文史', '图书情报与档案管理类', '586', '61518407李浩瑞'], ['西北大学', '2018', '新疆', '文史', '汉语国际教育', '568', '61518407李浩瑞']]\n"
     ]
    }
   ],
   "source": [
    "csv_list=[]\n",
    "for p in range(len(province_list)):\n",
    "    cityname_dict={'cityName':'{}'.format(province_list[p])}\n",
    "    cityname_url=parse.urlencode(cityname_dict)\n",
    "    #print(cityname_url)\n",
    "    r=requests.get(\"http://admin.zhinengdayi.com/front/enroll/findMajorScoreCompareList?sCode=FCHTWR&{}&year={}&scienceClass={}&type={}&batch={}\".format(cityname_url,'2018','%E6%96%87%E5%8F%B2','%E6%99%AE%E9%80%9A%E6%96%87%E7%90%86','%E6%9C%AC%E7%A7%91%E4%B8%80%E6%89%B9'))\n",
    "    jsonlib=r.json()\n",
    "    for index in range(len(jsonlib['list'])):\n",
    "        info_list=[]\n",
    "        info_string=\"西北大学,2018,{},文史,{},{},61518407李浩瑞\".format(province_list[p],jsonlib['list'][index]['majorName'],int(jsonlib['list'][index]['lowScore']))\n",
    "        info_list=info_string.split(\",\")\n",
    "    csv_list.append(info_list)\n",
    "print(csv_list)\n",
    "        #print(province_list[p])\n",
    "        #print(jsonlib['list'][index]['majorName'])\n",
    "        #print(jsonlib['list'][index]['lowScore'])"
   ]
  },
  {
   "cell_type": "markdown",
   "metadata": {},
   "source": [
    "## 随机伪装头"
   ]
  },
  {
   "cell_type": "code",
   "execution_count": 37,
   "metadata": {},
   "outputs": [],
   "source": [
    "import random\n",
    "# pc端的user-agent\n",
    "user_agent_pc = [\n",
    "    # 谷歌\n",
    "    'Mozilla/5.0.html (Windows NT 6.1; WOW64) AppleWebKit/537.36 (KHTML, like Gecko) Chrome/39.0.html.2171.71 Safari/537.36',\n",
    "    'Mozilla/5.0.html (X11; Linux x86_64) AppleWebKit/537.11 (KHTML, like Gecko) Chrome/23.0.html.1271.64 Safari/537.11',\n",
    "    'Mozilla/5.0.html (Windows; U; Windows NT 6.1; en-US) AppleWebKit/534.16 (KHTML, like Gecko) Chrome/10.0.html.648.133 Safari/534.16',\n",
    "    # 火狐\n",
    "    'Mozilla/5.0.html (Windows NT 6.1; WOW64; rv:34.0.html) Gecko/20100101 Firefox/34.0.html',\n",
    "    'Mozilla/5.0.html (X11; U; Linux x86_64; zh-CN; rv:1.9.2.10) Gecko/20100922 Ubuntu/10.10 (maverick) Firefox/3.6.10',\n",
    "    # opera\n",
    "    'Mozilla/5.0.html (Windows NT 6.1; WOW64) AppleWebKit/537.36 (KHTML, like Gecko) Chrome/39.0.html.2171.95 Safari/537.36 OPR/26.0.html.1656.60',\n",
    "    # qq浏览器\n",
    "    'Mozilla/5.0.html (compatible; MSIE 9.0.html; Windows NT 6.1; WOW64; Trident/5.0.html; SLCC2; .NET CLR 2.0.html.50727; .NET CLR 3.5.30729; .NET CLR 3.0.html.30729; Media Center PC 6.0.html; .NET4.0C; .NET4.0E; QQBrowser/7.0.html.3698.400)',\n",
    "    # 搜狗浏览器\n",
    "    'Mozilla/5.0.html (Windows NT 5.1) AppleWebKit/535.11 (KHTML, like Gecko) Chrome/17.0.html.963.84 Safari/535.11 SE 2.X MetaSr 1.0.html',\n",
    "    # 360浏览器\n",
    "    'Mozilla/5.0.html (Windows NT 6.1; WOW64) AppleWebKit/537.36 (KHTML, like Gecko) Chrome/30.0.html.1599.101 Safari/537.36',\n",
    "    'Mozilla/5.0.html (Windows NT 6.1; WOW64; Trident/7.0.html; rv:11.0.html) like Gecko',\n",
    "    # uc浏览器\n",
    "    'Mozilla/5.0.html (Windows NT 6.1; WOW64) AppleWebKit/537.36 (KHTML, like Gecko) Chrome/38.0.html.2125.122 UBrowser/4.0.html.3214.0.html Safari/537.36',\n",
    "]\n",
    "\n",
    "def get_user_agent_pc():\n",
    "    return random.choice(user_agent_pc)"
   ]
  },
  {
   "cell_type": "code",
   "execution_count": 38,
   "metadata": {},
   "outputs": [],
   "source": [
    "year_list=['2019','2018','2017']#业务要求三年的分数\n",
    "major_list=['文史','理工']"
   ]
  },
  {
   "cell_type": "code",
   "execution_count": 39,
   "metadata": {},
   "outputs": [
    {
     "name": "stdout",
     "output_type": "stream",
     "text": [
      "2019\n",
      "2018\n",
      "2017\n"
     ]
    }
   ],
   "source": [
    "for y in year_list:\n",
    "    print(y)"
   ]
  },
  {
   "cell_type": "code",
   "execution_count": 73,
   "metadata": {},
   "outputs": [],
   "source": [
    "import csv\n",
    "csv_list=list()\n",
    "info_list=list()\n",
    "\n",
    "for y in (year_list):\n",
    "    #按年迭代\n",
    "    if (y=='2019') or (y=='2018'):\n",
    "        major_list=['文史','理工']\n",
    "    else:\n",
    "        major_list=['文科','理科']\n",
    "    for m in major_list:\n",
    "        #按文理迭代\n",
    "        major_dict={'scienceClass':'{}'.format(m)}\n",
    "        major_url=parse.urlencode(major_dict)\n",
    "        for p in range(len(province_list)):\n",
    "            #按省迭代\n",
    "            cityname_dict={'cityName':'{}'.format(province_list[p])}\n",
    "            cityname_url=parse.urlencode(cityname_dict)\n",
    "            #print(cityname_url)\n",
    "            #加上随机伪装头\n",
    "            r=requests.get(\"http://admin.zhinengdayi.com/front/enroll/findMajorScoreCompareList?sCode=FCHTWR&{}&year={}&{}&type={}&batch={}\".format(cityname_url,y,major_url,'%E6%99%AE%E9%80%9A%E6%96%87%E7%90%86','%E6%9C%AC%E7%A7%91%E4%B8%80%E6%89%B9')\n",
    "                          ,headers={\n",
    "                'User-Agent': get_user_agent_pc()})\n",
    "            jsonlib=r.json()\n",
    "            for index in range(len(jsonlib['list'])):\n",
    "                info_list=[]\n",
    "                info_string=\"西北大学,{},{},{},{},{},61518407李浩瑞\".format(y,province_list[p],m,jsonlib['list'][index]['majorName'],int(jsonlib['list'][index]['lowScore']))\n",
    "                #作业要求“文科”和“理科”，因此进行字符串替换\n",
    "                info_string=info_string.replace('文史','文科')\n",
    "                info_string=info_string.replace('理工','理科')\n",
    "                info_list=info_string.split(\",\")\n",
    "                csv_list.append(info_list)\n",
    "#print(csv_list)\n",
    "s_head=\"College Year Province Category Major Score Contributor\"\n",
    "csv_head=[]\n",
    "csv_head=s_head.split(\" \")\n",
    "with open('TEST.csv', 'w', newline='') as csvfile:\n",
    "    writer  = csv.writer(csvfile)\n",
    "    writer.writerow(csv_head)\n",
    "    for row in csv_list:\n",
    "        writer.writerow(row)"
   ]
  },
  {
   "cell_type": "code",
   "execution_count": 72,
   "metadata": {
    "scrolled": false
   },
   "outputs": [
    {
     "name": "stdout",
     "output_type": "stream",
     "text": [
      "http://admin.zhinengdayi.com/front/enroll/findMajorScoreCompareList?sCode=FCHTWR&cityName=%E9%99%95%E8%A5%BF&year=2017&scienceClass=%E6%96%87%E7%A7%91&type=%E6%99%AE%E9%80%9A%E6%96%87%E7%90%86&batch=\n",
      "http://admin.zhinengdayi.com/front/enroll/findMajorScoreCompareList?sCode=FCHTWR&cityName=%E9%99%95%E8%A5%BF&year=2017&scienceClass=%E7%90%86%E7%A7%91&type=%E6%99%AE%E9%80%9A%E6%96%87%E7%90%86&batch=\n"
     ]
    }
   ],
   "source": [
    "new_major_list=['文科','理科']\n",
    "for m in new_major_list:\n",
    "    major_dict={'scienceClass':'{}'.format(m)}\n",
    "    major_url=parse.urlencode(major_dict)\n",
    "    for p in range(len(province_list)):\n",
    "        cityname_dict={'cityName':'{}'.format(province_list[p])}\n",
    "        cityname_url=parse.urlencode(cityname_dict)\n",
    "        if province_list[p]=='陕西':\n",
    "            print(\"http://admin.zhinengdayi.com/front/enroll/findMajorScoreCompareList?sCode=FCHTWR&{}&year=2017&{}&type=%E6%99%AE%E9%80%9A%E6%96%87%E7%90%86&batch=\".format(cityname_url,major_url))\n",
    "        #发现scienceclass不一样\n",
    "        #print(cityname_url)\n",
    "        #r=requests.get(\"http://admin.zhinengdayi.com/front/enroll/findMajorScoreCompareList?sCode=FCHTWR&{}&year=2017&{}&type=%E6%99%AE%E9%80%9A%E6%96%87%E7%90%86&batch=\".format(cityname_url,major_url)\n",
    "        #                           ,headers={\n",
    "        #        'User-Agent': get_user_agent_pc()})\n",
    "        #jsonlib=r.json()\n",
    "        #for index in range(len(jsonlib['list'])):\n",
    "        #    info_list=[]\n",
    "        #    info_string=\"西北大学,2017,{},{},{},{},61518407李浩瑞\".format(province_list[p],m,jsonlib['list'][index]['majorName'],int(jsonlib['list'][index]['lowScore']))\n",
    "        #    info_list=info_string.split(\",\")\n",
    "        \n",
    "#http://admin.zhinengdayi.com/front/enroll/findMajorScoreCompareList?sCode=FCHTWR&cityName=%E9%99%95%E8%A5%BF&year=2017&scienceClass=%E6%96%87%E7%A7%91&type=%E6%99%AE%E9%80%9A%E6%96%87%E7%90%86&batch=\n",
    "#http://admin.zhinengdayi.com/front/enroll/findMajorScoreCompareList?sCode=FCHTWR&cityName=%E9%99%95%E8%A5%BF&year=2019&scienceClass=%E6%96%87%E5%8F%B2&type=%E6%99%AE%E9%80%9A%E6%96%87%E7%90%86&batch=\n",
    "#http://admin.zhinengdayi.com/front/enroll/findMajorScoreCompareList?sCode=FCHTWR&cityName=%E9%99%95%E8%A5%BF&year=2017&scienceClass=%E\n",
    "#6%96%87%E7%A7%91&type=%E6%99%AE%E9%80%9A%E6%96%87%E7%90%86&batch="
   ]
  },
  {
   "cell_type": "code",
   "execution_count": 60,
   "metadata": {},
   "outputs": [
    {
     "data": {
      "text/plain": [
       "['西北大学', '新疆', '2018', '理工', '软件工程', '571', '61518407李浩瑞']"
      ]
     },
     "execution_count": 60,
     "metadata": {},
     "output_type": "execute_result"
    }
   ],
   "source": [
    "info_list"
   ]
  },
  {
   "cell_type": "code",
   "execution_count": 36,
   "metadata": {},
   "outputs": [],
   "source": [
    "#没有2017？"
   ]
  },
  {
   "cell_type": "code",
   "execution_count": 27,
   "metadata": {
    "scrolled": true
   },
   "outputs": [
    {
     "name": "stdout",
     "output_type": "stream",
     "text": [
      "['西北大学', '2017', '北京', '文史', '考古学', '607', '61518407李浩瑞']\n",
      "['西北大学', '2017', '北京', '文史', '金融学', '595', '61518407李浩瑞']\n",
      "['西北大学', '2017', '天津', '文史', '金融学', '574', '61518407李浩瑞']\n",
      "['西北大学', '2017', '天津', '文史', '法学', '571', '61518407李浩瑞']\n",
      "['西北大学', '2017', '天津', '文史', '汉语国际教育', '569', '61518407李浩瑞']\n",
      "['西北大学', '2017', '天津', '文史', '历史学类', '574', '61518407李浩瑞']\n",
      "['西北大学', '2017', '天津', '文史', '汉语言文学', '572', '61518407李浩瑞']\n",
      "['西北大学', '2017', '天津', '文史', '新闻传播学类', '568', '61518407李浩瑞']\n",
      "['西北大学', '2017', '天津', '文史', '图书情报与档案管理类', '569', '61518407李浩瑞']\n",
      "['西北大学', '2017', '河北', '文史', '国际经济与贸易', '611', '61518407李浩瑞']\n",
      "['西北大学', '2017', '河北', '文史', '法学', '607', '61518407李浩瑞']\n",
      "['西北大学', '2017', '河北', '文史', '新闻传播学类', '607', '61518407李浩瑞']\n",
      "['西北大学', '2017', '河北', '文史', '英语', '606', '61518407李浩瑞']\n",
      "['西北大学', '2017', '河北', '文史', '历史学类', '604', '61518407李浩瑞']\n",
      "['西北大学', '2017', '河北', '文史', '公共管理类', '605', '61518407李浩瑞']\n",
      "['西北大学', '2017', '河北', '文史', '图书情报与档案管理类', '604', '61518407李浩瑞']\n",
      "['西北大学', '2017', '山西', '文史', '社会工作', '559', '61518407李浩瑞']\n",
      "['西北大学', '2017', '山西', '文史', '新闻传播学类', '562', '61518407李浩瑞']\n",
      "['西北大学', '2017', '山西', '文史', '汉语言文学', '561', '61518407李浩瑞']\n",
      "['西北大学', '2017', '山西', '文史', '英语', '560', '61518407李浩瑞']\n",
      "['西北大学', '2017', '山西', '文史', '日语', '560', '61518407李浩瑞']\n",
      "['西北大学', '2017', '山西', '文史', '历史学类', '561', '61518407李浩瑞']\n",
      "['西北大学', '2017', '山西', '文史', '公共管理类', '560', '61518407李浩瑞']\n",
      "['西北大学', '2017', '内蒙古', '文史', '法学', '560', '61518407李浩瑞']\n",
      "['西北大学', '2017', '内蒙古', '文史', '汉语言文学', '557', '61518407李浩瑞']\n",
      "['西北大学', '2017', '内蒙古', '文史', '汉语国际教育', '555', '61518407李浩瑞']\n",
      "['西北大学', '2017', '内蒙古', '文史', '新闻传播学类', '555', '61518407李浩瑞']\n",
      "['西北大学', '2017', '内蒙古', '文史', '考古学', '556', '61518407李浩瑞']\n",
      "['西北大学', '2017', '内蒙古', '文史', '工商管理类', '556', '61518407李浩瑞']\n",
      "['西北大学', '2017', '内蒙古', '文史', '公共管理类', '557', '61518407李浩瑞']\n",
      "['西北大学', '2017', '辽宁', '文史', '法学', '576', '61518407李浩瑞']\n",
      "['西北大学', '2017', '辽宁', '文史', '新闻传播学类', '577', '61518407李浩瑞']\n",
      "['西北大学', '2017', '辽宁', '文史', '汉语言文学', '579', '61518407李浩瑞']\n",
      "['西北大学', '2017', '辽宁', '文史', '英语', '574', '61518407李浩瑞']\n",
      "['西北大学', '2017', '辽宁', '文史', '日语', '573', '61518407李浩瑞']\n",
      "['西北大学', '2017', '辽宁', '文史', '历史学类', '578', '61518407李浩瑞']\n",
      "['西北大学', '2017', '辽宁', '文史', '公共管理类', '575', '61518407李浩瑞']\n",
      "['西北大学', '2017', '吉林', '文史', '法学', '582', '61518407李浩瑞']\n",
      "['西北大学', '2017', '吉林', '文史', '汉语言文学', '561', '61518407李浩瑞']\n",
      "['西北大学', '2017', '吉林', '文史', '汉语国际教育', '553', '61518407李浩瑞']\n",
      "['西北大学', '2017', '吉林', '文史', '英语', '553', '61518407李浩瑞']\n",
      "['西北大学', '2017', '吉林', '文史', '日语', '551', '61518407李浩瑞']\n",
      "['西北大学', '2017', '吉林', '文史', '历史学类', '555', '61518407李浩瑞']\n",
      "['西北大学', '2017', '黑龙江', '文史', '财政学', '559', '61518407李浩瑞']\n",
      "['西北大学', '2017', '黑龙江', '文史', '工商管理类', '560', '61518407李浩瑞']\n",
      "['西北大学', '2017', '黑龙江', '文史', '新闻传播学类', '558', '61518407李浩瑞']\n",
      "['西北大学', '2017', '黑龙江', '文史', '历史学类', '555', '61518407李浩瑞']\n",
      "['西北大学', '2017', '黑龙江', '文史', '考古学', '554', '61518407李浩瑞']\n",
      "['西北大学', '2017', '黑龙江', '文史', '图书情报与档案管理类', '551', '61518407李浩瑞']\n",
      "['西北大学', '2017', '江苏', '文史', '哲学', '352', '61518407李浩瑞']\n",
      "['西北大学', '2017', '江苏', '文史', '财政学', '354', '61518407李浩瑞']\n",
      "['西北大学', '2017', '江苏', '文史', '法学', '353', '61518407李浩瑞']\n",
      "['西北大学', '2017', '江苏', '文史', '新闻传播学类', '353', '61518407李浩瑞']\n",
      "['西北大学', '2017', '江苏', '文史', '汉语言文学', '353', '61518407李浩瑞']\n",
      "['西北大学', '2017', '江苏', '文史', '汉语国际教育', '353', '61518407李浩瑞']\n",
      "['西北大学', '2017', '江苏', '文史', '历史学类', '352', '61518407李浩瑞']\n",
      "['西北大学', '2017', '江苏', '文史', '考古学', '353', '61518407李浩瑞']\n",
      "['西北大学', '2017', '安徽', '文史', '财政学', '580', '61518407李浩瑞']\n",
      "['西北大学', '2017', '安徽', '文史', '金融学', '581', '61518407李浩瑞']\n",
      "['西北大学', '2017', '安徽', '文史', '工商管理类', '581', '61518407李浩瑞']\n",
      "['西北大学', '2017', '安徽', '文史', '旅游管理', '579', '61518407李浩瑞']\n",
      "['西北大学', '2017', '安徽', '文史', '汉语国际教育', '580', '61518407李浩瑞']\n",
      "['西北大学', '2017', '安徽', '文史', '日语', '579', '61518407李浩瑞']\n",
      "['西北大学', '2017', '安徽', '文史', '历史学类', '580', '61518407李浩瑞']\n",
      "['西北大学', '2017', '安徽', '文史', '公共管理类', '580', '61518407李浩瑞']\n",
      "['西北大学', '2017', '福建', '文史', '金融学', '546', '61518407李浩瑞']\n",
      "['西北大学', '2017', '福建', '文史', '法学', '544', '61518407李浩瑞']\n",
      "['西北大学', '2017', '福建', '文史', '新闻传播学类', '544', '61518407李浩瑞']\n",
      "['西北大学', '2017', '福建', '文史', '汉语言文学', '546', '61518407李浩瑞']\n",
      "['西北大学', '2017', '福建', '文史', '汉语国际教育', '543', '61518407李浩瑞']\n",
      "['西北大学', '2017', '福建', '文史', '英语', '543', '61518407李浩瑞']\n",
      "['西北大学', '2017', '福建', '文史', '历史学类', '547', '61518407李浩瑞']\n",
      "['西北大学', '2017', '福建', '文史', '图书情报与档案管理类', '542', '61518407李浩瑞']\n",
      "['西北大学', '2017', '江西', '文史', '财政学', '580', '61518407李浩瑞']\n",
      "['西北大学', '2017', '江西', '文史', '工商管理类', '579', '61518407李浩瑞']\n",
      "['西北大学', '2017', '江西', '文史', '英语', '579', '61518407李浩瑞']\n",
      "['西北大学', '2017', '江西', '文史', '公共管理类', '577', '61518407李浩瑞']\n",
      "['西北大学', '2017', '江西', '文史', '图书情报与档案管理类', '576', '61518407李浩瑞']\n",
      "['西北大学', '2017', '山东', '文史', '哲学', '587', '61518407李浩瑞']\n",
      "['西北大学', '2017', '山东', '文史', '国际经济与贸易', '589', '61518407李浩瑞']\n",
      "['西北大学', '2017', '山东', '文史', '旅游管理', '587', '61518407李浩瑞']\n",
      "['西北大学', '2017', '山东', '文史', '新闻传播学类', '590', '61518407李浩瑞']\n",
      "['西北大学', '2017', '山东', '文史', '汉语言文学', '588', '61518407李浩瑞']\n",
      "['西北大学', '2017', '山东', '文史', '英语', '588', '61518407李浩瑞']\n",
      "['西北大学', '2017', '山东', '文史', '考古学', '588', '61518407李浩瑞']\n",
      "['西北大学', '2017', '山东', '文史', '公共管理类', '588', '61518407李浩瑞']\n",
      "['西北大学', '2017', '河南', '文史', '金融学', '591', '61518407李浩瑞']\n",
      "['西北大学', '2017', '河南', '文史', '工商管理类', '591', '61518407李浩瑞']\n",
      "['西北大学', '2017', '河南', '文史', '旅游管理', '589', '61518407李浩瑞']\n",
      "['西北大学', '2017', '河南', '文史', '法学', '590', '61518407李浩瑞']\n",
      "['西北大学', '2017', '河南', '文史', '日语', '588', '61518407李浩瑞']\n",
      "['西北大学', '2017', '河南', '文史', '历史学类', '590', '61518407李浩瑞']\n",
      "['西北大学', '2017', '河南', '文史', '公共管理类', '588', '61518407李浩瑞']\n",
      "['西北大学', '2017', '河南', '文史', '图书情报与档案管理类', '588', '61518407李浩瑞']\n",
      "['西北大学', '2017', '湖北', '文史', '金融学', '584', '61518407李浩瑞']\n",
      "['西北大学', '2017', '湖北', '文史', '工商管理类', '582', '61518407李浩瑞']\n",
      "['西北大学', '2017', '湖北', '文史', '法学', '582', '61518407李浩瑞']\n",
      "['西北大学', '2017', '湖北', '文史', '新闻传播学类', '582', '61518407李浩瑞']\n",
      "['西北大学', '2017', '湖北', '文史', '英语', '582', '61518407李浩瑞']\n",
      "['西北大学', '2017', '湖北', '文史', '日语', '582', '61518407李浩瑞']\n",
      "['西北大学', '2017', '湖北', '文史', '历史学类', '586', '61518407李浩瑞']\n",
      "['西北大学', '2017', '湖北', '文史', '公共管理类', '582', '61518407李浩瑞']\n",
      "['西北大学', '2017', '湖南', '文史', '哲学', '597', '61518407李浩瑞']\n",
      "['西北大学', '2017', '湖南', '文史', '财政学', '598', '61518407李浩瑞']\n",
      "['西北大学', '2017', '湖南', '文史', '金融学', '601', '61518407李浩瑞']\n",
      "['西北大学', '2017', '湖南', '文史', '旅游管理', '597', '61518407李浩瑞']\n",
      "['西北大学', '2017', '湖南', '文史', '新闻传播学类', '601', '61518407李浩瑞']\n",
      "['西北大学', '2017', '湖南', '文史', '英语', '597', '61518407李浩瑞']\n",
      "['西北大学', '2017', '湖南', '文史', '历史学类', '600', '61518407李浩瑞']\n",
      "['西北大学', '2017', '湖南', '文史', '工商管理类', '598', '61518407李浩瑞']\n",
      "['西北大学', '2017', '湖南', '文史', '文物与博物馆学', '601', '61518407李浩瑞']\n",
      "['西北大学', '2017', '广东', '文史', '公共管理类', '559', '61518407李浩瑞']\n",
      "['西北大学', '2017', '广东', '文史', '图书情报与档案管理类', '553', '61518407李浩瑞']\n",
      "['西北大学', '2017', '广西', '文史', '英语', '578', '61518407李浩瑞']\n",
      "['西北大学', '2017', '广西', '文史', '新闻传播学类', '582', '61518407李浩瑞']\n",
      "['西北大学', '2017', '广西', '文史', '公共管理类', '582', '61518407李浩瑞']\n",
      "['西北大学', '2017', '海南', '文史', '工商管理类', '719', '61518407李浩瑞']\n",
      "['西北大学', '2017', '海南', '文史', '法学', '721', '61518407李浩瑞']\n",
      "['西北大学', '2017', '海南', '文史', '汉语言文学', '716', '61518407李浩瑞']\n",
      "['西北大学', '2017', '海南', '文史', '英语', '725', '61518407李浩瑞']\n",
      "['西北大学', '2017', '海南', '文史', '公共管理类', '715', '61518407李浩瑞']\n",
      "['西北大学', '2017', '重庆', '文史', '汉语言文学', '575', '61518407李浩瑞']\n",
      "['西北大学', '2017', '重庆', '文史', '新闻传播学类', '574', '61518407李浩瑞']\n",
      "['西北大学', '2017', '重庆', '文史', '金融学', '593', '61518407李浩瑞']\n",
      "['西北大学', '2017', '重庆', '文史', '法学', '578', '61518407李浩瑞']\n",
      "['西北大学', '2017', '重庆', '文史', '公共管理类', '576', '61518407李浩瑞']\n",
      "['西北大学', '2017', '重庆', '文史', '汉语国际教育', '571', '61518407李浩瑞']\n",
      "['西北大学', '2017', '重庆', '文史', '英语', '571', '61518407李浩瑞']\n",
      "['西北大学', '2017', '重庆', '文史', '文物与博物馆学', '575', '61518407李浩瑞']\n",
      "['西北大学', '2017', '四川', '文史', '国际经济与贸易', '587', '61518407李浩瑞']\n",
      "['西北大学', '2017', '四川', '文史', '新闻传播学类', '585', '61518407李浩瑞']\n",
      "['西北大学', '2017', '四川', '文史', '汉语言文学', '585', '61518407李浩瑞']\n",
      "['西北大学', '2017', '四川', '文史', '英语', '583', '61518407李浩瑞']\n",
      "['西北大学', '2017', '四川', '文史', '公共管理类', '585', '61518407李浩瑞']\n",
      "['西北大学', '2017', '贵州', '文史', '财政学', '609', '61518407李浩瑞']\n",
      "['西北大学', '2017', '贵州', '文史', '社会工作', '607', '61518407李浩瑞']\n",
      "['西北大学', '2017', '贵州', '文史', '新闻传播学类', '609', '61518407李浩瑞']\n",
      "['西北大学', '2017', '贵州', '文史', '汉语言文学', '610', '61518407李浩瑞']\n",
      "['西北大学', '2017', '贵州', '文史', '汉语国际教育', '609', '61518407李浩瑞']\n",
      "['西北大学', '2017', '贵州', '文史', '考古学', '611', '61518407李浩瑞']\n",
      "['西北大学', '2017', '贵州', '文史', '文物与博物馆学', '608', '61518407李浩瑞']\n",
      "['西北大学', '2017', '贵州', '文史', '公共管理类', '612', '61518407李浩瑞']\n",
      "['西北大学', '2017', '贵州', '文史', '图书情报与档案管理类', '605', '61518407李浩瑞']\n"
     ]
    },
    {
     "name": "stdout",
     "output_type": "stream",
     "text": [
      "['西北大学', '2017', '云南', '文史', '财政学', '607', '61518407李浩瑞']\n",
      "['西北大学', '2017', '云南', '文史', '旅游管理', '600', '61518407李浩瑞']\n",
      "['西北大学', '2017', '云南', '文史', '社会工作', '601', '61518407李浩瑞']\n",
      "['西北大学', '2017', '云南', '文史', '汉语言文学', '606', '61518407李浩瑞']\n",
      "['西北大学', '2017', '云南', '文史', '历史学类', '606', '61518407李浩瑞']\n",
      "['西北大学', '2017', '云南', '文史', '考古学', '603', '61518407李浩瑞']\n",
      "['西北大学', '2017', '云南', '文史', '图书情报与档案管理类', '606', '61518407李浩瑞']\n",
      "['西北大学', '2017', '陕西', '文史', '哲学', '566', '61518407李浩瑞']\n",
      "['西北大学', '2017', '陕西', '文史', '财政学', '586', '61518407李浩瑞']\n",
      "['西北大学', '2017', '陕西', '文史', '金融学', '593', '61518407李浩瑞']\n",
      "['西北大学', '2017', '陕西', '文史', '国际经济与贸易', '582', '61518407李浩瑞']\n",
      "['西北大学', '2017', '陕西', '文史', '法学', '573', '61518407李浩瑞']\n",
      "['西北大学', '2017', '陕西', '文史', '社会工作', '566', '61518407李浩瑞']\n",
      "['西北大学', '2017', '陕西', '文史', '汉语言文学', '576', '61518407李浩瑞']\n",
      "['西北大学', '2017', '陕西', '文史', '英语', '570', '61518407李浩瑞']\n",
      "['西北大学', '2017', '陕西', '文史', '公共管理类', '567', '61518407李浩瑞']\n",
      "['西北大学', '2017', '陕西', '文史', '汉语国际教育', '575', '61518407李浩瑞']\n",
      "['西北大学', '2017', '陕西', '文史', '日语', '567', '61518407李浩瑞']\n",
      "['西北大学', '2017', '陕西', '文史', '新闻传播学类', '572', '61518407李浩瑞']\n",
      "['西北大学', '2017', '陕西', '文史', '历史学类', '571', '61518407李浩瑞']\n",
      "['西北大学', '2017', '陕西', '文史', '考古学', '575', '61518407李浩瑞']\n",
      "['西北大学', '2017', '陕西', '文史', '文物与博物馆学', '570', '61518407李浩瑞']\n",
      "['西北大学', '2017', '陕西', '文史', '工商管理类', '579', '61518407李浩瑞']\n",
      "['西北大学', '2017', '陕西', '文史', '图书情报与档案管理类', '566', '61518407李浩瑞']\n",
      "['西北大学', '2017', '陕西', '文史', '旅游管理', '568', '61518407李浩瑞']\n",
      "['西北大学', '2017', '甘肃', '文史', '哲学', '549', '61518407李浩瑞']\n",
      "['西北大学', '2017', '甘肃', '文史', '国际经济与贸易', '557', '61518407李浩瑞']\n",
      "['西北大学', '2017', '甘肃', '文史', '新闻传播学类', '559', '61518407李浩瑞']\n",
      "['西北大学', '2017', '甘肃', '文史', '英语', '553', '61518407李浩瑞']\n",
      "['西北大学', '2017', '甘肃', '文史', '历史学类', '551', '61518407李浩瑞']\n",
      "['西北大学', '2017', '甘肃', '文史', '公共管理类', '552', '61518407李浩瑞']\n",
      "['西北大学', '2017', '青海', '文史', '工商管理类', '524', '61518407李浩瑞']\n",
      "['西北大学', '2017', '青海', '文史', '旅游管理', '466', '61518407李浩瑞']\n",
      "['西北大学', '2017', '青海', '文史', '英语', '483', '61518407李浩瑞']\n",
      "['西北大学', '2017', '青海', '文史', '日语', '471', '61518407李浩瑞']\n",
      "['西北大学', '2017', '青海', '文史', '公共管理类', '478', '61518407李浩瑞']\n",
      "['西北大学', '2017', '宁夏', '文史', '工商管理类', '572', '61518407李浩瑞']\n",
      "['西北大学', '2017', '宁夏', '文史', '汉语国际教育', '567', '61518407李浩瑞']\n",
      "['西北大学', '2017', '宁夏', '文史', '英语', '568', '61518407李浩瑞']\n",
      "['西北大学', '2017', '宁夏', '文史', '日语', '567', '61518407李浩瑞']\n",
      "['西北大学', '2017', '宁夏', '文史', '公共管理类', '568', '61518407李浩瑞']\n",
      "['西北大学', '2017', '新疆', '文史', '财政学', '559', '61518407李浩瑞']\n",
      "['西北大学', '2017', '新疆', '文史', '金融学', '564', '61518407李浩瑞']\n",
      "['西北大学', '2017', '新疆', '文史', '国际经济与贸易', '555', '61518407李浩瑞']\n",
      "['西北大学', '2017', '新疆', '文史', '社会工作', '554', '61518407李浩瑞']\n",
      "['西北大学', '2017', '新疆', '文史', '新闻传播学类', '558', '61518407李浩瑞']\n",
      "['西北大学', '2017', '新疆', '文史', '日语', '554', '61518407李浩瑞']\n",
      "['西北大学', '2017', '新疆', '文史', '文物与博物馆学', '553', '61518407李浩瑞']\n",
      "['西北大学', '2017', '新疆', '文史', '公共管理类', '554', '61518407李浩瑞']\n",
      "['西北大学', '2017', '新疆', '文史', '图书情报与档案管理类', '553', '61518407李浩瑞']\n"
     ]
    }
   ],
   "source": [
    "#2017的url有改变，单独爬取\n",
    "for p in range(len(province_list)):\n",
    "    cityname_dict={'cityName':'{}'.format(province_list[p])}\n",
    "    cityname_url=parse.urlencode(cityname_dict)\n",
    "    #print(cityname_url)\n",
    "    r=requests.get(\"http://admin.zhinengdayi.com/front/enroll/findMajorScoreCompareList?sCode=FCHTWR&{}&year=2017&scienceClass=%E6%96%87%E7%A7%91&type=%E6%99%AE%E9%80%9A%E6%96%87%E7%90%86&batch=%E6%9C%AC%E7%A7%91%E4%B8%80%E6%89%B9\".format(cityname_url))\n",
    "    jsonlib=r.json()\n",
    "    for index in range(len(jsonlib['list'])):\n",
    "        info_list=[]\n",
    "        info_string=\"西北大学,2017,{},文史,{},{},61518407李浩瑞\".format(province_list[p],jsonlib['list'][index]['majorName'],int(jsonlib['list'][index]['lowScore']))\n",
    "        info_list=info_string.split(\",\")\n",
    "        print(info_list)"
   ]
  },
  {
   "cell_type": "markdown",
   "metadata": {},
   "source": [
    "## String的replace可以把“文史”变成“文科”\n",
    "\n",
    "https://blog.csdn.net/weixin_42342968/article/details/84105061"
   ]
  },
  {
   "cell_type": "code",
   "execution_count": null,
   "metadata": {},
   "outputs": [],
   "source": []
  },
  {
   "cell_type": "code",
   "execution_count": null,
   "metadata": {},
   "outputs": [],
   "source": []
  },
  {
   "cell_type": "code",
   "execution_count": null,
   "metadata": {},
   "outputs": [],
   "source": []
  },
  {
   "cell_type": "code",
   "execution_count": null,
   "metadata": {},
   "outputs": [],
   "source": []
  },
  {
   "cell_type": "code",
   "execution_count": null,
   "metadata": {},
   "outputs": [],
   "source": []
  },
  {
   "cell_type": "code",
   "execution_count": 10,
   "metadata": {
    "scrolled": true
   },
   "outputs": [
    {
     "name": "stdout",
     "output_type": "stream",
     "text": [
      "{'list': [{'id': 61685, 'majorName': '哲学', 'majorCategory': None, 'year': 2017, 'cityId': None, 'cityName': '江苏', 'scienceClass': '文科', 'enrollNum': None, 'hightScore': 352.0, 'lowScore': 352.0, 'avgScore': 352.0, 'sCode': 'FCHTWR', 'type': '普通文理', 'batch': '本科一批', 'isDelete': None, 'creator': None, 'createTime': None, 'modifier': None, 'modifyTime': None, 'remark': None, 'hasCat': None, 'hightScoreRank': None, 'lowScoreRank': None, 'avgScoreRank': None, 'provinceScore': None, 'schoolScore': None, 'templateType': None, 'ids': None, 'enrollPlan': None, 'scoreLine': 333.0, 'lowDiff': '19', 'avgDiff': '19', 'thanYear': None, 'isDependent': None, 'column': None, 'firstYear': None, 'secondYear': None, 'thirdYear': None, 'planLastYear': None, 'referType': None, 'pagination': None}, {'id': 61686, 'majorName': '财政学', 'majorCategory': None, 'year': 2017, 'cityId': None, 'cityName': '江苏', 'scienceClass': '文科', 'enrollNum': None, 'hightScore': 358.0, 'lowScore': 354.0, 'avgScore': 356.0, 'sCode': 'FCHTWR', 'type': '普通文理', 'batch': '本科一批', 'isDelete': None, 'creator': None, 'createTime': None, 'modifier': None, 'modifyTime': None, 'remark': None, 'hasCat': None, 'hightScoreRank': None, 'lowScoreRank': None, 'avgScoreRank': None, 'provinceScore': None, 'schoolScore': None, 'templateType': None, 'ids': None, 'enrollPlan': None, 'scoreLine': 333.0, 'lowDiff': '21', 'avgDiff': '23', 'thanYear': None, 'isDependent': None, 'column': None, 'firstYear': None, 'secondYear': None, 'thirdYear': None, 'planLastYear': None, 'referType': None, 'pagination': None}, {'id': 61687, 'majorName': '法学', 'majorCategory': None, 'year': 2017, 'cityId': None, 'cityName': '江苏', 'scienceClass': '文科', 'enrollNum': None, 'hightScore': 354.0, 'lowScore': 353.0, 'avgScore': 354.0, 'sCode': 'FCHTWR', 'type': '普通文理', 'batch': '本科一批', 'isDelete': None, 'creator': None, 'createTime': None, 'modifier': None, 'modifyTime': None, 'remark': None, 'hasCat': None, 'hightScoreRank': None, 'lowScoreRank': None, 'avgScoreRank': None, 'provinceScore': None, 'schoolScore': None, 'templateType': None, 'ids': None, 'enrollPlan': None, 'scoreLine': 333.0, 'lowDiff': '20', 'avgDiff': '21', 'thanYear': None, 'isDependent': None, 'column': None, 'firstYear': None, 'secondYear': None, 'thirdYear': None, 'planLastYear': None, 'referType': None, 'pagination': None}, {'id': 61688, 'majorName': '新闻传播学类', 'majorCategory': None, 'year': 2017, 'cityId': None, 'cityName': '江苏', 'scienceClass': '文科', 'enrollNum': None, 'hightScore': 359.0, 'lowScore': 353.0, 'avgScore': 356.0, 'sCode': 'FCHTWR', 'type': '普通文理', 'batch': '本科一批', 'isDelete': None, 'creator': None, 'createTime': None, 'modifier': None, 'modifyTime': None, 'remark': None, 'hasCat': None, 'hightScoreRank': None, 'lowScoreRank': None, 'avgScoreRank': None, 'provinceScore': None, 'schoolScore': None, 'templateType': None, 'ids': None, 'enrollPlan': None, 'scoreLine': 333.0, 'lowDiff': '20', 'avgDiff': '23', 'thanYear': None, 'isDependent': None, 'column': None, 'firstYear': None, 'secondYear': None, 'thirdYear': None, 'planLastYear': None, 'referType': None, 'pagination': None}, {'id': 61689, 'majorName': '汉语言文学', 'majorCategory': None, 'year': 2017, 'cityId': None, 'cityName': '江苏', 'scienceClass': '文科', 'enrollNum': None, 'hightScore': 355.0, 'lowScore': 353.0, 'avgScore': 354.0, 'sCode': 'FCHTWR', 'type': '普通文理', 'batch': '本科一批', 'isDelete': None, 'creator': None, 'createTime': None, 'modifier': None, 'modifyTime': None, 'remark': None, 'hasCat': None, 'hightScoreRank': None, 'lowScoreRank': None, 'avgScoreRank': None, 'provinceScore': None, 'schoolScore': None, 'templateType': None, 'ids': None, 'enrollPlan': None, 'scoreLine': 333.0, 'lowDiff': '20', 'avgDiff': '21', 'thanYear': None, 'isDependent': None, 'column': None, 'firstYear': None, 'secondYear': None, 'thirdYear': None, 'planLastYear': None, 'referType': None, 'pagination': None}, {'id': 61690, 'majorName': '汉语国际教育', 'majorCategory': None, 'year': 2017, 'cityId': None, 'cityName': '江苏', 'scienceClass': '文科', 'enrollNum': None, 'hightScore': 355.0, 'lowScore': 353.0, 'avgScore': 354.0, 'sCode': 'FCHTWR', 'type': '普通文理', 'batch': '本科一批', 'isDelete': None, 'creator': None, 'createTime': None, 'modifier': None, 'modifyTime': None, 'remark': None, 'hasCat': None, 'hightScoreRank': None, 'lowScoreRank': None, 'avgScoreRank': None, 'provinceScore': None, 'schoolScore': None, 'templateType': None, 'ids': None, 'enrollPlan': None, 'scoreLine': 333.0, 'lowDiff': '20', 'avgDiff': '21', 'thanYear': None, 'isDependent': None, 'column': None, 'firstYear': None, 'secondYear': None, 'thirdYear': None, 'planLastYear': None, 'referType': None, 'pagination': None}, {'id': 61691, 'majorName': '历史学类', 'majorCategory': None, 'year': 2017, 'cityId': None, 'cityName': '江苏', 'scienceClass': '文科', 'enrollNum': None, 'hightScore': 353.0, 'lowScore': 352.0, 'avgScore': 353.0, 'sCode': 'FCHTWR', 'type': '普通文理', 'batch': '本科一批', 'isDelete': None, 'creator': None, 'createTime': None, 'modifier': None, 'modifyTime': None, 'remark': None, 'hasCat': None, 'hightScoreRank': None, 'lowScoreRank': None, 'avgScoreRank': None, 'provinceScore': None, 'schoolScore': None, 'templateType': None, 'ids': None, 'enrollPlan': None, 'scoreLine': 333.0, 'lowDiff': '19', 'avgDiff': '20', 'thanYear': None, 'isDependent': None, 'column': None, 'firstYear': None, 'secondYear': None, 'thirdYear': None, 'planLastYear': None, 'referType': None, 'pagination': None}, {'id': 61692, 'majorName': '考古学', 'majorCategory': None, 'year': 2017, 'cityId': None, 'cityName': '江苏', 'scienceClass': '文科', 'enrollNum': None, 'hightScore': 362.0, 'lowScore': 353.0, 'avgScore': 358.0, 'sCode': 'FCHTWR', 'type': '普通文理', 'batch': '本科一批', 'isDelete': None, 'creator': None, 'createTime': None, 'modifier': None, 'modifyTime': None, 'remark': None, 'hasCat': None, 'hightScoreRank': None, 'lowScoreRank': None, 'avgScoreRank': None, 'provinceScore': None, 'schoolScore': None, 'templateType': None, 'ids': None, 'enrollPlan': None, 'scoreLine': 333.0, 'lowDiff': '20', 'avgDiff': '25', 'thanYear': None, 'isDependent': None, 'column': None, 'firstYear': None, 'secondYear': None, 'thirdYear': None, 'planLastYear': None, 'referType': None, 'pagination': None}], 'columnConfig': None}\n",
      "{'list': [{'id': 61685, 'majorName': '哲学', 'majorCategory': None, 'year': 2017, 'cityId': None, 'cityName': '江苏', 'scienceClass': '文科', 'enrollNum': None, 'hightScore': 352.0, 'lowScore': 352.0, 'avgScore': 352.0, 'sCode': 'FCHTWR', 'type': '普通文理', 'batch': '本科一批', 'isDelete': None, 'creator': None, 'createTime': None, 'modifier': None, 'modifyTime': None, 'remark': None, 'hasCat': None, 'hightScoreRank': None, 'lowScoreRank': None, 'avgScoreRank': None, 'provinceScore': None, 'schoolScore': None, 'templateType': None, 'ids': None, 'enrollPlan': None, 'scoreLine': 333.0, 'lowDiff': '19', 'avgDiff': '19', 'thanYear': None, 'isDependent': None, 'column': None, 'firstYear': None, 'secondYear': None, 'thirdYear': None, 'planLastYear': None, 'referType': None, 'pagination': None}, {'id': 61686, 'majorName': '财政学', 'majorCategory': None, 'year': 2017, 'cityId': None, 'cityName': '江苏', 'scienceClass': '文科', 'enrollNum': None, 'hightScore': 358.0, 'lowScore': 354.0, 'avgScore': 356.0, 'sCode': 'FCHTWR', 'type': '普通文理', 'batch': '本科一批', 'isDelete': None, 'creator': None, 'createTime': None, 'modifier': None, 'modifyTime': None, 'remark': None, 'hasCat': None, 'hightScoreRank': None, 'lowScoreRank': None, 'avgScoreRank': None, 'provinceScore': None, 'schoolScore': None, 'templateType': None, 'ids': None, 'enrollPlan': None, 'scoreLine': 333.0, 'lowDiff': '21', 'avgDiff': '23', 'thanYear': None, 'isDependent': None, 'column': None, 'firstYear': None, 'secondYear': None, 'thirdYear': None, 'planLastYear': None, 'referType': None, 'pagination': None}, {'id': 61687, 'majorName': '法学', 'majorCategory': None, 'year': 2017, 'cityId': None, 'cityName': '江苏', 'scienceClass': '文科', 'enrollNum': None, 'hightScore': 354.0, 'lowScore': 353.0, 'avgScore': 354.0, 'sCode': 'FCHTWR', 'type': '普通文理', 'batch': '本科一批', 'isDelete': None, 'creator': None, 'createTime': None, 'modifier': None, 'modifyTime': None, 'remark': None, 'hasCat': None, 'hightScoreRank': None, 'lowScoreRank': None, 'avgScoreRank': None, 'provinceScore': None, 'schoolScore': None, 'templateType': None, 'ids': None, 'enrollPlan': None, 'scoreLine': 333.0, 'lowDiff': '20', 'avgDiff': '21', 'thanYear': None, 'isDependent': None, 'column': None, 'firstYear': None, 'secondYear': None, 'thirdYear': None, 'planLastYear': None, 'referType': None, 'pagination': None}, {'id': 61688, 'majorName': '新闻传播学类', 'majorCategory': None, 'year': 2017, 'cityId': None, 'cityName': '江苏', 'scienceClass': '文科', 'enrollNum': None, 'hightScore': 359.0, 'lowScore': 353.0, 'avgScore': 356.0, 'sCode': 'FCHTWR', 'type': '普通文理', 'batch': '本科一批', 'isDelete': None, 'creator': None, 'createTime': None, 'modifier': None, 'modifyTime': None, 'remark': None, 'hasCat': None, 'hightScoreRank': None, 'lowScoreRank': None, 'avgScoreRank': None, 'provinceScore': None, 'schoolScore': None, 'templateType': None, 'ids': None, 'enrollPlan': None, 'scoreLine': 333.0, 'lowDiff': '20', 'avgDiff': '23', 'thanYear': None, 'isDependent': None, 'column': None, 'firstYear': None, 'secondYear': None, 'thirdYear': None, 'planLastYear': None, 'referType': None, 'pagination': None}, {'id': 61689, 'majorName': '汉语言文学', 'majorCategory': None, 'year': 2017, 'cityId': None, 'cityName': '江苏', 'scienceClass': '文科', 'enrollNum': None, 'hightScore': 355.0, 'lowScore': 353.0, 'avgScore': 354.0, 'sCode': 'FCHTWR', 'type': '普通文理', 'batch': '本科一批', 'isDelete': None, 'creator': None, 'createTime': None, 'modifier': None, 'modifyTime': None, 'remark': None, 'hasCat': None, 'hightScoreRank': None, 'lowScoreRank': None, 'avgScoreRank': None, 'provinceScore': None, 'schoolScore': None, 'templateType': None, 'ids': None, 'enrollPlan': None, 'scoreLine': 333.0, 'lowDiff': '20', 'avgDiff': '21', 'thanYear': None, 'isDependent': None, 'column': None, 'firstYear': None, 'secondYear': None, 'thirdYear': None, 'planLastYear': None, 'referType': None, 'pagination': None}, {'id': 61690, 'majorName': '汉语国际教育', 'majorCategory': None, 'year': 2017, 'cityId': None, 'cityName': '江苏', 'scienceClass': '文科', 'enrollNum': None, 'hightScore': 355.0, 'lowScore': 353.0, 'avgScore': 354.0, 'sCode': 'FCHTWR', 'type': '普通文理', 'batch': '本科一批', 'isDelete': None, 'creator': None, 'createTime': None, 'modifier': None, 'modifyTime': None, 'remark': None, 'hasCat': None, 'hightScoreRank': None, 'lowScoreRank': None, 'avgScoreRank': None, 'provinceScore': None, 'schoolScore': None, 'templateType': None, 'ids': None, 'enrollPlan': None, 'scoreLine': 333.0, 'lowDiff': '20', 'avgDiff': '21', 'thanYear': None, 'isDependent': None, 'column': None, 'firstYear': None, 'secondYear': None, 'thirdYear': None, 'planLastYear': None, 'referType': None, 'pagination': None}, {'id': 61691, 'majorName': '历史学类', 'majorCategory': None, 'year': 2017, 'cityId': None, 'cityName': '江苏', 'scienceClass': '文科', 'enrollNum': None, 'hightScore': 353.0, 'lowScore': 352.0, 'avgScore': 353.0, 'sCode': 'FCHTWR', 'type': '普通文理', 'batch': '本科一批', 'isDelete': None, 'creator': None, 'createTime': None, 'modifier': None, 'modifyTime': None, 'remark': None, 'hasCat': None, 'hightScoreRank': None, 'lowScoreRank': None, 'avgScoreRank': None, 'provinceScore': None, 'schoolScore': None, 'templateType': None, 'ids': None, 'enrollPlan': None, 'scoreLine': 333.0, 'lowDiff': '19', 'avgDiff': '20', 'thanYear': None, 'isDependent': None, 'column': None, 'firstYear': None, 'secondYear': None, 'thirdYear': None, 'planLastYear': None, 'referType': None, 'pagination': None}, {'id': 61692, 'majorName': '考古学', 'majorCategory': None, 'year': 2017, 'cityId': None, 'cityName': '江苏', 'scienceClass': '文科', 'enrollNum': None, 'hightScore': 362.0, 'lowScore': 353.0, 'avgScore': 358.0, 'sCode': 'FCHTWR', 'type': '普通文理', 'batch': '本科一批', 'isDelete': None, 'creator': None, 'createTime': None, 'modifier': None, 'modifyTime': None, 'remark': None, 'hasCat': None, 'hightScoreRank': None, 'lowScoreRank': None, 'avgScoreRank': None, 'provinceScore': None, 'schoolScore': None, 'templateType': None, 'ids': None, 'enrollPlan': None, 'scoreLine': 333.0, 'lowDiff': '20', 'avgDiff': '25', 'thanYear': None, 'isDependent': None, 'column': None, 'firstYear': None, 'secondYear': None, 'thirdYear': None, 'planLastYear': None, 'referType': None, 'pagination': None}], 'columnConfig': None}\n",
      "{'list': [{'id': 61685, 'majorName': '哲学', 'majorCategory': None, 'year': 2017, 'cityId': None, 'cityName': '江苏', 'scienceClass': '文科', 'enrollNum': None, 'hightScore': 352.0, 'lowScore': 352.0, 'avgScore': 352.0, 'sCode': 'FCHTWR', 'type': '普通文理', 'batch': '本科一批', 'isDelete': None, 'creator': None, 'createTime': None, 'modifier': None, 'modifyTime': None, 'remark': None, 'hasCat': None, 'hightScoreRank': None, 'lowScoreRank': None, 'avgScoreRank': None, 'provinceScore': None, 'schoolScore': None, 'templateType': None, 'ids': None, 'enrollPlan': None, 'scoreLine': 333.0, 'lowDiff': '19', 'avgDiff': '19', 'thanYear': None, 'isDependent': None, 'column': None, 'firstYear': None, 'secondYear': None, 'thirdYear': None, 'planLastYear': None, 'referType': None, 'pagination': None}, {'id': 61686, 'majorName': '财政学', 'majorCategory': None, 'year': 2017, 'cityId': None, 'cityName': '江苏', 'scienceClass': '文科', 'enrollNum': None, 'hightScore': 358.0, 'lowScore': 354.0, 'avgScore': 356.0, 'sCode': 'FCHTWR', 'type': '普通文理', 'batch': '本科一批', 'isDelete': None, 'creator': None, 'createTime': None, 'modifier': None, 'modifyTime': None, 'remark': None, 'hasCat': None, 'hightScoreRank': None, 'lowScoreRank': None, 'avgScoreRank': None, 'provinceScore': None, 'schoolScore': None, 'templateType': None, 'ids': None, 'enrollPlan': None, 'scoreLine': 333.0, 'lowDiff': '21', 'avgDiff': '23', 'thanYear': None, 'isDependent': None, 'column': None, 'firstYear': None, 'secondYear': None, 'thirdYear': None, 'planLastYear': None, 'referType': None, 'pagination': None}, {'id': 61687, 'majorName': '法学', 'majorCategory': None, 'year': 2017, 'cityId': None, 'cityName': '江苏', 'scienceClass': '文科', 'enrollNum': None, 'hightScore': 354.0, 'lowScore': 353.0, 'avgScore': 354.0, 'sCode': 'FCHTWR', 'type': '普通文理', 'batch': '本科一批', 'isDelete': None, 'creator': None, 'createTime': None, 'modifier': None, 'modifyTime': None, 'remark': None, 'hasCat': None, 'hightScoreRank': None, 'lowScoreRank': None, 'avgScoreRank': None, 'provinceScore': None, 'schoolScore': None, 'templateType': None, 'ids': None, 'enrollPlan': None, 'scoreLine': 333.0, 'lowDiff': '20', 'avgDiff': '21', 'thanYear': None, 'isDependent': None, 'column': None, 'firstYear': None, 'secondYear': None, 'thirdYear': None, 'planLastYear': None, 'referType': None, 'pagination': None}, {'id': 61688, 'majorName': '新闻传播学类', 'majorCategory': None, 'year': 2017, 'cityId': None, 'cityName': '江苏', 'scienceClass': '文科', 'enrollNum': None, 'hightScore': 359.0, 'lowScore': 353.0, 'avgScore': 356.0, 'sCode': 'FCHTWR', 'type': '普通文理', 'batch': '本科一批', 'isDelete': None, 'creator': None, 'createTime': None, 'modifier': None, 'modifyTime': None, 'remark': None, 'hasCat': None, 'hightScoreRank': None, 'lowScoreRank': None, 'avgScoreRank': None, 'provinceScore': None, 'schoolScore': None, 'templateType': None, 'ids': None, 'enrollPlan': None, 'scoreLine': 333.0, 'lowDiff': '20', 'avgDiff': '23', 'thanYear': None, 'isDependent': None, 'column': None, 'firstYear': None, 'secondYear': None, 'thirdYear': None, 'planLastYear': None, 'referType': None, 'pagination': None}, {'id': 61689, 'majorName': '汉语言文学', 'majorCategory': None, 'year': 2017, 'cityId': None, 'cityName': '江苏', 'scienceClass': '文科', 'enrollNum': None, 'hightScore': 355.0, 'lowScore': 353.0, 'avgScore': 354.0, 'sCode': 'FCHTWR', 'type': '普通文理', 'batch': '本科一批', 'isDelete': None, 'creator': None, 'createTime': None, 'modifier': None, 'modifyTime': None, 'remark': None, 'hasCat': None, 'hightScoreRank': None, 'lowScoreRank': None, 'avgScoreRank': None, 'provinceScore': None, 'schoolScore': None, 'templateType': None, 'ids': None, 'enrollPlan': None, 'scoreLine': 333.0, 'lowDiff': '20', 'avgDiff': '21', 'thanYear': None, 'isDependent': None, 'column': None, 'firstYear': None, 'secondYear': None, 'thirdYear': None, 'planLastYear': None, 'referType': None, 'pagination': None}, {'id': 61690, 'majorName': '汉语国际教育', 'majorCategory': None, 'year': 2017, 'cityId': None, 'cityName': '江苏', 'scienceClass': '文科', 'enrollNum': None, 'hightScore': 355.0, 'lowScore': 353.0, 'avgScore': 354.0, 'sCode': 'FCHTWR', 'type': '普通文理', 'batch': '本科一批', 'isDelete': None, 'creator': None, 'createTime': None, 'modifier': None, 'modifyTime': None, 'remark': None, 'hasCat': None, 'hightScoreRank': None, 'lowScoreRank': None, 'avgScoreRank': None, 'provinceScore': None, 'schoolScore': None, 'templateType': None, 'ids': None, 'enrollPlan': None, 'scoreLine': 333.0, 'lowDiff': '20', 'avgDiff': '21', 'thanYear': None, 'isDependent': None, 'column': None, 'firstYear': None, 'secondYear': None, 'thirdYear': None, 'planLastYear': None, 'referType': None, 'pagination': None}, {'id': 61691, 'majorName': '历史学类', 'majorCategory': None, 'year': 2017, 'cityId': None, 'cityName': '江苏', 'scienceClass': '文科', 'enrollNum': None, 'hightScore': 353.0, 'lowScore': 352.0, 'avgScore': 353.0, 'sCode': 'FCHTWR', 'type': '普通文理', 'batch': '本科一批', 'isDelete': None, 'creator': None, 'createTime': None, 'modifier': None, 'modifyTime': None, 'remark': None, 'hasCat': None, 'hightScoreRank': None, 'lowScoreRank': None, 'avgScoreRank': None, 'provinceScore': None, 'schoolScore': None, 'templateType': None, 'ids': None, 'enrollPlan': None, 'scoreLine': 333.0, 'lowDiff': '19', 'avgDiff': '20', 'thanYear': None, 'isDependent': None, 'column': None, 'firstYear': None, 'secondYear': None, 'thirdYear': None, 'planLastYear': None, 'referType': None, 'pagination': None}, {'id': 61692, 'majorName': '考古学', 'majorCategory': None, 'year': 2017, 'cityId': None, 'cityName': '江苏', 'scienceClass': '文科', 'enrollNum': None, 'hightScore': 362.0, 'lowScore': 353.0, 'avgScore': 358.0, 'sCode': 'FCHTWR', 'type': '普通文理', 'batch': '本科一批', 'isDelete': None, 'creator': None, 'createTime': None, 'modifier': None, 'modifyTime': None, 'remark': None, 'hasCat': None, 'hightScoreRank': None, 'lowScoreRank': None, 'avgScoreRank': None, 'provinceScore': None, 'schoolScore': None, 'templateType': None, 'ids': None, 'enrollPlan': None, 'scoreLine': 333.0, 'lowDiff': '20', 'avgDiff': '25', 'thanYear': None, 'isDependent': None, 'column': None, 'firstYear': None, 'secondYear': None, 'thirdYear': None, 'planLastYear': None, 'referType': None, 'pagination': None}], 'columnConfig': None}\n"
     ]
    },
    {
     "name": "stdout",
     "output_type": "stream",
     "text": [
      "{'list': [{'id': 61685, 'majorName': '哲学', 'majorCategory': None, 'year': 2017, 'cityId': None, 'cityName': '江苏', 'scienceClass': '文科', 'enrollNum': None, 'hightScore': 352.0, 'lowScore': 352.0, 'avgScore': 352.0, 'sCode': 'FCHTWR', 'type': '普通文理', 'batch': '本科一批', 'isDelete': None, 'creator': None, 'createTime': None, 'modifier': None, 'modifyTime': None, 'remark': None, 'hasCat': None, 'hightScoreRank': None, 'lowScoreRank': None, 'avgScoreRank': None, 'provinceScore': None, 'schoolScore': None, 'templateType': None, 'ids': None, 'enrollPlan': None, 'scoreLine': 333.0, 'lowDiff': '19', 'avgDiff': '19', 'thanYear': None, 'isDependent': None, 'column': None, 'firstYear': None, 'secondYear': None, 'thirdYear': None, 'planLastYear': None, 'referType': None, 'pagination': None}, {'id': 61686, 'majorName': '财政学', 'majorCategory': None, 'year': 2017, 'cityId': None, 'cityName': '江苏', 'scienceClass': '文科', 'enrollNum': None, 'hightScore': 358.0, 'lowScore': 354.0, 'avgScore': 356.0, 'sCode': 'FCHTWR', 'type': '普通文理', 'batch': '本科一批', 'isDelete': None, 'creator': None, 'createTime': None, 'modifier': None, 'modifyTime': None, 'remark': None, 'hasCat': None, 'hightScoreRank': None, 'lowScoreRank': None, 'avgScoreRank': None, 'provinceScore': None, 'schoolScore': None, 'templateType': None, 'ids': None, 'enrollPlan': None, 'scoreLine': 333.0, 'lowDiff': '21', 'avgDiff': '23', 'thanYear': None, 'isDependent': None, 'column': None, 'firstYear': None, 'secondYear': None, 'thirdYear': None, 'planLastYear': None, 'referType': None, 'pagination': None}, {'id': 61687, 'majorName': '法学', 'majorCategory': None, 'year': 2017, 'cityId': None, 'cityName': '江苏', 'scienceClass': '文科', 'enrollNum': None, 'hightScore': 354.0, 'lowScore': 353.0, 'avgScore': 354.0, 'sCode': 'FCHTWR', 'type': '普通文理', 'batch': '本科一批', 'isDelete': None, 'creator': None, 'createTime': None, 'modifier': None, 'modifyTime': None, 'remark': None, 'hasCat': None, 'hightScoreRank': None, 'lowScoreRank': None, 'avgScoreRank': None, 'provinceScore': None, 'schoolScore': None, 'templateType': None, 'ids': None, 'enrollPlan': None, 'scoreLine': 333.0, 'lowDiff': '20', 'avgDiff': '21', 'thanYear': None, 'isDependent': None, 'column': None, 'firstYear': None, 'secondYear': None, 'thirdYear': None, 'planLastYear': None, 'referType': None, 'pagination': None}, {'id': 61688, 'majorName': '新闻传播学类', 'majorCategory': None, 'year': 2017, 'cityId': None, 'cityName': '江苏', 'scienceClass': '文科', 'enrollNum': None, 'hightScore': 359.0, 'lowScore': 353.0, 'avgScore': 356.0, 'sCode': 'FCHTWR', 'type': '普通文理', 'batch': '本科一批', 'isDelete': None, 'creator': None, 'createTime': None, 'modifier': None, 'modifyTime': None, 'remark': None, 'hasCat': None, 'hightScoreRank': None, 'lowScoreRank': None, 'avgScoreRank': None, 'provinceScore': None, 'schoolScore': None, 'templateType': None, 'ids': None, 'enrollPlan': None, 'scoreLine': 333.0, 'lowDiff': '20', 'avgDiff': '23', 'thanYear': None, 'isDependent': None, 'column': None, 'firstYear': None, 'secondYear': None, 'thirdYear': None, 'planLastYear': None, 'referType': None, 'pagination': None}, {'id': 61689, 'majorName': '汉语言文学', 'majorCategory': None, 'year': 2017, 'cityId': None, 'cityName': '江苏', 'scienceClass': '文科', 'enrollNum': None, 'hightScore': 355.0, 'lowScore': 353.0, 'avgScore': 354.0, 'sCode': 'FCHTWR', 'type': '普通文理', 'batch': '本科一批', 'isDelete': None, 'creator': None, 'createTime': None, 'modifier': None, 'modifyTime': None, 'remark': None, 'hasCat': None, 'hightScoreRank': None, 'lowScoreRank': None, 'avgScoreRank': None, 'provinceScore': None, 'schoolScore': None, 'templateType': None, 'ids': None, 'enrollPlan': None, 'scoreLine': 333.0, 'lowDiff': '20', 'avgDiff': '21', 'thanYear': None, 'isDependent': None, 'column': None, 'firstYear': None, 'secondYear': None, 'thirdYear': None, 'planLastYear': None, 'referType': None, 'pagination': None}, {'id': 61690, 'majorName': '汉语国际教育', 'majorCategory': None, 'year': 2017, 'cityId': None, 'cityName': '江苏', 'scienceClass': '文科', 'enrollNum': None, 'hightScore': 355.0, 'lowScore': 353.0, 'avgScore': 354.0, 'sCode': 'FCHTWR', 'type': '普通文理', 'batch': '本科一批', 'isDelete': None, 'creator': None, 'createTime': None, 'modifier': None, 'modifyTime': None, 'remark': None, 'hasCat': None, 'hightScoreRank': None, 'lowScoreRank': None, 'avgScoreRank': None, 'provinceScore': None, 'schoolScore': None, 'templateType': None, 'ids': None, 'enrollPlan': None, 'scoreLine': 333.0, 'lowDiff': '20', 'avgDiff': '21', 'thanYear': None, 'isDependent': None, 'column': None, 'firstYear': None, 'secondYear': None, 'thirdYear': None, 'planLastYear': None, 'referType': None, 'pagination': None}, {'id': 61691, 'majorName': '历史学类', 'majorCategory': None, 'year': 2017, 'cityId': None, 'cityName': '江苏', 'scienceClass': '文科', 'enrollNum': None, 'hightScore': 353.0, 'lowScore': 352.0, 'avgScore': 353.0, 'sCode': 'FCHTWR', 'type': '普通文理', 'batch': '本科一批', 'isDelete': None, 'creator': None, 'createTime': None, 'modifier': None, 'modifyTime': None, 'remark': None, 'hasCat': None, 'hightScoreRank': None, 'lowScoreRank': None, 'avgScoreRank': None, 'provinceScore': None, 'schoolScore': None, 'templateType': None, 'ids': None, 'enrollPlan': None, 'scoreLine': 333.0, 'lowDiff': '19', 'avgDiff': '20', 'thanYear': None, 'isDependent': None, 'column': None, 'firstYear': None, 'secondYear': None, 'thirdYear': None, 'planLastYear': None, 'referType': None, 'pagination': None}, {'id': 61692, 'majorName': '考古学', 'majorCategory': None, 'year': 2017, 'cityId': None, 'cityName': '江苏', 'scienceClass': '文科', 'enrollNum': None, 'hightScore': 362.0, 'lowScore': 353.0, 'avgScore': 358.0, 'sCode': 'FCHTWR', 'type': '普通文理', 'batch': '本科一批', 'isDelete': None, 'creator': None, 'createTime': None, 'modifier': None, 'modifyTime': None, 'remark': None, 'hasCat': None, 'hightScoreRank': None, 'lowScoreRank': None, 'avgScoreRank': None, 'provinceScore': None, 'schoolScore': None, 'templateType': None, 'ids': None, 'enrollPlan': None, 'scoreLine': 333.0, 'lowDiff': '20', 'avgDiff': '25', 'thanYear': None, 'isDependent': None, 'column': None, 'firstYear': None, 'secondYear': None, 'thirdYear': None, 'planLastYear': None, 'referType': None, 'pagination': None}], 'columnConfig': None}\n",
      "{'list': [{'id': 61685, 'majorName': '哲学', 'majorCategory': None, 'year': 2017, 'cityId': None, 'cityName': '江苏', 'scienceClass': '文科', 'enrollNum': None, 'hightScore': 352.0, 'lowScore': 352.0, 'avgScore': 352.0, 'sCode': 'FCHTWR', 'type': '普通文理', 'batch': '本科一批', 'isDelete': None, 'creator': None, 'createTime': None, 'modifier': None, 'modifyTime': None, 'remark': None, 'hasCat': None, 'hightScoreRank': None, 'lowScoreRank': None, 'avgScoreRank': None, 'provinceScore': None, 'schoolScore': None, 'templateType': None, 'ids': None, 'enrollPlan': None, 'scoreLine': 333.0, 'lowDiff': '19', 'avgDiff': '19', 'thanYear': None, 'isDependent': None, 'column': None, 'firstYear': None, 'secondYear': None, 'thirdYear': None, 'planLastYear': None, 'referType': None, 'pagination': None}, {'id': 61686, 'majorName': '财政学', 'majorCategory': None, 'year': 2017, 'cityId': None, 'cityName': '江苏', 'scienceClass': '文科', 'enrollNum': None, 'hightScore': 358.0, 'lowScore': 354.0, 'avgScore': 356.0, 'sCode': 'FCHTWR', 'type': '普通文理', 'batch': '本科一批', 'isDelete': None, 'creator': None, 'createTime': None, 'modifier': None, 'modifyTime': None, 'remark': None, 'hasCat': None, 'hightScoreRank': None, 'lowScoreRank': None, 'avgScoreRank': None, 'provinceScore': None, 'schoolScore': None, 'templateType': None, 'ids': None, 'enrollPlan': None, 'scoreLine': 333.0, 'lowDiff': '21', 'avgDiff': '23', 'thanYear': None, 'isDependent': None, 'column': None, 'firstYear': None, 'secondYear': None, 'thirdYear': None, 'planLastYear': None, 'referType': None, 'pagination': None}, {'id': 61687, 'majorName': '法学', 'majorCategory': None, 'year': 2017, 'cityId': None, 'cityName': '江苏', 'scienceClass': '文科', 'enrollNum': None, 'hightScore': 354.0, 'lowScore': 353.0, 'avgScore': 354.0, 'sCode': 'FCHTWR', 'type': '普通文理', 'batch': '本科一批', 'isDelete': None, 'creator': None, 'createTime': None, 'modifier': None, 'modifyTime': None, 'remark': None, 'hasCat': None, 'hightScoreRank': None, 'lowScoreRank': None, 'avgScoreRank': None, 'provinceScore': None, 'schoolScore': None, 'templateType': None, 'ids': None, 'enrollPlan': None, 'scoreLine': 333.0, 'lowDiff': '20', 'avgDiff': '21', 'thanYear': None, 'isDependent': None, 'column': None, 'firstYear': None, 'secondYear': None, 'thirdYear': None, 'planLastYear': None, 'referType': None, 'pagination': None}, {'id': 61688, 'majorName': '新闻传播学类', 'majorCategory': None, 'year': 2017, 'cityId': None, 'cityName': '江苏', 'scienceClass': '文科', 'enrollNum': None, 'hightScore': 359.0, 'lowScore': 353.0, 'avgScore': 356.0, 'sCode': 'FCHTWR', 'type': '普通文理', 'batch': '本科一批', 'isDelete': None, 'creator': None, 'createTime': None, 'modifier': None, 'modifyTime': None, 'remark': None, 'hasCat': None, 'hightScoreRank': None, 'lowScoreRank': None, 'avgScoreRank': None, 'provinceScore': None, 'schoolScore': None, 'templateType': None, 'ids': None, 'enrollPlan': None, 'scoreLine': 333.0, 'lowDiff': '20', 'avgDiff': '23', 'thanYear': None, 'isDependent': None, 'column': None, 'firstYear': None, 'secondYear': None, 'thirdYear': None, 'planLastYear': None, 'referType': None, 'pagination': None}, {'id': 61689, 'majorName': '汉语言文学', 'majorCategory': None, 'year': 2017, 'cityId': None, 'cityName': '江苏', 'scienceClass': '文科', 'enrollNum': None, 'hightScore': 355.0, 'lowScore': 353.0, 'avgScore': 354.0, 'sCode': 'FCHTWR', 'type': '普通文理', 'batch': '本科一批', 'isDelete': None, 'creator': None, 'createTime': None, 'modifier': None, 'modifyTime': None, 'remark': None, 'hasCat': None, 'hightScoreRank': None, 'lowScoreRank': None, 'avgScoreRank': None, 'provinceScore': None, 'schoolScore': None, 'templateType': None, 'ids': None, 'enrollPlan': None, 'scoreLine': 333.0, 'lowDiff': '20', 'avgDiff': '21', 'thanYear': None, 'isDependent': None, 'column': None, 'firstYear': None, 'secondYear': None, 'thirdYear': None, 'planLastYear': None, 'referType': None, 'pagination': None}, {'id': 61690, 'majorName': '汉语国际教育', 'majorCategory': None, 'year': 2017, 'cityId': None, 'cityName': '江苏', 'scienceClass': '文科', 'enrollNum': None, 'hightScore': 355.0, 'lowScore': 353.0, 'avgScore': 354.0, 'sCode': 'FCHTWR', 'type': '普通文理', 'batch': '本科一批', 'isDelete': None, 'creator': None, 'createTime': None, 'modifier': None, 'modifyTime': None, 'remark': None, 'hasCat': None, 'hightScoreRank': None, 'lowScoreRank': None, 'avgScoreRank': None, 'provinceScore': None, 'schoolScore': None, 'templateType': None, 'ids': None, 'enrollPlan': None, 'scoreLine': 333.0, 'lowDiff': '20', 'avgDiff': '21', 'thanYear': None, 'isDependent': None, 'column': None, 'firstYear': None, 'secondYear': None, 'thirdYear': None, 'planLastYear': None, 'referType': None, 'pagination': None}, {'id': 61691, 'majorName': '历史学类', 'majorCategory': None, 'year': 2017, 'cityId': None, 'cityName': '江苏', 'scienceClass': '文科', 'enrollNum': None, 'hightScore': 353.0, 'lowScore': 352.0, 'avgScore': 353.0, 'sCode': 'FCHTWR', 'type': '普通文理', 'batch': '本科一批', 'isDelete': None, 'creator': None, 'createTime': None, 'modifier': None, 'modifyTime': None, 'remark': None, 'hasCat': None, 'hightScoreRank': None, 'lowScoreRank': None, 'avgScoreRank': None, 'provinceScore': None, 'schoolScore': None, 'templateType': None, 'ids': None, 'enrollPlan': None, 'scoreLine': 333.0, 'lowDiff': '19', 'avgDiff': '20', 'thanYear': None, 'isDependent': None, 'column': None, 'firstYear': None, 'secondYear': None, 'thirdYear': None, 'planLastYear': None, 'referType': None, 'pagination': None}, {'id': 61692, 'majorName': '考古学', 'majorCategory': None, 'year': 2017, 'cityId': None, 'cityName': '江苏', 'scienceClass': '文科', 'enrollNum': None, 'hightScore': 362.0, 'lowScore': 353.0, 'avgScore': 358.0, 'sCode': 'FCHTWR', 'type': '普通文理', 'batch': '本科一批', 'isDelete': None, 'creator': None, 'createTime': None, 'modifier': None, 'modifyTime': None, 'remark': None, 'hasCat': None, 'hightScoreRank': None, 'lowScoreRank': None, 'avgScoreRank': None, 'provinceScore': None, 'schoolScore': None, 'templateType': None, 'ids': None, 'enrollPlan': None, 'scoreLine': 333.0, 'lowDiff': '20', 'avgDiff': '25', 'thanYear': None, 'isDependent': None, 'column': None, 'firstYear': None, 'secondYear': None, 'thirdYear': None, 'planLastYear': None, 'referType': None, 'pagination': None}], 'columnConfig': None}\n",
      "{'list': [{'id': 61685, 'majorName': '哲学', 'majorCategory': None, 'year': 2017, 'cityId': None, 'cityName': '江苏', 'scienceClass': '文科', 'enrollNum': None, 'hightScore': 352.0, 'lowScore': 352.0, 'avgScore': 352.0, 'sCode': 'FCHTWR', 'type': '普通文理', 'batch': '本科一批', 'isDelete': None, 'creator': None, 'createTime': None, 'modifier': None, 'modifyTime': None, 'remark': None, 'hasCat': None, 'hightScoreRank': None, 'lowScoreRank': None, 'avgScoreRank': None, 'provinceScore': None, 'schoolScore': None, 'templateType': None, 'ids': None, 'enrollPlan': None, 'scoreLine': 333.0, 'lowDiff': '19', 'avgDiff': '19', 'thanYear': None, 'isDependent': None, 'column': None, 'firstYear': None, 'secondYear': None, 'thirdYear': None, 'planLastYear': None, 'referType': None, 'pagination': None}, {'id': 61686, 'majorName': '财政学', 'majorCategory': None, 'year': 2017, 'cityId': None, 'cityName': '江苏', 'scienceClass': '文科', 'enrollNum': None, 'hightScore': 358.0, 'lowScore': 354.0, 'avgScore': 356.0, 'sCode': 'FCHTWR', 'type': '普通文理', 'batch': '本科一批', 'isDelete': None, 'creator': None, 'createTime': None, 'modifier': None, 'modifyTime': None, 'remark': None, 'hasCat': None, 'hightScoreRank': None, 'lowScoreRank': None, 'avgScoreRank': None, 'provinceScore': None, 'schoolScore': None, 'templateType': None, 'ids': None, 'enrollPlan': None, 'scoreLine': 333.0, 'lowDiff': '21', 'avgDiff': '23', 'thanYear': None, 'isDependent': None, 'column': None, 'firstYear': None, 'secondYear': None, 'thirdYear': None, 'planLastYear': None, 'referType': None, 'pagination': None}, {'id': 61687, 'majorName': '法学', 'majorCategory': None, 'year': 2017, 'cityId': None, 'cityName': '江苏', 'scienceClass': '文科', 'enrollNum': None, 'hightScore': 354.0, 'lowScore': 353.0, 'avgScore': 354.0, 'sCode': 'FCHTWR', 'type': '普通文理', 'batch': '本科一批', 'isDelete': None, 'creator': None, 'createTime': None, 'modifier': None, 'modifyTime': None, 'remark': None, 'hasCat': None, 'hightScoreRank': None, 'lowScoreRank': None, 'avgScoreRank': None, 'provinceScore': None, 'schoolScore': None, 'templateType': None, 'ids': None, 'enrollPlan': None, 'scoreLine': 333.0, 'lowDiff': '20', 'avgDiff': '21', 'thanYear': None, 'isDependent': None, 'column': None, 'firstYear': None, 'secondYear': None, 'thirdYear': None, 'planLastYear': None, 'referType': None, 'pagination': None}, {'id': 61688, 'majorName': '新闻传播学类', 'majorCategory': None, 'year': 2017, 'cityId': None, 'cityName': '江苏', 'scienceClass': '文科', 'enrollNum': None, 'hightScore': 359.0, 'lowScore': 353.0, 'avgScore': 356.0, 'sCode': 'FCHTWR', 'type': '普通文理', 'batch': '本科一批', 'isDelete': None, 'creator': None, 'createTime': None, 'modifier': None, 'modifyTime': None, 'remark': None, 'hasCat': None, 'hightScoreRank': None, 'lowScoreRank': None, 'avgScoreRank': None, 'provinceScore': None, 'schoolScore': None, 'templateType': None, 'ids': None, 'enrollPlan': None, 'scoreLine': 333.0, 'lowDiff': '20', 'avgDiff': '23', 'thanYear': None, 'isDependent': None, 'column': None, 'firstYear': None, 'secondYear': None, 'thirdYear': None, 'planLastYear': None, 'referType': None, 'pagination': None}, {'id': 61689, 'majorName': '汉语言文学', 'majorCategory': None, 'year': 2017, 'cityId': None, 'cityName': '江苏', 'scienceClass': '文科', 'enrollNum': None, 'hightScore': 355.0, 'lowScore': 353.0, 'avgScore': 354.0, 'sCode': 'FCHTWR', 'type': '普通文理', 'batch': '本科一批', 'isDelete': None, 'creator': None, 'createTime': None, 'modifier': None, 'modifyTime': None, 'remark': None, 'hasCat': None, 'hightScoreRank': None, 'lowScoreRank': None, 'avgScoreRank': None, 'provinceScore': None, 'schoolScore': None, 'templateType': None, 'ids': None, 'enrollPlan': None, 'scoreLine': 333.0, 'lowDiff': '20', 'avgDiff': '21', 'thanYear': None, 'isDependent': None, 'column': None, 'firstYear': None, 'secondYear': None, 'thirdYear': None, 'planLastYear': None, 'referType': None, 'pagination': None}, {'id': 61690, 'majorName': '汉语国际教育', 'majorCategory': None, 'year': 2017, 'cityId': None, 'cityName': '江苏', 'scienceClass': '文科', 'enrollNum': None, 'hightScore': 355.0, 'lowScore': 353.0, 'avgScore': 354.0, 'sCode': 'FCHTWR', 'type': '普通文理', 'batch': '本科一批', 'isDelete': None, 'creator': None, 'createTime': None, 'modifier': None, 'modifyTime': None, 'remark': None, 'hasCat': None, 'hightScoreRank': None, 'lowScoreRank': None, 'avgScoreRank': None, 'provinceScore': None, 'schoolScore': None, 'templateType': None, 'ids': None, 'enrollPlan': None, 'scoreLine': 333.0, 'lowDiff': '20', 'avgDiff': '21', 'thanYear': None, 'isDependent': None, 'column': None, 'firstYear': None, 'secondYear': None, 'thirdYear': None, 'planLastYear': None, 'referType': None, 'pagination': None}, {'id': 61691, 'majorName': '历史学类', 'majorCategory': None, 'year': 2017, 'cityId': None, 'cityName': '江苏', 'scienceClass': '文科', 'enrollNum': None, 'hightScore': 353.0, 'lowScore': 352.0, 'avgScore': 353.0, 'sCode': 'FCHTWR', 'type': '普通文理', 'batch': '本科一批', 'isDelete': None, 'creator': None, 'createTime': None, 'modifier': None, 'modifyTime': None, 'remark': None, 'hasCat': None, 'hightScoreRank': None, 'lowScoreRank': None, 'avgScoreRank': None, 'provinceScore': None, 'schoolScore': None, 'templateType': None, 'ids': None, 'enrollPlan': None, 'scoreLine': 333.0, 'lowDiff': '19', 'avgDiff': '20', 'thanYear': None, 'isDependent': None, 'column': None, 'firstYear': None, 'secondYear': None, 'thirdYear': None, 'planLastYear': None, 'referType': None, 'pagination': None}, {'id': 61692, 'majorName': '考古学', 'majorCategory': None, 'year': 2017, 'cityId': None, 'cityName': '江苏', 'scienceClass': '文科', 'enrollNum': None, 'hightScore': 362.0, 'lowScore': 353.0, 'avgScore': 358.0, 'sCode': 'FCHTWR', 'type': '普通文理', 'batch': '本科一批', 'isDelete': None, 'creator': None, 'createTime': None, 'modifier': None, 'modifyTime': None, 'remark': None, 'hasCat': None, 'hightScoreRank': None, 'lowScoreRank': None, 'avgScoreRank': None, 'provinceScore': None, 'schoolScore': None, 'templateType': None, 'ids': None, 'enrollPlan': None, 'scoreLine': 333.0, 'lowDiff': '20', 'avgDiff': '25', 'thanYear': None, 'isDependent': None, 'column': None, 'firstYear': None, 'secondYear': None, 'thirdYear': None, 'planLastYear': None, 'referType': None, 'pagination': None}], 'columnConfig': None}\n"
     ]
    },
    {
     "name": "stdout",
     "output_type": "stream",
     "text": [
      "{'list': [{'id': 61685, 'majorName': '哲学', 'majorCategory': None, 'year': 2017, 'cityId': None, 'cityName': '江苏', 'scienceClass': '文科', 'enrollNum': None, 'hightScore': 352.0, 'lowScore': 352.0, 'avgScore': 352.0, 'sCode': 'FCHTWR', 'type': '普通文理', 'batch': '本科一批', 'isDelete': None, 'creator': None, 'createTime': None, 'modifier': None, 'modifyTime': None, 'remark': None, 'hasCat': None, 'hightScoreRank': None, 'lowScoreRank': None, 'avgScoreRank': None, 'provinceScore': None, 'schoolScore': None, 'templateType': None, 'ids': None, 'enrollPlan': None, 'scoreLine': 333.0, 'lowDiff': '19', 'avgDiff': '19', 'thanYear': None, 'isDependent': None, 'column': None, 'firstYear': None, 'secondYear': None, 'thirdYear': None, 'planLastYear': None, 'referType': None, 'pagination': None}, {'id': 61686, 'majorName': '财政学', 'majorCategory': None, 'year': 2017, 'cityId': None, 'cityName': '江苏', 'scienceClass': '文科', 'enrollNum': None, 'hightScore': 358.0, 'lowScore': 354.0, 'avgScore': 356.0, 'sCode': 'FCHTWR', 'type': '普通文理', 'batch': '本科一批', 'isDelete': None, 'creator': None, 'createTime': None, 'modifier': None, 'modifyTime': None, 'remark': None, 'hasCat': None, 'hightScoreRank': None, 'lowScoreRank': None, 'avgScoreRank': None, 'provinceScore': None, 'schoolScore': None, 'templateType': None, 'ids': None, 'enrollPlan': None, 'scoreLine': 333.0, 'lowDiff': '21', 'avgDiff': '23', 'thanYear': None, 'isDependent': None, 'column': None, 'firstYear': None, 'secondYear': None, 'thirdYear': None, 'planLastYear': None, 'referType': None, 'pagination': None}, {'id': 61687, 'majorName': '法学', 'majorCategory': None, 'year': 2017, 'cityId': None, 'cityName': '江苏', 'scienceClass': '文科', 'enrollNum': None, 'hightScore': 354.0, 'lowScore': 353.0, 'avgScore': 354.0, 'sCode': 'FCHTWR', 'type': '普通文理', 'batch': '本科一批', 'isDelete': None, 'creator': None, 'createTime': None, 'modifier': None, 'modifyTime': None, 'remark': None, 'hasCat': None, 'hightScoreRank': None, 'lowScoreRank': None, 'avgScoreRank': None, 'provinceScore': None, 'schoolScore': None, 'templateType': None, 'ids': None, 'enrollPlan': None, 'scoreLine': 333.0, 'lowDiff': '20', 'avgDiff': '21', 'thanYear': None, 'isDependent': None, 'column': None, 'firstYear': None, 'secondYear': None, 'thirdYear': None, 'planLastYear': None, 'referType': None, 'pagination': None}, {'id': 61688, 'majorName': '新闻传播学类', 'majorCategory': None, 'year': 2017, 'cityId': None, 'cityName': '江苏', 'scienceClass': '文科', 'enrollNum': None, 'hightScore': 359.0, 'lowScore': 353.0, 'avgScore': 356.0, 'sCode': 'FCHTWR', 'type': '普通文理', 'batch': '本科一批', 'isDelete': None, 'creator': None, 'createTime': None, 'modifier': None, 'modifyTime': None, 'remark': None, 'hasCat': None, 'hightScoreRank': None, 'lowScoreRank': None, 'avgScoreRank': None, 'provinceScore': None, 'schoolScore': None, 'templateType': None, 'ids': None, 'enrollPlan': None, 'scoreLine': 333.0, 'lowDiff': '20', 'avgDiff': '23', 'thanYear': None, 'isDependent': None, 'column': None, 'firstYear': None, 'secondYear': None, 'thirdYear': None, 'planLastYear': None, 'referType': None, 'pagination': None}, {'id': 61689, 'majorName': '汉语言文学', 'majorCategory': None, 'year': 2017, 'cityId': None, 'cityName': '江苏', 'scienceClass': '文科', 'enrollNum': None, 'hightScore': 355.0, 'lowScore': 353.0, 'avgScore': 354.0, 'sCode': 'FCHTWR', 'type': '普通文理', 'batch': '本科一批', 'isDelete': None, 'creator': None, 'createTime': None, 'modifier': None, 'modifyTime': None, 'remark': None, 'hasCat': None, 'hightScoreRank': None, 'lowScoreRank': None, 'avgScoreRank': None, 'provinceScore': None, 'schoolScore': None, 'templateType': None, 'ids': None, 'enrollPlan': None, 'scoreLine': 333.0, 'lowDiff': '20', 'avgDiff': '21', 'thanYear': None, 'isDependent': None, 'column': None, 'firstYear': None, 'secondYear': None, 'thirdYear': None, 'planLastYear': None, 'referType': None, 'pagination': None}, {'id': 61690, 'majorName': '汉语国际教育', 'majorCategory': None, 'year': 2017, 'cityId': None, 'cityName': '江苏', 'scienceClass': '文科', 'enrollNum': None, 'hightScore': 355.0, 'lowScore': 353.0, 'avgScore': 354.0, 'sCode': 'FCHTWR', 'type': '普通文理', 'batch': '本科一批', 'isDelete': None, 'creator': None, 'createTime': None, 'modifier': None, 'modifyTime': None, 'remark': None, 'hasCat': None, 'hightScoreRank': None, 'lowScoreRank': None, 'avgScoreRank': None, 'provinceScore': None, 'schoolScore': None, 'templateType': None, 'ids': None, 'enrollPlan': None, 'scoreLine': 333.0, 'lowDiff': '20', 'avgDiff': '21', 'thanYear': None, 'isDependent': None, 'column': None, 'firstYear': None, 'secondYear': None, 'thirdYear': None, 'planLastYear': None, 'referType': None, 'pagination': None}, {'id': 61691, 'majorName': '历史学类', 'majorCategory': None, 'year': 2017, 'cityId': None, 'cityName': '江苏', 'scienceClass': '文科', 'enrollNum': None, 'hightScore': 353.0, 'lowScore': 352.0, 'avgScore': 353.0, 'sCode': 'FCHTWR', 'type': '普通文理', 'batch': '本科一批', 'isDelete': None, 'creator': None, 'createTime': None, 'modifier': None, 'modifyTime': None, 'remark': None, 'hasCat': None, 'hightScoreRank': None, 'lowScoreRank': None, 'avgScoreRank': None, 'provinceScore': None, 'schoolScore': None, 'templateType': None, 'ids': None, 'enrollPlan': None, 'scoreLine': 333.0, 'lowDiff': '19', 'avgDiff': '20', 'thanYear': None, 'isDependent': None, 'column': None, 'firstYear': None, 'secondYear': None, 'thirdYear': None, 'planLastYear': None, 'referType': None, 'pagination': None}, {'id': 61692, 'majorName': '考古学', 'majorCategory': None, 'year': 2017, 'cityId': None, 'cityName': '江苏', 'scienceClass': '文科', 'enrollNum': None, 'hightScore': 362.0, 'lowScore': 353.0, 'avgScore': 358.0, 'sCode': 'FCHTWR', 'type': '普通文理', 'batch': '本科一批', 'isDelete': None, 'creator': None, 'createTime': None, 'modifier': None, 'modifyTime': None, 'remark': None, 'hasCat': None, 'hightScoreRank': None, 'lowScoreRank': None, 'avgScoreRank': None, 'provinceScore': None, 'schoolScore': None, 'templateType': None, 'ids': None, 'enrollPlan': None, 'scoreLine': 333.0, 'lowDiff': '20', 'avgDiff': '25', 'thanYear': None, 'isDependent': None, 'column': None, 'firstYear': None, 'secondYear': None, 'thirdYear': None, 'planLastYear': None, 'referType': None, 'pagination': None}], 'columnConfig': None}\n",
      "{'list': [{'id': 61685, 'majorName': '哲学', 'majorCategory': None, 'year': 2017, 'cityId': None, 'cityName': '江苏', 'scienceClass': '文科', 'enrollNum': None, 'hightScore': 352.0, 'lowScore': 352.0, 'avgScore': 352.0, 'sCode': 'FCHTWR', 'type': '普通文理', 'batch': '本科一批', 'isDelete': None, 'creator': None, 'createTime': None, 'modifier': None, 'modifyTime': None, 'remark': None, 'hasCat': None, 'hightScoreRank': None, 'lowScoreRank': None, 'avgScoreRank': None, 'provinceScore': None, 'schoolScore': None, 'templateType': None, 'ids': None, 'enrollPlan': None, 'scoreLine': 333.0, 'lowDiff': '19', 'avgDiff': '19', 'thanYear': None, 'isDependent': None, 'column': None, 'firstYear': None, 'secondYear': None, 'thirdYear': None, 'planLastYear': None, 'referType': None, 'pagination': None}, {'id': 61686, 'majorName': '财政学', 'majorCategory': None, 'year': 2017, 'cityId': None, 'cityName': '江苏', 'scienceClass': '文科', 'enrollNum': None, 'hightScore': 358.0, 'lowScore': 354.0, 'avgScore': 356.0, 'sCode': 'FCHTWR', 'type': '普通文理', 'batch': '本科一批', 'isDelete': None, 'creator': None, 'createTime': None, 'modifier': None, 'modifyTime': None, 'remark': None, 'hasCat': None, 'hightScoreRank': None, 'lowScoreRank': None, 'avgScoreRank': None, 'provinceScore': None, 'schoolScore': None, 'templateType': None, 'ids': None, 'enrollPlan': None, 'scoreLine': 333.0, 'lowDiff': '21', 'avgDiff': '23', 'thanYear': None, 'isDependent': None, 'column': None, 'firstYear': None, 'secondYear': None, 'thirdYear': None, 'planLastYear': None, 'referType': None, 'pagination': None}, {'id': 61687, 'majorName': '法学', 'majorCategory': None, 'year': 2017, 'cityId': None, 'cityName': '江苏', 'scienceClass': '文科', 'enrollNum': None, 'hightScore': 354.0, 'lowScore': 353.0, 'avgScore': 354.0, 'sCode': 'FCHTWR', 'type': '普通文理', 'batch': '本科一批', 'isDelete': None, 'creator': None, 'createTime': None, 'modifier': None, 'modifyTime': None, 'remark': None, 'hasCat': None, 'hightScoreRank': None, 'lowScoreRank': None, 'avgScoreRank': None, 'provinceScore': None, 'schoolScore': None, 'templateType': None, 'ids': None, 'enrollPlan': None, 'scoreLine': 333.0, 'lowDiff': '20', 'avgDiff': '21', 'thanYear': None, 'isDependent': None, 'column': None, 'firstYear': None, 'secondYear': None, 'thirdYear': None, 'planLastYear': None, 'referType': None, 'pagination': None}, {'id': 61688, 'majorName': '新闻传播学类', 'majorCategory': None, 'year': 2017, 'cityId': None, 'cityName': '江苏', 'scienceClass': '文科', 'enrollNum': None, 'hightScore': 359.0, 'lowScore': 353.0, 'avgScore': 356.0, 'sCode': 'FCHTWR', 'type': '普通文理', 'batch': '本科一批', 'isDelete': None, 'creator': None, 'createTime': None, 'modifier': None, 'modifyTime': None, 'remark': None, 'hasCat': None, 'hightScoreRank': None, 'lowScoreRank': None, 'avgScoreRank': None, 'provinceScore': None, 'schoolScore': None, 'templateType': None, 'ids': None, 'enrollPlan': None, 'scoreLine': 333.0, 'lowDiff': '20', 'avgDiff': '23', 'thanYear': None, 'isDependent': None, 'column': None, 'firstYear': None, 'secondYear': None, 'thirdYear': None, 'planLastYear': None, 'referType': None, 'pagination': None}, {'id': 61689, 'majorName': '汉语言文学', 'majorCategory': None, 'year': 2017, 'cityId': None, 'cityName': '江苏', 'scienceClass': '文科', 'enrollNum': None, 'hightScore': 355.0, 'lowScore': 353.0, 'avgScore': 354.0, 'sCode': 'FCHTWR', 'type': '普通文理', 'batch': '本科一批', 'isDelete': None, 'creator': None, 'createTime': None, 'modifier': None, 'modifyTime': None, 'remark': None, 'hasCat': None, 'hightScoreRank': None, 'lowScoreRank': None, 'avgScoreRank': None, 'provinceScore': None, 'schoolScore': None, 'templateType': None, 'ids': None, 'enrollPlan': None, 'scoreLine': 333.0, 'lowDiff': '20', 'avgDiff': '21', 'thanYear': None, 'isDependent': None, 'column': None, 'firstYear': None, 'secondYear': None, 'thirdYear': None, 'planLastYear': None, 'referType': None, 'pagination': None}, {'id': 61690, 'majorName': '汉语国际教育', 'majorCategory': None, 'year': 2017, 'cityId': None, 'cityName': '江苏', 'scienceClass': '文科', 'enrollNum': None, 'hightScore': 355.0, 'lowScore': 353.0, 'avgScore': 354.0, 'sCode': 'FCHTWR', 'type': '普通文理', 'batch': '本科一批', 'isDelete': None, 'creator': None, 'createTime': None, 'modifier': None, 'modifyTime': None, 'remark': None, 'hasCat': None, 'hightScoreRank': None, 'lowScoreRank': None, 'avgScoreRank': None, 'provinceScore': None, 'schoolScore': None, 'templateType': None, 'ids': None, 'enrollPlan': None, 'scoreLine': 333.0, 'lowDiff': '20', 'avgDiff': '21', 'thanYear': None, 'isDependent': None, 'column': None, 'firstYear': None, 'secondYear': None, 'thirdYear': None, 'planLastYear': None, 'referType': None, 'pagination': None}, {'id': 61691, 'majorName': '历史学类', 'majorCategory': None, 'year': 2017, 'cityId': None, 'cityName': '江苏', 'scienceClass': '文科', 'enrollNum': None, 'hightScore': 353.0, 'lowScore': 352.0, 'avgScore': 353.0, 'sCode': 'FCHTWR', 'type': '普通文理', 'batch': '本科一批', 'isDelete': None, 'creator': None, 'createTime': None, 'modifier': None, 'modifyTime': None, 'remark': None, 'hasCat': None, 'hightScoreRank': None, 'lowScoreRank': None, 'avgScoreRank': None, 'provinceScore': None, 'schoolScore': None, 'templateType': None, 'ids': None, 'enrollPlan': None, 'scoreLine': 333.0, 'lowDiff': '19', 'avgDiff': '20', 'thanYear': None, 'isDependent': None, 'column': None, 'firstYear': None, 'secondYear': None, 'thirdYear': None, 'planLastYear': None, 'referType': None, 'pagination': None}, {'id': 61692, 'majorName': '考古学', 'majorCategory': None, 'year': 2017, 'cityId': None, 'cityName': '江苏', 'scienceClass': '文科', 'enrollNum': None, 'hightScore': 362.0, 'lowScore': 353.0, 'avgScore': 358.0, 'sCode': 'FCHTWR', 'type': '普通文理', 'batch': '本科一批', 'isDelete': None, 'creator': None, 'createTime': None, 'modifier': None, 'modifyTime': None, 'remark': None, 'hasCat': None, 'hightScoreRank': None, 'lowScoreRank': None, 'avgScoreRank': None, 'provinceScore': None, 'schoolScore': None, 'templateType': None, 'ids': None, 'enrollPlan': None, 'scoreLine': 333.0, 'lowDiff': '20', 'avgDiff': '25', 'thanYear': None, 'isDependent': None, 'column': None, 'firstYear': None, 'secondYear': None, 'thirdYear': None, 'planLastYear': None, 'referType': None, 'pagination': None}], 'columnConfig': None}\n",
      "{'list': [{'id': 61685, 'majorName': '哲学', 'majorCategory': None, 'year': 2017, 'cityId': None, 'cityName': '江苏', 'scienceClass': '文科', 'enrollNum': None, 'hightScore': 352.0, 'lowScore': 352.0, 'avgScore': 352.0, 'sCode': 'FCHTWR', 'type': '普通文理', 'batch': '本科一批', 'isDelete': None, 'creator': None, 'createTime': None, 'modifier': None, 'modifyTime': None, 'remark': None, 'hasCat': None, 'hightScoreRank': None, 'lowScoreRank': None, 'avgScoreRank': None, 'provinceScore': None, 'schoolScore': None, 'templateType': None, 'ids': None, 'enrollPlan': None, 'scoreLine': 333.0, 'lowDiff': '19', 'avgDiff': '19', 'thanYear': None, 'isDependent': None, 'column': None, 'firstYear': None, 'secondYear': None, 'thirdYear': None, 'planLastYear': None, 'referType': None, 'pagination': None}, {'id': 61686, 'majorName': '财政学', 'majorCategory': None, 'year': 2017, 'cityId': None, 'cityName': '江苏', 'scienceClass': '文科', 'enrollNum': None, 'hightScore': 358.0, 'lowScore': 354.0, 'avgScore': 356.0, 'sCode': 'FCHTWR', 'type': '普通文理', 'batch': '本科一批', 'isDelete': None, 'creator': None, 'createTime': None, 'modifier': None, 'modifyTime': None, 'remark': None, 'hasCat': None, 'hightScoreRank': None, 'lowScoreRank': None, 'avgScoreRank': None, 'provinceScore': None, 'schoolScore': None, 'templateType': None, 'ids': None, 'enrollPlan': None, 'scoreLine': 333.0, 'lowDiff': '21', 'avgDiff': '23', 'thanYear': None, 'isDependent': None, 'column': None, 'firstYear': None, 'secondYear': None, 'thirdYear': None, 'planLastYear': None, 'referType': None, 'pagination': None}, {'id': 61687, 'majorName': '法学', 'majorCategory': None, 'year': 2017, 'cityId': None, 'cityName': '江苏', 'scienceClass': '文科', 'enrollNum': None, 'hightScore': 354.0, 'lowScore': 353.0, 'avgScore': 354.0, 'sCode': 'FCHTWR', 'type': '普通文理', 'batch': '本科一批', 'isDelete': None, 'creator': None, 'createTime': None, 'modifier': None, 'modifyTime': None, 'remark': None, 'hasCat': None, 'hightScoreRank': None, 'lowScoreRank': None, 'avgScoreRank': None, 'provinceScore': None, 'schoolScore': None, 'templateType': None, 'ids': None, 'enrollPlan': None, 'scoreLine': 333.0, 'lowDiff': '20', 'avgDiff': '21', 'thanYear': None, 'isDependent': None, 'column': None, 'firstYear': None, 'secondYear': None, 'thirdYear': None, 'planLastYear': None, 'referType': None, 'pagination': None}, {'id': 61688, 'majorName': '新闻传播学类', 'majorCategory': None, 'year': 2017, 'cityId': None, 'cityName': '江苏', 'scienceClass': '文科', 'enrollNum': None, 'hightScore': 359.0, 'lowScore': 353.0, 'avgScore': 356.0, 'sCode': 'FCHTWR', 'type': '普通文理', 'batch': '本科一批', 'isDelete': None, 'creator': None, 'createTime': None, 'modifier': None, 'modifyTime': None, 'remark': None, 'hasCat': None, 'hightScoreRank': None, 'lowScoreRank': None, 'avgScoreRank': None, 'provinceScore': None, 'schoolScore': None, 'templateType': None, 'ids': None, 'enrollPlan': None, 'scoreLine': 333.0, 'lowDiff': '20', 'avgDiff': '23', 'thanYear': None, 'isDependent': None, 'column': None, 'firstYear': None, 'secondYear': None, 'thirdYear': None, 'planLastYear': None, 'referType': None, 'pagination': None}, {'id': 61689, 'majorName': '汉语言文学', 'majorCategory': None, 'year': 2017, 'cityId': None, 'cityName': '江苏', 'scienceClass': '文科', 'enrollNum': None, 'hightScore': 355.0, 'lowScore': 353.0, 'avgScore': 354.0, 'sCode': 'FCHTWR', 'type': '普通文理', 'batch': '本科一批', 'isDelete': None, 'creator': None, 'createTime': None, 'modifier': None, 'modifyTime': None, 'remark': None, 'hasCat': None, 'hightScoreRank': None, 'lowScoreRank': None, 'avgScoreRank': None, 'provinceScore': None, 'schoolScore': None, 'templateType': None, 'ids': None, 'enrollPlan': None, 'scoreLine': 333.0, 'lowDiff': '20', 'avgDiff': '21', 'thanYear': None, 'isDependent': None, 'column': None, 'firstYear': None, 'secondYear': None, 'thirdYear': None, 'planLastYear': None, 'referType': None, 'pagination': None}, {'id': 61690, 'majorName': '汉语国际教育', 'majorCategory': None, 'year': 2017, 'cityId': None, 'cityName': '江苏', 'scienceClass': '文科', 'enrollNum': None, 'hightScore': 355.0, 'lowScore': 353.0, 'avgScore': 354.0, 'sCode': 'FCHTWR', 'type': '普通文理', 'batch': '本科一批', 'isDelete': None, 'creator': None, 'createTime': None, 'modifier': None, 'modifyTime': None, 'remark': None, 'hasCat': None, 'hightScoreRank': None, 'lowScoreRank': None, 'avgScoreRank': None, 'provinceScore': None, 'schoolScore': None, 'templateType': None, 'ids': None, 'enrollPlan': None, 'scoreLine': 333.0, 'lowDiff': '20', 'avgDiff': '21', 'thanYear': None, 'isDependent': None, 'column': None, 'firstYear': None, 'secondYear': None, 'thirdYear': None, 'planLastYear': None, 'referType': None, 'pagination': None}, {'id': 61691, 'majorName': '历史学类', 'majorCategory': None, 'year': 2017, 'cityId': None, 'cityName': '江苏', 'scienceClass': '文科', 'enrollNum': None, 'hightScore': 353.0, 'lowScore': 352.0, 'avgScore': 353.0, 'sCode': 'FCHTWR', 'type': '普通文理', 'batch': '本科一批', 'isDelete': None, 'creator': None, 'createTime': None, 'modifier': None, 'modifyTime': None, 'remark': None, 'hasCat': None, 'hightScoreRank': None, 'lowScoreRank': None, 'avgScoreRank': None, 'provinceScore': None, 'schoolScore': None, 'templateType': None, 'ids': None, 'enrollPlan': None, 'scoreLine': 333.0, 'lowDiff': '19', 'avgDiff': '20', 'thanYear': None, 'isDependent': None, 'column': None, 'firstYear': None, 'secondYear': None, 'thirdYear': None, 'planLastYear': None, 'referType': None, 'pagination': None}, {'id': 61692, 'majorName': '考古学', 'majorCategory': None, 'year': 2017, 'cityId': None, 'cityName': '江苏', 'scienceClass': '文科', 'enrollNum': None, 'hightScore': 362.0, 'lowScore': 353.0, 'avgScore': 358.0, 'sCode': 'FCHTWR', 'type': '普通文理', 'batch': '本科一批', 'isDelete': None, 'creator': None, 'createTime': None, 'modifier': None, 'modifyTime': None, 'remark': None, 'hasCat': None, 'hightScoreRank': None, 'lowScoreRank': None, 'avgScoreRank': None, 'provinceScore': None, 'schoolScore': None, 'templateType': None, 'ids': None, 'enrollPlan': None, 'scoreLine': 333.0, 'lowDiff': '20', 'avgDiff': '25', 'thanYear': None, 'isDependent': None, 'column': None, 'firstYear': None, 'secondYear': None, 'thirdYear': None, 'planLastYear': None, 'referType': None, 'pagination': None}], 'columnConfig': None}\n"
     ]
    },
    {
     "name": "stdout",
     "output_type": "stream",
     "text": [
      "{'list': [{'id': 61685, 'majorName': '哲学', 'majorCategory': None, 'year': 2017, 'cityId': None, 'cityName': '江苏', 'scienceClass': '文科', 'enrollNum': None, 'hightScore': 352.0, 'lowScore': 352.0, 'avgScore': 352.0, 'sCode': 'FCHTWR', 'type': '普通文理', 'batch': '本科一批', 'isDelete': None, 'creator': None, 'createTime': None, 'modifier': None, 'modifyTime': None, 'remark': None, 'hasCat': None, 'hightScoreRank': None, 'lowScoreRank': None, 'avgScoreRank': None, 'provinceScore': None, 'schoolScore': None, 'templateType': None, 'ids': None, 'enrollPlan': None, 'scoreLine': 333.0, 'lowDiff': '19', 'avgDiff': '19', 'thanYear': None, 'isDependent': None, 'column': None, 'firstYear': None, 'secondYear': None, 'thirdYear': None, 'planLastYear': None, 'referType': None, 'pagination': None}, {'id': 61686, 'majorName': '财政学', 'majorCategory': None, 'year': 2017, 'cityId': None, 'cityName': '江苏', 'scienceClass': '文科', 'enrollNum': None, 'hightScore': 358.0, 'lowScore': 354.0, 'avgScore': 356.0, 'sCode': 'FCHTWR', 'type': '普通文理', 'batch': '本科一批', 'isDelete': None, 'creator': None, 'createTime': None, 'modifier': None, 'modifyTime': None, 'remark': None, 'hasCat': None, 'hightScoreRank': None, 'lowScoreRank': None, 'avgScoreRank': None, 'provinceScore': None, 'schoolScore': None, 'templateType': None, 'ids': None, 'enrollPlan': None, 'scoreLine': 333.0, 'lowDiff': '21', 'avgDiff': '23', 'thanYear': None, 'isDependent': None, 'column': None, 'firstYear': None, 'secondYear': None, 'thirdYear': None, 'planLastYear': None, 'referType': None, 'pagination': None}, {'id': 61687, 'majorName': '法学', 'majorCategory': None, 'year': 2017, 'cityId': None, 'cityName': '江苏', 'scienceClass': '文科', 'enrollNum': None, 'hightScore': 354.0, 'lowScore': 353.0, 'avgScore': 354.0, 'sCode': 'FCHTWR', 'type': '普通文理', 'batch': '本科一批', 'isDelete': None, 'creator': None, 'createTime': None, 'modifier': None, 'modifyTime': None, 'remark': None, 'hasCat': None, 'hightScoreRank': None, 'lowScoreRank': None, 'avgScoreRank': None, 'provinceScore': None, 'schoolScore': None, 'templateType': None, 'ids': None, 'enrollPlan': None, 'scoreLine': 333.0, 'lowDiff': '20', 'avgDiff': '21', 'thanYear': None, 'isDependent': None, 'column': None, 'firstYear': None, 'secondYear': None, 'thirdYear': None, 'planLastYear': None, 'referType': None, 'pagination': None}, {'id': 61688, 'majorName': '新闻传播学类', 'majorCategory': None, 'year': 2017, 'cityId': None, 'cityName': '江苏', 'scienceClass': '文科', 'enrollNum': None, 'hightScore': 359.0, 'lowScore': 353.0, 'avgScore': 356.0, 'sCode': 'FCHTWR', 'type': '普通文理', 'batch': '本科一批', 'isDelete': None, 'creator': None, 'createTime': None, 'modifier': None, 'modifyTime': None, 'remark': None, 'hasCat': None, 'hightScoreRank': None, 'lowScoreRank': None, 'avgScoreRank': None, 'provinceScore': None, 'schoolScore': None, 'templateType': None, 'ids': None, 'enrollPlan': None, 'scoreLine': 333.0, 'lowDiff': '20', 'avgDiff': '23', 'thanYear': None, 'isDependent': None, 'column': None, 'firstYear': None, 'secondYear': None, 'thirdYear': None, 'planLastYear': None, 'referType': None, 'pagination': None}, {'id': 61689, 'majorName': '汉语言文学', 'majorCategory': None, 'year': 2017, 'cityId': None, 'cityName': '江苏', 'scienceClass': '文科', 'enrollNum': None, 'hightScore': 355.0, 'lowScore': 353.0, 'avgScore': 354.0, 'sCode': 'FCHTWR', 'type': '普通文理', 'batch': '本科一批', 'isDelete': None, 'creator': None, 'createTime': None, 'modifier': None, 'modifyTime': None, 'remark': None, 'hasCat': None, 'hightScoreRank': None, 'lowScoreRank': None, 'avgScoreRank': None, 'provinceScore': None, 'schoolScore': None, 'templateType': None, 'ids': None, 'enrollPlan': None, 'scoreLine': 333.0, 'lowDiff': '20', 'avgDiff': '21', 'thanYear': None, 'isDependent': None, 'column': None, 'firstYear': None, 'secondYear': None, 'thirdYear': None, 'planLastYear': None, 'referType': None, 'pagination': None}, {'id': 61690, 'majorName': '汉语国际教育', 'majorCategory': None, 'year': 2017, 'cityId': None, 'cityName': '江苏', 'scienceClass': '文科', 'enrollNum': None, 'hightScore': 355.0, 'lowScore': 353.0, 'avgScore': 354.0, 'sCode': 'FCHTWR', 'type': '普通文理', 'batch': '本科一批', 'isDelete': None, 'creator': None, 'createTime': None, 'modifier': None, 'modifyTime': None, 'remark': None, 'hasCat': None, 'hightScoreRank': None, 'lowScoreRank': None, 'avgScoreRank': None, 'provinceScore': None, 'schoolScore': None, 'templateType': None, 'ids': None, 'enrollPlan': None, 'scoreLine': 333.0, 'lowDiff': '20', 'avgDiff': '21', 'thanYear': None, 'isDependent': None, 'column': None, 'firstYear': None, 'secondYear': None, 'thirdYear': None, 'planLastYear': None, 'referType': None, 'pagination': None}, {'id': 61691, 'majorName': '历史学类', 'majorCategory': None, 'year': 2017, 'cityId': None, 'cityName': '江苏', 'scienceClass': '文科', 'enrollNum': None, 'hightScore': 353.0, 'lowScore': 352.0, 'avgScore': 353.0, 'sCode': 'FCHTWR', 'type': '普通文理', 'batch': '本科一批', 'isDelete': None, 'creator': None, 'createTime': None, 'modifier': None, 'modifyTime': None, 'remark': None, 'hasCat': None, 'hightScoreRank': None, 'lowScoreRank': None, 'avgScoreRank': None, 'provinceScore': None, 'schoolScore': None, 'templateType': None, 'ids': None, 'enrollPlan': None, 'scoreLine': 333.0, 'lowDiff': '19', 'avgDiff': '20', 'thanYear': None, 'isDependent': None, 'column': None, 'firstYear': None, 'secondYear': None, 'thirdYear': None, 'planLastYear': None, 'referType': None, 'pagination': None}, {'id': 61692, 'majorName': '考古学', 'majorCategory': None, 'year': 2017, 'cityId': None, 'cityName': '江苏', 'scienceClass': '文科', 'enrollNum': None, 'hightScore': 362.0, 'lowScore': 353.0, 'avgScore': 358.0, 'sCode': 'FCHTWR', 'type': '普通文理', 'batch': '本科一批', 'isDelete': None, 'creator': None, 'createTime': None, 'modifier': None, 'modifyTime': None, 'remark': None, 'hasCat': None, 'hightScoreRank': None, 'lowScoreRank': None, 'avgScoreRank': None, 'provinceScore': None, 'schoolScore': None, 'templateType': None, 'ids': None, 'enrollPlan': None, 'scoreLine': 333.0, 'lowDiff': '20', 'avgDiff': '25', 'thanYear': None, 'isDependent': None, 'column': None, 'firstYear': None, 'secondYear': None, 'thirdYear': None, 'planLastYear': None, 'referType': None, 'pagination': None}], 'columnConfig': None}\n",
      "{'list': [{'id': 61685, 'majorName': '哲学', 'majorCategory': None, 'year': 2017, 'cityId': None, 'cityName': '江苏', 'scienceClass': '文科', 'enrollNum': None, 'hightScore': 352.0, 'lowScore': 352.0, 'avgScore': 352.0, 'sCode': 'FCHTWR', 'type': '普通文理', 'batch': '本科一批', 'isDelete': None, 'creator': None, 'createTime': None, 'modifier': None, 'modifyTime': None, 'remark': None, 'hasCat': None, 'hightScoreRank': None, 'lowScoreRank': None, 'avgScoreRank': None, 'provinceScore': None, 'schoolScore': None, 'templateType': None, 'ids': None, 'enrollPlan': None, 'scoreLine': 333.0, 'lowDiff': '19', 'avgDiff': '19', 'thanYear': None, 'isDependent': None, 'column': None, 'firstYear': None, 'secondYear': None, 'thirdYear': None, 'planLastYear': None, 'referType': None, 'pagination': None}, {'id': 61686, 'majorName': '财政学', 'majorCategory': None, 'year': 2017, 'cityId': None, 'cityName': '江苏', 'scienceClass': '文科', 'enrollNum': None, 'hightScore': 358.0, 'lowScore': 354.0, 'avgScore': 356.0, 'sCode': 'FCHTWR', 'type': '普通文理', 'batch': '本科一批', 'isDelete': None, 'creator': None, 'createTime': None, 'modifier': None, 'modifyTime': None, 'remark': None, 'hasCat': None, 'hightScoreRank': None, 'lowScoreRank': None, 'avgScoreRank': None, 'provinceScore': None, 'schoolScore': None, 'templateType': None, 'ids': None, 'enrollPlan': None, 'scoreLine': 333.0, 'lowDiff': '21', 'avgDiff': '23', 'thanYear': None, 'isDependent': None, 'column': None, 'firstYear': None, 'secondYear': None, 'thirdYear': None, 'planLastYear': None, 'referType': None, 'pagination': None}, {'id': 61687, 'majorName': '法学', 'majorCategory': None, 'year': 2017, 'cityId': None, 'cityName': '江苏', 'scienceClass': '文科', 'enrollNum': None, 'hightScore': 354.0, 'lowScore': 353.0, 'avgScore': 354.0, 'sCode': 'FCHTWR', 'type': '普通文理', 'batch': '本科一批', 'isDelete': None, 'creator': None, 'createTime': None, 'modifier': None, 'modifyTime': None, 'remark': None, 'hasCat': None, 'hightScoreRank': None, 'lowScoreRank': None, 'avgScoreRank': None, 'provinceScore': None, 'schoolScore': None, 'templateType': None, 'ids': None, 'enrollPlan': None, 'scoreLine': 333.0, 'lowDiff': '20', 'avgDiff': '21', 'thanYear': None, 'isDependent': None, 'column': None, 'firstYear': None, 'secondYear': None, 'thirdYear': None, 'planLastYear': None, 'referType': None, 'pagination': None}, {'id': 61688, 'majorName': '新闻传播学类', 'majorCategory': None, 'year': 2017, 'cityId': None, 'cityName': '江苏', 'scienceClass': '文科', 'enrollNum': None, 'hightScore': 359.0, 'lowScore': 353.0, 'avgScore': 356.0, 'sCode': 'FCHTWR', 'type': '普通文理', 'batch': '本科一批', 'isDelete': None, 'creator': None, 'createTime': None, 'modifier': None, 'modifyTime': None, 'remark': None, 'hasCat': None, 'hightScoreRank': None, 'lowScoreRank': None, 'avgScoreRank': None, 'provinceScore': None, 'schoolScore': None, 'templateType': None, 'ids': None, 'enrollPlan': None, 'scoreLine': 333.0, 'lowDiff': '20', 'avgDiff': '23', 'thanYear': None, 'isDependent': None, 'column': None, 'firstYear': None, 'secondYear': None, 'thirdYear': None, 'planLastYear': None, 'referType': None, 'pagination': None}, {'id': 61689, 'majorName': '汉语言文学', 'majorCategory': None, 'year': 2017, 'cityId': None, 'cityName': '江苏', 'scienceClass': '文科', 'enrollNum': None, 'hightScore': 355.0, 'lowScore': 353.0, 'avgScore': 354.0, 'sCode': 'FCHTWR', 'type': '普通文理', 'batch': '本科一批', 'isDelete': None, 'creator': None, 'createTime': None, 'modifier': None, 'modifyTime': None, 'remark': None, 'hasCat': None, 'hightScoreRank': None, 'lowScoreRank': None, 'avgScoreRank': None, 'provinceScore': None, 'schoolScore': None, 'templateType': None, 'ids': None, 'enrollPlan': None, 'scoreLine': 333.0, 'lowDiff': '20', 'avgDiff': '21', 'thanYear': None, 'isDependent': None, 'column': None, 'firstYear': None, 'secondYear': None, 'thirdYear': None, 'planLastYear': None, 'referType': None, 'pagination': None}, {'id': 61690, 'majorName': '汉语国际教育', 'majorCategory': None, 'year': 2017, 'cityId': None, 'cityName': '江苏', 'scienceClass': '文科', 'enrollNum': None, 'hightScore': 355.0, 'lowScore': 353.0, 'avgScore': 354.0, 'sCode': 'FCHTWR', 'type': '普通文理', 'batch': '本科一批', 'isDelete': None, 'creator': None, 'createTime': None, 'modifier': None, 'modifyTime': None, 'remark': None, 'hasCat': None, 'hightScoreRank': None, 'lowScoreRank': None, 'avgScoreRank': None, 'provinceScore': None, 'schoolScore': None, 'templateType': None, 'ids': None, 'enrollPlan': None, 'scoreLine': 333.0, 'lowDiff': '20', 'avgDiff': '21', 'thanYear': None, 'isDependent': None, 'column': None, 'firstYear': None, 'secondYear': None, 'thirdYear': None, 'planLastYear': None, 'referType': None, 'pagination': None}, {'id': 61691, 'majorName': '历史学类', 'majorCategory': None, 'year': 2017, 'cityId': None, 'cityName': '江苏', 'scienceClass': '文科', 'enrollNum': None, 'hightScore': 353.0, 'lowScore': 352.0, 'avgScore': 353.0, 'sCode': 'FCHTWR', 'type': '普通文理', 'batch': '本科一批', 'isDelete': None, 'creator': None, 'createTime': None, 'modifier': None, 'modifyTime': None, 'remark': None, 'hasCat': None, 'hightScoreRank': None, 'lowScoreRank': None, 'avgScoreRank': None, 'provinceScore': None, 'schoolScore': None, 'templateType': None, 'ids': None, 'enrollPlan': None, 'scoreLine': 333.0, 'lowDiff': '19', 'avgDiff': '20', 'thanYear': None, 'isDependent': None, 'column': None, 'firstYear': None, 'secondYear': None, 'thirdYear': None, 'planLastYear': None, 'referType': None, 'pagination': None}, {'id': 61692, 'majorName': '考古学', 'majorCategory': None, 'year': 2017, 'cityId': None, 'cityName': '江苏', 'scienceClass': '文科', 'enrollNum': None, 'hightScore': 362.0, 'lowScore': 353.0, 'avgScore': 358.0, 'sCode': 'FCHTWR', 'type': '普通文理', 'batch': '本科一批', 'isDelete': None, 'creator': None, 'createTime': None, 'modifier': None, 'modifyTime': None, 'remark': None, 'hasCat': None, 'hightScoreRank': None, 'lowScoreRank': None, 'avgScoreRank': None, 'provinceScore': None, 'schoolScore': None, 'templateType': None, 'ids': None, 'enrollPlan': None, 'scoreLine': 333.0, 'lowDiff': '20', 'avgDiff': '25', 'thanYear': None, 'isDependent': None, 'column': None, 'firstYear': None, 'secondYear': None, 'thirdYear': None, 'planLastYear': None, 'referType': None, 'pagination': None}], 'columnConfig': None}\n",
      "{'list': [{'id': 61685, 'majorName': '哲学', 'majorCategory': None, 'year': 2017, 'cityId': None, 'cityName': '江苏', 'scienceClass': '文科', 'enrollNum': None, 'hightScore': 352.0, 'lowScore': 352.0, 'avgScore': 352.0, 'sCode': 'FCHTWR', 'type': '普通文理', 'batch': '本科一批', 'isDelete': None, 'creator': None, 'createTime': None, 'modifier': None, 'modifyTime': None, 'remark': None, 'hasCat': None, 'hightScoreRank': None, 'lowScoreRank': None, 'avgScoreRank': None, 'provinceScore': None, 'schoolScore': None, 'templateType': None, 'ids': None, 'enrollPlan': None, 'scoreLine': 333.0, 'lowDiff': '19', 'avgDiff': '19', 'thanYear': None, 'isDependent': None, 'column': None, 'firstYear': None, 'secondYear': None, 'thirdYear': None, 'planLastYear': None, 'referType': None, 'pagination': None}, {'id': 61686, 'majorName': '财政学', 'majorCategory': None, 'year': 2017, 'cityId': None, 'cityName': '江苏', 'scienceClass': '文科', 'enrollNum': None, 'hightScore': 358.0, 'lowScore': 354.0, 'avgScore': 356.0, 'sCode': 'FCHTWR', 'type': '普通文理', 'batch': '本科一批', 'isDelete': None, 'creator': None, 'createTime': None, 'modifier': None, 'modifyTime': None, 'remark': None, 'hasCat': None, 'hightScoreRank': None, 'lowScoreRank': None, 'avgScoreRank': None, 'provinceScore': None, 'schoolScore': None, 'templateType': None, 'ids': None, 'enrollPlan': None, 'scoreLine': 333.0, 'lowDiff': '21', 'avgDiff': '23', 'thanYear': None, 'isDependent': None, 'column': None, 'firstYear': None, 'secondYear': None, 'thirdYear': None, 'planLastYear': None, 'referType': None, 'pagination': None}, {'id': 61687, 'majorName': '法学', 'majorCategory': None, 'year': 2017, 'cityId': None, 'cityName': '江苏', 'scienceClass': '文科', 'enrollNum': None, 'hightScore': 354.0, 'lowScore': 353.0, 'avgScore': 354.0, 'sCode': 'FCHTWR', 'type': '普通文理', 'batch': '本科一批', 'isDelete': None, 'creator': None, 'createTime': None, 'modifier': None, 'modifyTime': None, 'remark': None, 'hasCat': None, 'hightScoreRank': None, 'lowScoreRank': None, 'avgScoreRank': None, 'provinceScore': None, 'schoolScore': None, 'templateType': None, 'ids': None, 'enrollPlan': None, 'scoreLine': 333.0, 'lowDiff': '20', 'avgDiff': '21', 'thanYear': None, 'isDependent': None, 'column': None, 'firstYear': None, 'secondYear': None, 'thirdYear': None, 'planLastYear': None, 'referType': None, 'pagination': None}, {'id': 61688, 'majorName': '新闻传播学类', 'majorCategory': None, 'year': 2017, 'cityId': None, 'cityName': '江苏', 'scienceClass': '文科', 'enrollNum': None, 'hightScore': 359.0, 'lowScore': 353.0, 'avgScore': 356.0, 'sCode': 'FCHTWR', 'type': '普通文理', 'batch': '本科一批', 'isDelete': None, 'creator': None, 'createTime': None, 'modifier': None, 'modifyTime': None, 'remark': None, 'hasCat': None, 'hightScoreRank': None, 'lowScoreRank': None, 'avgScoreRank': None, 'provinceScore': None, 'schoolScore': None, 'templateType': None, 'ids': None, 'enrollPlan': None, 'scoreLine': 333.0, 'lowDiff': '20', 'avgDiff': '23', 'thanYear': None, 'isDependent': None, 'column': None, 'firstYear': None, 'secondYear': None, 'thirdYear': None, 'planLastYear': None, 'referType': None, 'pagination': None}, {'id': 61689, 'majorName': '汉语言文学', 'majorCategory': None, 'year': 2017, 'cityId': None, 'cityName': '江苏', 'scienceClass': '文科', 'enrollNum': None, 'hightScore': 355.0, 'lowScore': 353.0, 'avgScore': 354.0, 'sCode': 'FCHTWR', 'type': '普通文理', 'batch': '本科一批', 'isDelete': None, 'creator': None, 'createTime': None, 'modifier': None, 'modifyTime': None, 'remark': None, 'hasCat': None, 'hightScoreRank': None, 'lowScoreRank': None, 'avgScoreRank': None, 'provinceScore': None, 'schoolScore': None, 'templateType': None, 'ids': None, 'enrollPlan': None, 'scoreLine': 333.0, 'lowDiff': '20', 'avgDiff': '21', 'thanYear': None, 'isDependent': None, 'column': None, 'firstYear': None, 'secondYear': None, 'thirdYear': None, 'planLastYear': None, 'referType': None, 'pagination': None}, {'id': 61690, 'majorName': '汉语国际教育', 'majorCategory': None, 'year': 2017, 'cityId': None, 'cityName': '江苏', 'scienceClass': '文科', 'enrollNum': None, 'hightScore': 355.0, 'lowScore': 353.0, 'avgScore': 354.0, 'sCode': 'FCHTWR', 'type': '普通文理', 'batch': '本科一批', 'isDelete': None, 'creator': None, 'createTime': None, 'modifier': None, 'modifyTime': None, 'remark': None, 'hasCat': None, 'hightScoreRank': None, 'lowScoreRank': None, 'avgScoreRank': None, 'provinceScore': None, 'schoolScore': None, 'templateType': None, 'ids': None, 'enrollPlan': None, 'scoreLine': 333.0, 'lowDiff': '20', 'avgDiff': '21', 'thanYear': None, 'isDependent': None, 'column': None, 'firstYear': None, 'secondYear': None, 'thirdYear': None, 'planLastYear': None, 'referType': None, 'pagination': None}, {'id': 61691, 'majorName': '历史学类', 'majorCategory': None, 'year': 2017, 'cityId': None, 'cityName': '江苏', 'scienceClass': '文科', 'enrollNum': None, 'hightScore': 353.0, 'lowScore': 352.0, 'avgScore': 353.0, 'sCode': 'FCHTWR', 'type': '普通文理', 'batch': '本科一批', 'isDelete': None, 'creator': None, 'createTime': None, 'modifier': None, 'modifyTime': None, 'remark': None, 'hasCat': None, 'hightScoreRank': None, 'lowScoreRank': None, 'avgScoreRank': None, 'provinceScore': None, 'schoolScore': None, 'templateType': None, 'ids': None, 'enrollPlan': None, 'scoreLine': 333.0, 'lowDiff': '19', 'avgDiff': '20', 'thanYear': None, 'isDependent': None, 'column': None, 'firstYear': None, 'secondYear': None, 'thirdYear': None, 'planLastYear': None, 'referType': None, 'pagination': None}, {'id': 61692, 'majorName': '考古学', 'majorCategory': None, 'year': 2017, 'cityId': None, 'cityName': '江苏', 'scienceClass': '文科', 'enrollNum': None, 'hightScore': 362.0, 'lowScore': 353.0, 'avgScore': 358.0, 'sCode': 'FCHTWR', 'type': '普通文理', 'batch': '本科一批', 'isDelete': None, 'creator': None, 'createTime': None, 'modifier': None, 'modifyTime': None, 'remark': None, 'hasCat': None, 'hightScoreRank': None, 'lowScoreRank': None, 'avgScoreRank': None, 'provinceScore': None, 'schoolScore': None, 'templateType': None, 'ids': None, 'enrollPlan': None, 'scoreLine': 333.0, 'lowDiff': '20', 'avgDiff': '25', 'thanYear': None, 'isDependent': None, 'column': None, 'firstYear': None, 'secondYear': None, 'thirdYear': None, 'planLastYear': None, 'referType': None, 'pagination': None}], 'columnConfig': None}\n"
     ]
    },
    {
     "name": "stdout",
     "output_type": "stream",
     "text": [
      "{'list': [{'id': 61685, 'majorName': '哲学', 'majorCategory': None, 'year': 2017, 'cityId': None, 'cityName': '江苏', 'scienceClass': '文科', 'enrollNum': None, 'hightScore': 352.0, 'lowScore': 352.0, 'avgScore': 352.0, 'sCode': 'FCHTWR', 'type': '普通文理', 'batch': '本科一批', 'isDelete': None, 'creator': None, 'createTime': None, 'modifier': None, 'modifyTime': None, 'remark': None, 'hasCat': None, 'hightScoreRank': None, 'lowScoreRank': None, 'avgScoreRank': None, 'provinceScore': None, 'schoolScore': None, 'templateType': None, 'ids': None, 'enrollPlan': None, 'scoreLine': 333.0, 'lowDiff': '19', 'avgDiff': '19', 'thanYear': None, 'isDependent': None, 'column': None, 'firstYear': None, 'secondYear': None, 'thirdYear': None, 'planLastYear': None, 'referType': None, 'pagination': None}, {'id': 61686, 'majorName': '财政学', 'majorCategory': None, 'year': 2017, 'cityId': None, 'cityName': '江苏', 'scienceClass': '文科', 'enrollNum': None, 'hightScore': 358.0, 'lowScore': 354.0, 'avgScore': 356.0, 'sCode': 'FCHTWR', 'type': '普通文理', 'batch': '本科一批', 'isDelete': None, 'creator': None, 'createTime': None, 'modifier': None, 'modifyTime': None, 'remark': None, 'hasCat': None, 'hightScoreRank': None, 'lowScoreRank': None, 'avgScoreRank': None, 'provinceScore': None, 'schoolScore': None, 'templateType': None, 'ids': None, 'enrollPlan': None, 'scoreLine': 333.0, 'lowDiff': '21', 'avgDiff': '23', 'thanYear': None, 'isDependent': None, 'column': None, 'firstYear': None, 'secondYear': None, 'thirdYear': None, 'planLastYear': None, 'referType': None, 'pagination': None}, {'id': 61687, 'majorName': '法学', 'majorCategory': None, 'year': 2017, 'cityId': None, 'cityName': '江苏', 'scienceClass': '文科', 'enrollNum': None, 'hightScore': 354.0, 'lowScore': 353.0, 'avgScore': 354.0, 'sCode': 'FCHTWR', 'type': '普通文理', 'batch': '本科一批', 'isDelete': None, 'creator': None, 'createTime': None, 'modifier': None, 'modifyTime': None, 'remark': None, 'hasCat': None, 'hightScoreRank': None, 'lowScoreRank': None, 'avgScoreRank': None, 'provinceScore': None, 'schoolScore': None, 'templateType': None, 'ids': None, 'enrollPlan': None, 'scoreLine': 333.0, 'lowDiff': '20', 'avgDiff': '21', 'thanYear': None, 'isDependent': None, 'column': None, 'firstYear': None, 'secondYear': None, 'thirdYear': None, 'planLastYear': None, 'referType': None, 'pagination': None}, {'id': 61688, 'majorName': '新闻传播学类', 'majorCategory': None, 'year': 2017, 'cityId': None, 'cityName': '江苏', 'scienceClass': '文科', 'enrollNum': None, 'hightScore': 359.0, 'lowScore': 353.0, 'avgScore': 356.0, 'sCode': 'FCHTWR', 'type': '普通文理', 'batch': '本科一批', 'isDelete': None, 'creator': None, 'createTime': None, 'modifier': None, 'modifyTime': None, 'remark': None, 'hasCat': None, 'hightScoreRank': None, 'lowScoreRank': None, 'avgScoreRank': None, 'provinceScore': None, 'schoolScore': None, 'templateType': None, 'ids': None, 'enrollPlan': None, 'scoreLine': 333.0, 'lowDiff': '20', 'avgDiff': '23', 'thanYear': None, 'isDependent': None, 'column': None, 'firstYear': None, 'secondYear': None, 'thirdYear': None, 'planLastYear': None, 'referType': None, 'pagination': None}, {'id': 61689, 'majorName': '汉语言文学', 'majorCategory': None, 'year': 2017, 'cityId': None, 'cityName': '江苏', 'scienceClass': '文科', 'enrollNum': None, 'hightScore': 355.0, 'lowScore': 353.0, 'avgScore': 354.0, 'sCode': 'FCHTWR', 'type': '普通文理', 'batch': '本科一批', 'isDelete': None, 'creator': None, 'createTime': None, 'modifier': None, 'modifyTime': None, 'remark': None, 'hasCat': None, 'hightScoreRank': None, 'lowScoreRank': None, 'avgScoreRank': None, 'provinceScore': None, 'schoolScore': None, 'templateType': None, 'ids': None, 'enrollPlan': None, 'scoreLine': 333.0, 'lowDiff': '20', 'avgDiff': '21', 'thanYear': None, 'isDependent': None, 'column': None, 'firstYear': None, 'secondYear': None, 'thirdYear': None, 'planLastYear': None, 'referType': None, 'pagination': None}, {'id': 61690, 'majorName': '汉语国际教育', 'majorCategory': None, 'year': 2017, 'cityId': None, 'cityName': '江苏', 'scienceClass': '文科', 'enrollNum': None, 'hightScore': 355.0, 'lowScore': 353.0, 'avgScore': 354.0, 'sCode': 'FCHTWR', 'type': '普通文理', 'batch': '本科一批', 'isDelete': None, 'creator': None, 'createTime': None, 'modifier': None, 'modifyTime': None, 'remark': None, 'hasCat': None, 'hightScoreRank': None, 'lowScoreRank': None, 'avgScoreRank': None, 'provinceScore': None, 'schoolScore': None, 'templateType': None, 'ids': None, 'enrollPlan': None, 'scoreLine': 333.0, 'lowDiff': '20', 'avgDiff': '21', 'thanYear': None, 'isDependent': None, 'column': None, 'firstYear': None, 'secondYear': None, 'thirdYear': None, 'planLastYear': None, 'referType': None, 'pagination': None}, {'id': 61691, 'majorName': '历史学类', 'majorCategory': None, 'year': 2017, 'cityId': None, 'cityName': '江苏', 'scienceClass': '文科', 'enrollNum': None, 'hightScore': 353.0, 'lowScore': 352.0, 'avgScore': 353.0, 'sCode': 'FCHTWR', 'type': '普通文理', 'batch': '本科一批', 'isDelete': None, 'creator': None, 'createTime': None, 'modifier': None, 'modifyTime': None, 'remark': None, 'hasCat': None, 'hightScoreRank': None, 'lowScoreRank': None, 'avgScoreRank': None, 'provinceScore': None, 'schoolScore': None, 'templateType': None, 'ids': None, 'enrollPlan': None, 'scoreLine': 333.0, 'lowDiff': '19', 'avgDiff': '20', 'thanYear': None, 'isDependent': None, 'column': None, 'firstYear': None, 'secondYear': None, 'thirdYear': None, 'planLastYear': None, 'referType': None, 'pagination': None}, {'id': 61692, 'majorName': '考古学', 'majorCategory': None, 'year': 2017, 'cityId': None, 'cityName': '江苏', 'scienceClass': '文科', 'enrollNum': None, 'hightScore': 362.0, 'lowScore': 353.0, 'avgScore': 358.0, 'sCode': 'FCHTWR', 'type': '普通文理', 'batch': '本科一批', 'isDelete': None, 'creator': None, 'createTime': None, 'modifier': None, 'modifyTime': None, 'remark': None, 'hasCat': None, 'hightScoreRank': None, 'lowScoreRank': None, 'avgScoreRank': None, 'provinceScore': None, 'schoolScore': None, 'templateType': None, 'ids': None, 'enrollPlan': None, 'scoreLine': 333.0, 'lowDiff': '20', 'avgDiff': '25', 'thanYear': None, 'isDependent': None, 'column': None, 'firstYear': None, 'secondYear': None, 'thirdYear': None, 'planLastYear': None, 'referType': None, 'pagination': None}], 'columnConfig': None}\n",
      "{'list': [{'id': 61685, 'majorName': '哲学', 'majorCategory': None, 'year': 2017, 'cityId': None, 'cityName': '江苏', 'scienceClass': '文科', 'enrollNum': None, 'hightScore': 352.0, 'lowScore': 352.0, 'avgScore': 352.0, 'sCode': 'FCHTWR', 'type': '普通文理', 'batch': '本科一批', 'isDelete': None, 'creator': None, 'createTime': None, 'modifier': None, 'modifyTime': None, 'remark': None, 'hasCat': None, 'hightScoreRank': None, 'lowScoreRank': None, 'avgScoreRank': None, 'provinceScore': None, 'schoolScore': None, 'templateType': None, 'ids': None, 'enrollPlan': None, 'scoreLine': 333.0, 'lowDiff': '19', 'avgDiff': '19', 'thanYear': None, 'isDependent': None, 'column': None, 'firstYear': None, 'secondYear': None, 'thirdYear': None, 'planLastYear': None, 'referType': None, 'pagination': None}, {'id': 61686, 'majorName': '财政学', 'majorCategory': None, 'year': 2017, 'cityId': None, 'cityName': '江苏', 'scienceClass': '文科', 'enrollNum': None, 'hightScore': 358.0, 'lowScore': 354.0, 'avgScore': 356.0, 'sCode': 'FCHTWR', 'type': '普通文理', 'batch': '本科一批', 'isDelete': None, 'creator': None, 'createTime': None, 'modifier': None, 'modifyTime': None, 'remark': None, 'hasCat': None, 'hightScoreRank': None, 'lowScoreRank': None, 'avgScoreRank': None, 'provinceScore': None, 'schoolScore': None, 'templateType': None, 'ids': None, 'enrollPlan': None, 'scoreLine': 333.0, 'lowDiff': '21', 'avgDiff': '23', 'thanYear': None, 'isDependent': None, 'column': None, 'firstYear': None, 'secondYear': None, 'thirdYear': None, 'planLastYear': None, 'referType': None, 'pagination': None}, {'id': 61687, 'majorName': '法学', 'majorCategory': None, 'year': 2017, 'cityId': None, 'cityName': '江苏', 'scienceClass': '文科', 'enrollNum': None, 'hightScore': 354.0, 'lowScore': 353.0, 'avgScore': 354.0, 'sCode': 'FCHTWR', 'type': '普通文理', 'batch': '本科一批', 'isDelete': None, 'creator': None, 'createTime': None, 'modifier': None, 'modifyTime': None, 'remark': None, 'hasCat': None, 'hightScoreRank': None, 'lowScoreRank': None, 'avgScoreRank': None, 'provinceScore': None, 'schoolScore': None, 'templateType': None, 'ids': None, 'enrollPlan': None, 'scoreLine': 333.0, 'lowDiff': '20', 'avgDiff': '21', 'thanYear': None, 'isDependent': None, 'column': None, 'firstYear': None, 'secondYear': None, 'thirdYear': None, 'planLastYear': None, 'referType': None, 'pagination': None}, {'id': 61688, 'majorName': '新闻传播学类', 'majorCategory': None, 'year': 2017, 'cityId': None, 'cityName': '江苏', 'scienceClass': '文科', 'enrollNum': None, 'hightScore': 359.0, 'lowScore': 353.0, 'avgScore': 356.0, 'sCode': 'FCHTWR', 'type': '普通文理', 'batch': '本科一批', 'isDelete': None, 'creator': None, 'createTime': None, 'modifier': None, 'modifyTime': None, 'remark': None, 'hasCat': None, 'hightScoreRank': None, 'lowScoreRank': None, 'avgScoreRank': None, 'provinceScore': None, 'schoolScore': None, 'templateType': None, 'ids': None, 'enrollPlan': None, 'scoreLine': 333.0, 'lowDiff': '20', 'avgDiff': '23', 'thanYear': None, 'isDependent': None, 'column': None, 'firstYear': None, 'secondYear': None, 'thirdYear': None, 'planLastYear': None, 'referType': None, 'pagination': None}, {'id': 61689, 'majorName': '汉语言文学', 'majorCategory': None, 'year': 2017, 'cityId': None, 'cityName': '江苏', 'scienceClass': '文科', 'enrollNum': None, 'hightScore': 355.0, 'lowScore': 353.0, 'avgScore': 354.0, 'sCode': 'FCHTWR', 'type': '普通文理', 'batch': '本科一批', 'isDelete': None, 'creator': None, 'createTime': None, 'modifier': None, 'modifyTime': None, 'remark': None, 'hasCat': None, 'hightScoreRank': None, 'lowScoreRank': None, 'avgScoreRank': None, 'provinceScore': None, 'schoolScore': None, 'templateType': None, 'ids': None, 'enrollPlan': None, 'scoreLine': 333.0, 'lowDiff': '20', 'avgDiff': '21', 'thanYear': None, 'isDependent': None, 'column': None, 'firstYear': None, 'secondYear': None, 'thirdYear': None, 'planLastYear': None, 'referType': None, 'pagination': None}, {'id': 61690, 'majorName': '汉语国际教育', 'majorCategory': None, 'year': 2017, 'cityId': None, 'cityName': '江苏', 'scienceClass': '文科', 'enrollNum': None, 'hightScore': 355.0, 'lowScore': 353.0, 'avgScore': 354.0, 'sCode': 'FCHTWR', 'type': '普通文理', 'batch': '本科一批', 'isDelete': None, 'creator': None, 'createTime': None, 'modifier': None, 'modifyTime': None, 'remark': None, 'hasCat': None, 'hightScoreRank': None, 'lowScoreRank': None, 'avgScoreRank': None, 'provinceScore': None, 'schoolScore': None, 'templateType': None, 'ids': None, 'enrollPlan': None, 'scoreLine': 333.0, 'lowDiff': '20', 'avgDiff': '21', 'thanYear': None, 'isDependent': None, 'column': None, 'firstYear': None, 'secondYear': None, 'thirdYear': None, 'planLastYear': None, 'referType': None, 'pagination': None}, {'id': 61691, 'majorName': '历史学类', 'majorCategory': None, 'year': 2017, 'cityId': None, 'cityName': '江苏', 'scienceClass': '文科', 'enrollNum': None, 'hightScore': 353.0, 'lowScore': 352.0, 'avgScore': 353.0, 'sCode': 'FCHTWR', 'type': '普通文理', 'batch': '本科一批', 'isDelete': None, 'creator': None, 'createTime': None, 'modifier': None, 'modifyTime': None, 'remark': None, 'hasCat': None, 'hightScoreRank': None, 'lowScoreRank': None, 'avgScoreRank': None, 'provinceScore': None, 'schoolScore': None, 'templateType': None, 'ids': None, 'enrollPlan': None, 'scoreLine': 333.0, 'lowDiff': '19', 'avgDiff': '20', 'thanYear': None, 'isDependent': None, 'column': None, 'firstYear': None, 'secondYear': None, 'thirdYear': None, 'planLastYear': None, 'referType': None, 'pagination': None}, {'id': 61692, 'majorName': '考古学', 'majorCategory': None, 'year': 2017, 'cityId': None, 'cityName': '江苏', 'scienceClass': '文科', 'enrollNum': None, 'hightScore': 362.0, 'lowScore': 353.0, 'avgScore': 358.0, 'sCode': 'FCHTWR', 'type': '普通文理', 'batch': '本科一批', 'isDelete': None, 'creator': None, 'createTime': None, 'modifier': None, 'modifyTime': None, 'remark': None, 'hasCat': None, 'hightScoreRank': None, 'lowScoreRank': None, 'avgScoreRank': None, 'provinceScore': None, 'schoolScore': None, 'templateType': None, 'ids': None, 'enrollPlan': None, 'scoreLine': 333.0, 'lowDiff': '20', 'avgDiff': '25', 'thanYear': None, 'isDependent': None, 'column': None, 'firstYear': None, 'secondYear': None, 'thirdYear': None, 'planLastYear': None, 'referType': None, 'pagination': None}], 'columnConfig': None}\n",
      "{'list': [{'id': 61685, 'majorName': '哲学', 'majorCategory': None, 'year': 2017, 'cityId': None, 'cityName': '江苏', 'scienceClass': '文科', 'enrollNum': None, 'hightScore': 352.0, 'lowScore': 352.0, 'avgScore': 352.0, 'sCode': 'FCHTWR', 'type': '普通文理', 'batch': '本科一批', 'isDelete': None, 'creator': None, 'createTime': None, 'modifier': None, 'modifyTime': None, 'remark': None, 'hasCat': None, 'hightScoreRank': None, 'lowScoreRank': None, 'avgScoreRank': None, 'provinceScore': None, 'schoolScore': None, 'templateType': None, 'ids': None, 'enrollPlan': None, 'scoreLine': 333.0, 'lowDiff': '19', 'avgDiff': '19', 'thanYear': None, 'isDependent': None, 'column': None, 'firstYear': None, 'secondYear': None, 'thirdYear': None, 'planLastYear': None, 'referType': None, 'pagination': None}, {'id': 61686, 'majorName': '财政学', 'majorCategory': None, 'year': 2017, 'cityId': None, 'cityName': '江苏', 'scienceClass': '文科', 'enrollNum': None, 'hightScore': 358.0, 'lowScore': 354.0, 'avgScore': 356.0, 'sCode': 'FCHTWR', 'type': '普通文理', 'batch': '本科一批', 'isDelete': None, 'creator': None, 'createTime': None, 'modifier': None, 'modifyTime': None, 'remark': None, 'hasCat': None, 'hightScoreRank': None, 'lowScoreRank': None, 'avgScoreRank': None, 'provinceScore': None, 'schoolScore': None, 'templateType': None, 'ids': None, 'enrollPlan': None, 'scoreLine': 333.0, 'lowDiff': '21', 'avgDiff': '23', 'thanYear': None, 'isDependent': None, 'column': None, 'firstYear': None, 'secondYear': None, 'thirdYear': None, 'planLastYear': None, 'referType': None, 'pagination': None}, {'id': 61687, 'majorName': '法学', 'majorCategory': None, 'year': 2017, 'cityId': None, 'cityName': '江苏', 'scienceClass': '文科', 'enrollNum': None, 'hightScore': 354.0, 'lowScore': 353.0, 'avgScore': 354.0, 'sCode': 'FCHTWR', 'type': '普通文理', 'batch': '本科一批', 'isDelete': None, 'creator': None, 'createTime': None, 'modifier': None, 'modifyTime': None, 'remark': None, 'hasCat': None, 'hightScoreRank': None, 'lowScoreRank': None, 'avgScoreRank': None, 'provinceScore': None, 'schoolScore': None, 'templateType': None, 'ids': None, 'enrollPlan': None, 'scoreLine': 333.0, 'lowDiff': '20', 'avgDiff': '21', 'thanYear': None, 'isDependent': None, 'column': None, 'firstYear': None, 'secondYear': None, 'thirdYear': None, 'planLastYear': None, 'referType': None, 'pagination': None}, {'id': 61688, 'majorName': '新闻传播学类', 'majorCategory': None, 'year': 2017, 'cityId': None, 'cityName': '江苏', 'scienceClass': '文科', 'enrollNum': None, 'hightScore': 359.0, 'lowScore': 353.0, 'avgScore': 356.0, 'sCode': 'FCHTWR', 'type': '普通文理', 'batch': '本科一批', 'isDelete': None, 'creator': None, 'createTime': None, 'modifier': None, 'modifyTime': None, 'remark': None, 'hasCat': None, 'hightScoreRank': None, 'lowScoreRank': None, 'avgScoreRank': None, 'provinceScore': None, 'schoolScore': None, 'templateType': None, 'ids': None, 'enrollPlan': None, 'scoreLine': 333.0, 'lowDiff': '20', 'avgDiff': '23', 'thanYear': None, 'isDependent': None, 'column': None, 'firstYear': None, 'secondYear': None, 'thirdYear': None, 'planLastYear': None, 'referType': None, 'pagination': None}, {'id': 61689, 'majorName': '汉语言文学', 'majorCategory': None, 'year': 2017, 'cityId': None, 'cityName': '江苏', 'scienceClass': '文科', 'enrollNum': None, 'hightScore': 355.0, 'lowScore': 353.0, 'avgScore': 354.0, 'sCode': 'FCHTWR', 'type': '普通文理', 'batch': '本科一批', 'isDelete': None, 'creator': None, 'createTime': None, 'modifier': None, 'modifyTime': None, 'remark': None, 'hasCat': None, 'hightScoreRank': None, 'lowScoreRank': None, 'avgScoreRank': None, 'provinceScore': None, 'schoolScore': None, 'templateType': None, 'ids': None, 'enrollPlan': None, 'scoreLine': 333.0, 'lowDiff': '20', 'avgDiff': '21', 'thanYear': None, 'isDependent': None, 'column': None, 'firstYear': None, 'secondYear': None, 'thirdYear': None, 'planLastYear': None, 'referType': None, 'pagination': None}, {'id': 61690, 'majorName': '汉语国际教育', 'majorCategory': None, 'year': 2017, 'cityId': None, 'cityName': '江苏', 'scienceClass': '文科', 'enrollNum': None, 'hightScore': 355.0, 'lowScore': 353.0, 'avgScore': 354.0, 'sCode': 'FCHTWR', 'type': '普通文理', 'batch': '本科一批', 'isDelete': None, 'creator': None, 'createTime': None, 'modifier': None, 'modifyTime': None, 'remark': None, 'hasCat': None, 'hightScoreRank': None, 'lowScoreRank': None, 'avgScoreRank': None, 'provinceScore': None, 'schoolScore': None, 'templateType': None, 'ids': None, 'enrollPlan': None, 'scoreLine': 333.0, 'lowDiff': '20', 'avgDiff': '21', 'thanYear': None, 'isDependent': None, 'column': None, 'firstYear': None, 'secondYear': None, 'thirdYear': None, 'planLastYear': None, 'referType': None, 'pagination': None}, {'id': 61691, 'majorName': '历史学类', 'majorCategory': None, 'year': 2017, 'cityId': None, 'cityName': '江苏', 'scienceClass': '文科', 'enrollNum': None, 'hightScore': 353.0, 'lowScore': 352.0, 'avgScore': 353.0, 'sCode': 'FCHTWR', 'type': '普通文理', 'batch': '本科一批', 'isDelete': None, 'creator': None, 'createTime': None, 'modifier': None, 'modifyTime': None, 'remark': None, 'hasCat': None, 'hightScoreRank': None, 'lowScoreRank': None, 'avgScoreRank': None, 'provinceScore': None, 'schoolScore': None, 'templateType': None, 'ids': None, 'enrollPlan': None, 'scoreLine': 333.0, 'lowDiff': '19', 'avgDiff': '20', 'thanYear': None, 'isDependent': None, 'column': None, 'firstYear': None, 'secondYear': None, 'thirdYear': None, 'planLastYear': None, 'referType': None, 'pagination': None}, {'id': 61692, 'majorName': '考古学', 'majorCategory': None, 'year': 2017, 'cityId': None, 'cityName': '江苏', 'scienceClass': '文科', 'enrollNum': None, 'hightScore': 362.0, 'lowScore': 353.0, 'avgScore': 358.0, 'sCode': 'FCHTWR', 'type': '普通文理', 'batch': '本科一批', 'isDelete': None, 'creator': None, 'createTime': None, 'modifier': None, 'modifyTime': None, 'remark': None, 'hasCat': None, 'hightScoreRank': None, 'lowScoreRank': None, 'avgScoreRank': None, 'provinceScore': None, 'schoolScore': None, 'templateType': None, 'ids': None, 'enrollPlan': None, 'scoreLine': 333.0, 'lowDiff': '20', 'avgDiff': '25', 'thanYear': None, 'isDependent': None, 'column': None, 'firstYear': None, 'secondYear': None, 'thirdYear': None, 'planLastYear': None, 'referType': None, 'pagination': None}], 'columnConfig': None}\n"
     ]
    },
    {
     "name": "stdout",
     "output_type": "stream",
     "text": [
      "{'list': [{'id': 61685, 'majorName': '哲学', 'majorCategory': None, 'year': 2017, 'cityId': None, 'cityName': '江苏', 'scienceClass': '文科', 'enrollNum': None, 'hightScore': 352.0, 'lowScore': 352.0, 'avgScore': 352.0, 'sCode': 'FCHTWR', 'type': '普通文理', 'batch': '本科一批', 'isDelete': None, 'creator': None, 'createTime': None, 'modifier': None, 'modifyTime': None, 'remark': None, 'hasCat': None, 'hightScoreRank': None, 'lowScoreRank': None, 'avgScoreRank': None, 'provinceScore': None, 'schoolScore': None, 'templateType': None, 'ids': None, 'enrollPlan': None, 'scoreLine': 333.0, 'lowDiff': '19', 'avgDiff': '19', 'thanYear': None, 'isDependent': None, 'column': None, 'firstYear': None, 'secondYear': None, 'thirdYear': None, 'planLastYear': None, 'referType': None, 'pagination': None}, {'id': 61686, 'majorName': '财政学', 'majorCategory': None, 'year': 2017, 'cityId': None, 'cityName': '江苏', 'scienceClass': '文科', 'enrollNum': None, 'hightScore': 358.0, 'lowScore': 354.0, 'avgScore': 356.0, 'sCode': 'FCHTWR', 'type': '普通文理', 'batch': '本科一批', 'isDelete': None, 'creator': None, 'createTime': None, 'modifier': None, 'modifyTime': None, 'remark': None, 'hasCat': None, 'hightScoreRank': None, 'lowScoreRank': None, 'avgScoreRank': None, 'provinceScore': None, 'schoolScore': None, 'templateType': None, 'ids': None, 'enrollPlan': None, 'scoreLine': 333.0, 'lowDiff': '21', 'avgDiff': '23', 'thanYear': None, 'isDependent': None, 'column': None, 'firstYear': None, 'secondYear': None, 'thirdYear': None, 'planLastYear': None, 'referType': None, 'pagination': None}, {'id': 61687, 'majorName': '法学', 'majorCategory': None, 'year': 2017, 'cityId': None, 'cityName': '江苏', 'scienceClass': '文科', 'enrollNum': None, 'hightScore': 354.0, 'lowScore': 353.0, 'avgScore': 354.0, 'sCode': 'FCHTWR', 'type': '普通文理', 'batch': '本科一批', 'isDelete': None, 'creator': None, 'createTime': None, 'modifier': None, 'modifyTime': None, 'remark': None, 'hasCat': None, 'hightScoreRank': None, 'lowScoreRank': None, 'avgScoreRank': None, 'provinceScore': None, 'schoolScore': None, 'templateType': None, 'ids': None, 'enrollPlan': None, 'scoreLine': 333.0, 'lowDiff': '20', 'avgDiff': '21', 'thanYear': None, 'isDependent': None, 'column': None, 'firstYear': None, 'secondYear': None, 'thirdYear': None, 'planLastYear': None, 'referType': None, 'pagination': None}, {'id': 61688, 'majorName': '新闻传播学类', 'majorCategory': None, 'year': 2017, 'cityId': None, 'cityName': '江苏', 'scienceClass': '文科', 'enrollNum': None, 'hightScore': 359.0, 'lowScore': 353.0, 'avgScore': 356.0, 'sCode': 'FCHTWR', 'type': '普通文理', 'batch': '本科一批', 'isDelete': None, 'creator': None, 'createTime': None, 'modifier': None, 'modifyTime': None, 'remark': None, 'hasCat': None, 'hightScoreRank': None, 'lowScoreRank': None, 'avgScoreRank': None, 'provinceScore': None, 'schoolScore': None, 'templateType': None, 'ids': None, 'enrollPlan': None, 'scoreLine': 333.0, 'lowDiff': '20', 'avgDiff': '23', 'thanYear': None, 'isDependent': None, 'column': None, 'firstYear': None, 'secondYear': None, 'thirdYear': None, 'planLastYear': None, 'referType': None, 'pagination': None}, {'id': 61689, 'majorName': '汉语言文学', 'majorCategory': None, 'year': 2017, 'cityId': None, 'cityName': '江苏', 'scienceClass': '文科', 'enrollNum': None, 'hightScore': 355.0, 'lowScore': 353.0, 'avgScore': 354.0, 'sCode': 'FCHTWR', 'type': '普通文理', 'batch': '本科一批', 'isDelete': None, 'creator': None, 'createTime': None, 'modifier': None, 'modifyTime': None, 'remark': None, 'hasCat': None, 'hightScoreRank': None, 'lowScoreRank': None, 'avgScoreRank': None, 'provinceScore': None, 'schoolScore': None, 'templateType': None, 'ids': None, 'enrollPlan': None, 'scoreLine': 333.0, 'lowDiff': '20', 'avgDiff': '21', 'thanYear': None, 'isDependent': None, 'column': None, 'firstYear': None, 'secondYear': None, 'thirdYear': None, 'planLastYear': None, 'referType': None, 'pagination': None}, {'id': 61690, 'majorName': '汉语国际教育', 'majorCategory': None, 'year': 2017, 'cityId': None, 'cityName': '江苏', 'scienceClass': '文科', 'enrollNum': None, 'hightScore': 355.0, 'lowScore': 353.0, 'avgScore': 354.0, 'sCode': 'FCHTWR', 'type': '普通文理', 'batch': '本科一批', 'isDelete': None, 'creator': None, 'createTime': None, 'modifier': None, 'modifyTime': None, 'remark': None, 'hasCat': None, 'hightScoreRank': None, 'lowScoreRank': None, 'avgScoreRank': None, 'provinceScore': None, 'schoolScore': None, 'templateType': None, 'ids': None, 'enrollPlan': None, 'scoreLine': 333.0, 'lowDiff': '20', 'avgDiff': '21', 'thanYear': None, 'isDependent': None, 'column': None, 'firstYear': None, 'secondYear': None, 'thirdYear': None, 'planLastYear': None, 'referType': None, 'pagination': None}, {'id': 61691, 'majorName': '历史学类', 'majorCategory': None, 'year': 2017, 'cityId': None, 'cityName': '江苏', 'scienceClass': '文科', 'enrollNum': None, 'hightScore': 353.0, 'lowScore': 352.0, 'avgScore': 353.0, 'sCode': 'FCHTWR', 'type': '普通文理', 'batch': '本科一批', 'isDelete': None, 'creator': None, 'createTime': None, 'modifier': None, 'modifyTime': None, 'remark': None, 'hasCat': None, 'hightScoreRank': None, 'lowScoreRank': None, 'avgScoreRank': None, 'provinceScore': None, 'schoolScore': None, 'templateType': None, 'ids': None, 'enrollPlan': None, 'scoreLine': 333.0, 'lowDiff': '19', 'avgDiff': '20', 'thanYear': None, 'isDependent': None, 'column': None, 'firstYear': None, 'secondYear': None, 'thirdYear': None, 'planLastYear': None, 'referType': None, 'pagination': None}, {'id': 61692, 'majorName': '考古学', 'majorCategory': None, 'year': 2017, 'cityId': None, 'cityName': '江苏', 'scienceClass': '文科', 'enrollNum': None, 'hightScore': 362.0, 'lowScore': 353.0, 'avgScore': 358.0, 'sCode': 'FCHTWR', 'type': '普通文理', 'batch': '本科一批', 'isDelete': None, 'creator': None, 'createTime': None, 'modifier': None, 'modifyTime': None, 'remark': None, 'hasCat': None, 'hightScoreRank': None, 'lowScoreRank': None, 'avgScoreRank': None, 'provinceScore': None, 'schoolScore': None, 'templateType': None, 'ids': None, 'enrollPlan': None, 'scoreLine': 333.0, 'lowDiff': '20', 'avgDiff': '25', 'thanYear': None, 'isDependent': None, 'column': None, 'firstYear': None, 'secondYear': None, 'thirdYear': None, 'planLastYear': None, 'referType': None, 'pagination': None}], 'columnConfig': None}\n",
      "{'list': [{'id': 61685, 'majorName': '哲学', 'majorCategory': None, 'year': 2017, 'cityId': None, 'cityName': '江苏', 'scienceClass': '文科', 'enrollNum': None, 'hightScore': 352.0, 'lowScore': 352.0, 'avgScore': 352.0, 'sCode': 'FCHTWR', 'type': '普通文理', 'batch': '本科一批', 'isDelete': None, 'creator': None, 'createTime': None, 'modifier': None, 'modifyTime': None, 'remark': None, 'hasCat': None, 'hightScoreRank': None, 'lowScoreRank': None, 'avgScoreRank': None, 'provinceScore': None, 'schoolScore': None, 'templateType': None, 'ids': None, 'enrollPlan': None, 'scoreLine': 333.0, 'lowDiff': '19', 'avgDiff': '19', 'thanYear': None, 'isDependent': None, 'column': None, 'firstYear': None, 'secondYear': None, 'thirdYear': None, 'planLastYear': None, 'referType': None, 'pagination': None}, {'id': 61686, 'majorName': '财政学', 'majorCategory': None, 'year': 2017, 'cityId': None, 'cityName': '江苏', 'scienceClass': '文科', 'enrollNum': None, 'hightScore': 358.0, 'lowScore': 354.0, 'avgScore': 356.0, 'sCode': 'FCHTWR', 'type': '普通文理', 'batch': '本科一批', 'isDelete': None, 'creator': None, 'createTime': None, 'modifier': None, 'modifyTime': None, 'remark': None, 'hasCat': None, 'hightScoreRank': None, 'lowScoreRank': None, 'avgScoreRank': None, 'provinceScore': None, 'schoolScore': None, 'templateType': None, 'ids': None, 'enrollPlan': None, 'scoreLine': 333.0, 'lowDiff': '21', 'avgDiff': '23', 'thanYear': None, 'isDependent': None, 'column': None, 'firstYear': None, 'secondYear': None, 'thirdYear': None, 'planLastYear': None, 'referType': None, 'pagination': None}, {'id': 61687, 'majorName': '法学', 'majorCategory': None, 'year': 2017, 'cityId': None, 'cityName': '江苏', 'scienceClass': '文科', 'enrollNum': None, 'hightScore': 354.0, 'lowScore': 353.0, 'avgScore': 354.0, 'sCode': 'FCHTWR', 'type': '普通文理', 'batch': '本科一批', 'isDelete': None, 'creator': None, 'createTime': None, 'modifier': None, 'modifyTime': None, 'remark': None, 'hasCat': None, 'hightScoreRank': None, 'lowScoreRank': None, 'avgScoreRank': None, 'provinceScore': None, 'schoolScore': None, 'templateType': None, 'ids': None, 'enrollPlan': None, 'scoreLine': 333.0, 'lowDiff': '20', 'avgDiff': '21', 'thanYear': None, 'isDependent': None, 'column': None, 'firstYear': None, 'secondYear': None, 'thirdYear': None, 'planLastYear': None, 'referType': None, 'pagination': None}, {'id': 61688, 'majorName': '新闻传播学类', 'majorCategory': None, 'year': 2017, 'cityId': None, 'cityName': '江苏', 'scienceClass': '文科', 'enrollNum': None, 'hightScore': 359.0, 'lowScore': 353.0, 'avgScore': 356.0, 'sCode': 'FCHTWR', 'type': '普通文理', 'batch': '本科一批', 'isDelete': None, 'creator': None, 'createTime': None, 'modifier': None, 'modifyTime': None, 'remark': None, 'hasCat': None, 'hightScoreRank': None, 'lowScoreRank': None, 'avgScoreRank': None, 'provinceScore': None, 'schoolScore': None, 'templateType': None, 'ids': None, 'enrollPlan': None, 'scoreLine': 333.0, 'lowDiff': '20', 'avgDiff': '23', 'thanYear': None, 'isDependent': None, 'column': None, 'firstYear': None, 'secondYear': None, 'thirdYear': None, 'planLastYear': None, 'referType': None, 'pagination': None}, {'id': 61689, 'majorName': '汉语言文学', 'majorCategory': None, 'year': 2017, 'cityId': None, 'cityName': '江苏', 'scienceClass': '文科', 'enrollNum': None, 'hightScore': 355.0, 'lowScore': 353.0, 'avgScore': 354.0, 'sCode': 'FCHTWR', 'type': '普通文理', 'batch': '本科一批', 'isDelete': None, 'creator': None, 'createTime': None, 'modifier': None, 'modifyTime': None, 'remark': None, 'hasCat': None, 'hightScoreRank': None, 'lowScoreRank': None, 'avgScoreRank': None, 'provinceScore': None, 'schoolScore': None, 'templateType': None, 'ids': None, 'enrollPlan': None, 'scoreLine': 333.0, 'lowDiff': '20', 'avgDiff': '21', 'thanYear': None, 'isDependent': None, 'column': None, 'firstYear': None, 'secondYear': None, 'thirdYear': None, 'planLastYear': None, 'referType': None, 'pagination': None}, {'id': 61690, 'majorName': '汉语国际教育', 'majorCategory': None, 'year': 2017, 'cityId': None, 'cityName': '江苏', 'scienceClass': '文科', 'enrollNum': None, 'hightScore': 355.0, 'lowScore': 353.0, 'avgScore': 354.0, 'sCode': 'FCHTWR', 'type': '普通文理', 'batch': '本科一批', 'isDelete': None, 'creator': None, 'createTime': None, 'modifier': None, 'modifyTime': None, 'remark': None, 'hasCat': None, 'hightScoreRank': None, 'lowScoreRank': None, 'avgScoreRank': None, 'provinceScore': None, 'schoolScore': None, 'templateType': None, 'ids': None, 'enrollPlan': None, 'scoreLine': 333.0, 'lowDiff': '20', 'avgDiff': '21', 'thanYear': None, 'isDependent': None, 'column': None, 'firstYear': None, 'secondYear': None, 'thirdYear': None, 'planLastYear': None, 'referType': None, 'pagination': None}, {'id': 61691, 'majorName': '历史学类', 'majorCategory': None, 'year': 2017, 'cityId': None, 'cityName': '江苏', 'scienceClass': '文科', 'enrollNum': None, 'hightScore': 353.0, 'lowScore': 352.0, 'avgScore': 353.0, 'sCode': 'FCHTWR', 'type': '普通文理', 'batch': '本科一批', 'isDelete': None, 'creator': None, 'createTime': None, 'modifier': None, 'modifyTime': None, 'remark': None, 'hasCat': None, 'hightScoreRank': None, 'lowScoreRank': None, 'avgScoreRank': None, 'provinceScore': None, 'schoolScore': None, 'templateType': None, 'ids': None, 'enrollPlan': None, 'scoreLine': 333.0, 'lowDiff': '19', 'avgDiff': '20', 'thanYear': None, 'isDependent': None, 'column': None, 'firstYear': None, 'secondYear': None, 'thirdYear': None, 'planLastYear': None, 'referType': None, 'pagination': None}, {'id': 61692, 'majorName': '考古学', 'majorCategory': None, 'year': 2017, 'cityId': None, 'cityName': '江苏', 'scienceClass': '文科', 'enrollNum': None, 'hightScore': 362.0, 'lowScore': 353.0, 'avgScore': 358.0, 'sCode': 'FCHTWR', 'type': '普通文理', 'batch': '本科一批', 'isDelete': None, 'creator': None, 'createTime': None, 'modifier': None, 'modifyTime': None, 'remark': None, 'hasCat': None, 'hightScoreRank': None, 'lowScoreRank': None, 'avgScoreRank': None, 'provinceScore': None, 'schoolScore': None, 'templateType': None, 'ids': None, 'enrollPlan': None, 'scoreLine': 333.0, 'lowDiff': '20', 'avgDiff': '25', 'thanYear': None, 'isDependent': None, 'column': None, 'firstYear': None, 'secondYear': None, 'thirdYear': None, 'planLastYear': None, 'referType': None, 'pagination': None}], 'columnConfig': None}\n",
      "{'list': [{'id': 61685, 'majorName': '哲学', 'majorCategory': None, 'year': 2017, 'cityId': None, 'cityName': '江苏', 'scienceClass': '文科', 'enrollNum': None, 'hightScore': 352.0, 'lowScore': 352.0, 'avgScore': 352.0, 'sCode': 'FCHTWR', 'type': '普通文理', 'batch': '本科一批', 'isDelete': None, 'creator': None, 'createTime': None, 'modifier': None, 'modifyTime': None, 'remark': None, 'hasCat': None, 'hightScoreRank': None, 'lowScoreRank': None, 'avgScoreRank': None, 'provinceScore': None, 'schoolScore': None, 'templateType': None, 'ids': None, 'enrollPlan': None, 'scoreLine': 333.0, 'lowDiff': '19', 'avgDiff': '19', 'thanYear': None, 'isDependent': None, 'column': None, 'firstYear': None, 'secondYear': None, 'thirdYear': None, 'planLastYear': None, 'referType': None, 'pagination': None}, {'id': 61686, 'majorName': '财政学', 'majorCategory': None, 'year': 2017, 'cityId': None, 'cityName': '江苏', 'scienceClass': '文科', 'enrollNum': None, 'hightScore': 358.0, 'lowScore': 354.0, 'avgScore': 356.0, 'sCode': 'FCHTWR', 'type': '普通文理', 'batch': '本科一批', 'isDelete': None, 'creator': None, 'createTime': None, 'modifier': None, 'modifyTime': None, 'remark': None, 'hasCat': None, 'hightScoreRank': None, 'lowScoreRank': None, 'avgScoreRank': None, 'provinceScore': None, 'schoolScore': None, 'templateType': None, 'ids': None, 'enrollPlan': None, 'scoreLine': 333.0, 'lowDiff': '21', 'avgDiff': '23', 'thanYear': None, 'isDependent': None, 'column': None, 'firstYear': None, 'secondYear': None, 'thirdYear': None, 'planLastYear': None, 'referType': None, 'pagination': None}, {'id': 61687, 'majorName': '法学', 'majorCategory': None, 'year': 2017, 'cityId': None, 'cityName': '江苏', 'scienceClass': '文科', 'enrollNum': None, 'hightScore': 354.0, 'lowScore': 353.0, 'avgScore': 354.0, 'sCode': 'FCHTWR', 'type': '普通文理', 'batch': '本科一批', 'isDelete': None, 'creator': None, 'createTime': None, 'modifier': None, 'modifyTime': None, 'remark': None, 'hasCat': None, 'hightScoreRank': None, 'lowScoreRank': None, 'avgScoreRank': None, 'provinceScore': None, 'schoolScore': None, 'templateType': None, 'ids': None, 'enrollPlan': None, 'scoreLine': 333.0, 'lowDiff': '20', 'avgDiff': '21', 'thanYear': None, 'isDependent': None, 'column': None, 'firstYear': None, 'secondYear': None, 'thirdYear': None, 'planLastYear': None, 'referType': None, 'pagination': None}, {'id': 61688, 'majorName': '新闻传播学类', 'majorCategory': None, 'year': 2017, 'cityId': None, 'cityName': '江苏', 'scienceClass': '文科', 'enrollNum': None, 'hightScore': 359.0, 'lowScore': 353.0, 'avgScore': 356.0, 'sCode': 'FCHTWR', 'type': '普通文理', 'batch': '本科一批', 'isDelete': None, 'creator': None, 'createTime': None, 'modifier': None, 'modifyTime': None, 'remark': None, 'hasCat': None, 'hightScoreRank': None, 'lowScoreRank': None, 'avgScoreRank': None, 'provinceScore': None, 'schoolScore': None, 'templateType': None, 'ids': None, 'enrollPlan': None, 'scoreLine': 333.0, 'lowDiff': '20', 'avgDiff': '23', 'thanYear': None, 'isDependent': None, 'column': None, 'firstYear': None, 'secondYear': None, 'thirdYear': None, 'planLastYear': None, 'referType': None, 'pagination': None}, {'id': 61689, 'majorName': '汉语言文学', 'majorCategory': None, 'year': 2017, 'cityId': None, 'cityName': '江苏', 'scienceClass': '文科', 'enrollNum': None, 'hightScore': 355.0, 'lowScore': 353.0, 'avgScore': 354.0, 'sCode': 'FCHTWR', 'type': '普通文理', 'batch': '本科一批', 'isDelete': None, 'creator': None, 'createTime': None, 'modifier': None, 'modifyTime': None, 'remark': None, 'hasCat': None, 'hightScoreRank': None, 'lowScoreRank': None, 'avgScoreRank': None, 'provinceScore': None, 'schoolScore': None, 'templateType': None, 'ids': None, 'enrollPlan': None, 'scoreLine': 333.0, 'lowDiff': '20', 'avgDiff': '21', 'thanYear': None, 'isDependent': None, 'column': None, 'firstYear': None, 'secondYear': None, 'thirdYear': None, 'planLastYear': None, 'referType': None, 'pagination': None}, {'id': 61690, 'majorName': '汉语国际教育', 'majorCategory': None, 'year': 2017, 'cityId': None, 'cityName': '江苏', 'scienceClass': '文科', 'enrollNum': None, 'hightScore': 355.0, 'lowScore': 353.0, 'avgScore': 354.0, 'sCode': 'FCHTWR', 'type': '普通文理', 'batch': '本科一批', 'isDelete': None, 'creator': None, 'createTime': None, 'modifier': None, 'modifyTime': None, 'remark': None, 'hasCat': None, 'hightScoreRank': None, 'lowScoreRank': None, 'avgScoreRank': None, 'provinceScore': None, 'schoolScore': None, 'templateType': None, 'ids': None, 'enrollPlan': None, 'scoreLine': 333.0, 'lowDiff': '20', 'avgDiff': '21', 'thanYear': None, 'isDependent': None, 'column': None, 'firstYear': None, 'secondYear': None, 'thirdYear': None, 'planLastYear': None, 'referType': None, 'pagination': None}, {'id': 61691, 'majorName': '历史学类', 'majorCategory': None, 'year': 2017, 'cityId': None, 'cityName': '江苏', 'scienceClass': '文科', 'enrollNum': None, 'hightScore': 353.0, 'lowScore': 352.0, 'avgScore': 353.0, 'sCode': 'FCHTWR', 'type': '普通文理', 'batch': '本科一批', 'isDelete': None, 'creator': None, 'createTime': None, 'modifier': None, 'modifyTime': None, 'remark': None, 'hasCat': None, 'hightScoreRank': None, 'lowScoreRank': None, 'avgScoreRank': None, 'provinceScore': None, 'schoolScore': None, 'templateType': None, 'ids': None, 'enrollPlan': None, 'scoreLine': 333.0, 'lowDiff': '19', 'avgDiff': '20', 'thanYear': None, 'isDependent': None, 'column': None, 'firstYear': None, 'secondYear': None, 'thirdYear': None, 'planLastYear': None, 'referType': None, 'pagination': None}, {'id': 61692, 'majorName': '考古学', 'majorCategory': None, 'year': 2017, 'cityId': None, 'cityName': '江苏', 'scienceClass': '文科', 'enrollNum': None, 'hightScore': 362.0, 'lowScore': 353.0, 'avgScore': 358.0, 'sCode': 'FCHTWR', 'type': '普通文理', 'batch': '本科一批', 'isDelete': None, 'creator': None, 'createTime': None, 'modifier': None, 'modifyTime': None, 'remark': None, 'hasCat': None, 'hightScoreRank': None, 'lowScoreRank': None, 'avgScoreRank': None, 'provinceScore': None, 'schoolScore': None, 'templateType': None, 'ids': None, 'enrollPlan': None, 'scoreLine': 333.0, 'lowDiff': '20', 'avgDiff': '25', 'thanYear': None, 'isDependent': None, 'column': None, 'firstYear': None, 'secondYear': None, 'thirdYear': None, 'planLastYear': None, 'referType': None, 'pagination': None}], 'columnConfig': None}\n"
     ]
    },
    {
     "name": "stdout",
     "output_type": "stream",
     "text": [
      "{'list': [{'id': 61685, 'majorName': '哲学', 'majorCategory': None, 'year': 2017, 'cityId': None, 'cityName': '江苏', 'scienceClass': '文科', 'enrollNum': None, 'hightScore': 352.0, 'lowScore': 352.0, 'avgScore': 352.0, 'sCode': 'FCHTWR', 'type': '普通文理', 'batch': '本科一批', 'isDelete': None, 'creator': None, 'createTime': None, 'modifier': None, 'modifyTime': None, 'remark': None, 'hasCat': None, 'hightScoreRank': None, 'lowScoreRank': None, 'avgScoreRank': None, 'provinceScore': None, 'schoolScore': None, 'templateType': None, 'ids': None, 'enrollPlan': None, 'scoreLine': 333.0, 'lowDiff': '19', 'avgDiff': '19', 'thanYear': None, 'isDependent': None, 'column': None, 'firstYear': None, 'secondYear': None, 'thirdYear': None, 'planLastYear': None, 'referType': None, 'pagination': None}, {'id': 61686, 'majorName': '财政学', 'majorCategory': None, 'year': 2017, 'cityId': None, 'cityName': '江苏', 'scienceClass': '文科', 'enrollNum': None, 'hightScore': 358.0, 'lowScore': 354.0, 'avgScore': 356.0, 'sCode': 'FCHTWR', 'type': '普通文理', 'batch': '本科一批', 'isDelete': None, 'creator': None, 'createTime': None, 'modifier': None, 'modifyTime': None, 'remark': None, 'hasCat': None, 'hightScoreRank': None, 'lowScoreRank': None, 'avgScoreRank': None, 'provinceScore': None, 'schoolScore': None, 'templateType': None, 'ids': None, 'enrollPlan': None, 'scoreLine': 333.0, 'lowDiff': '21', 'avgDiff': '23', 'thanYear': None, 'isDependent': None, 'column': None, 'firstYear': None, 'secondYear': None, 'thirdYear': None, 'planLastYear': None, 'referType': None, 'pagination': None}, {'id': 61687, 'majorName': '法学', 'majorCategory': None, 'year': 2017, 'cityId': None, 'cityName': '江苏', 'scienceClass': '文科', 'enrollNum': None, 'hightScore': 354.0, 'lowScore': 353.0, 'avgScore': 354.0, 'sCode': 'FCHTWR', 'type': '普通文理', 'batch': '本科一批', 'isDelete': None, 'creator': None, 'createTime': None, 'modifier': None, 'modifyTime': None, 'remark': None, 'hasCat': None, 'hightScoreRank': None, 'lowScoreRank': None, 'avgScoreRank': None, 'provinceScore': None, 'schoolScore': None, 'templateType': None, 'ids': None, 'enrollPlan': None, 'scoreLine': 333.0, 'lowDiff': '20', 'avgDiff': '21', 'thanYear': None, 'isDependent': None, 'column': None, 'firstYear': None, 'secondYear': None, 'thirdYear': None, 'planLastYear': None, 'referType': None, 'pagination': None}, {'id': 61688, 'majorName': '新闻传播学类', 'majorCategory': None, 'year': 2017, 'cityId': None, 'cityName': '江苏', 'scienceClass': '文科', 'enrollNum': None, 'hightScore': 359.0, 'lowScore': 353.0, 'avgScore': 356.0, 'sCode': 'FCHTWR', 'type': '普通文理', 'batch': '本科一批', 'isDelete': None, 'creator': None, 'createTime': None, 'modifier': None, 'modifyTime': None, 'remark': None, 'hasCat': None, 'hightScoreRank': None, 'lowScoreRank': None, 'avgScoreRank': None, 'provinceScore': None, 'schoolScore': None, 'templateType': None, 'ids': None, 'enrollPlan': None, 'scoreLine': 333.0, 'lowDiff': '20', 'avgDiff': '23', 'thanYear': None, 'isDependent': None, 'column': None, 'firstYear': None, 'secondYear': None, 'thirdYear': None, 'planLastYear': None, 'referType': None, 'pagination': None}, {'id': 61689, 'majorName': '汉语言文学', 'majorCategory': None, 'year': 2017, 'cityId': None, 'cityName': '江苏', 'scienceClass': '文科', 'enrollNum': None, 'hightScore': 355.0, 'lowScore': 353.0, 'avgScore': 354.0, 'sCode': 'FCHTWR', 'type': '普通文理', 'batch': '本科一批', 'isDelete': None, 'creator': None, 'createTime': None, 'modifier': None, 'modifyTime': None, 'remark': None, 'hasCat': None, 'hightScoreRank': None, 'lowScoreRank': None, 'avgScoreRank': None, 'provinceScore': None, 'schoolScore': None, 'templateType': None, 'ids': None, 'enrollPlan': None, 'scoreLine': 333.0, 'lowDiff': '20', 'avgDiff': '21', 'thanYear': None, 'isDependent': None, 'column': None, 'firstYear': None, 'secondYear': None, 'thirdYear': None, 'planLastYear': None, 'referType': None, 'pagination': None}, {'id': 61690, 'majorName': '汉语国际教育', 'majorCategory': None, 'year': 2017, 'cityId': None, 'cityName': '江苏', 'scienceClass': '文科', 'enrollNum': None, 'hightScore': 355.0, 'lowScore': 353.0, 'avgScore': 354.0, 'sCode': 'FCHTWR', 'type': '普通文理', 'batch': '本科一批', 'isDelete': None, 'creator': None, 'createTime': None, 'modifier': None, 'modifyTime': None, 'remark': None, 'hasCat': None, 'hightScoreRank': None, 'lowScoreRank': None, 'avgScoreRank': None, 'provinceScore': None, 'schoolScore': None, 'templateType': None, 'ids': None, 'enrollPlan': None, 'scoreLine': 333.0, 'lowDiff': '20', 'avgDiff': '21', 'thanYear': None, 'isDependent': None, 'column': None, 'firstYear': None, 'secondYear': None, 'thirdYear': None, 'planLastYear': None, 'referType': None, 'pagination': None}, {'id': 61691, 'majorName': '历史学类', 'majorCategory': None, 'year': 2017, 'cityId': None, 'cityName': '江苏', 'scienceClass': '文科', 'enrollNum': None, 'hightScore': 353.0, 'lowScore': 352.0, 'avgScore': 353.0, 'sCode': 'FCHTWR', 'type': '普通文理', 'batch': '本科一批', 'isDelete': None, 'creator': None, 'createTime': None, 'modifier': None, 'modifyTime': None, 'remark': None, 'hasCat': None, 'hightScoreRank': None, 'lowScoreRank': None, 'avgScoreRank': None, 'provinceScore': None, 'schoolScore': None, 'templateType': None, 'ids': None, 'enrollPlan': None, 'scoreLine': 333.0, 'lowDiff': '19', 'avgDiff': '20', 'thanYear': None, 'isDependent': None, 'column': None, 'firstYear': None, 'secondYear': None, 'thirdYear': None, 'planLastYear': None, 'referType': None, 'pagination': None}, {'id': 61692, 'majorName': '考古学', 'majorCategory': None, 'year': 2017, 'cityId': None, 'cityName': '江苏', 'scienceClass': '文科', 'enrollNum': None, 'hightScore': 362.0, 'lowScore': 353.0, 'avgScore': 358.0, 'sCode': 'FCHTWR', 'type': '普通文理', 'batch': '本科一批', 'isDelete': None, 'creator': None, 'createTime': None, 'modifier': None, 'modifyTime': None, 'remark': None, 'hasCat': None, 'hightScoreRank': None, 'lowScoreRank': None, 'avgScoreRank': None, 'provinceScore': None, 'schoolScore': None, 'templateType': None, 'ids': None, 'enrollPlan': None, 'scoreLine': 333.0, 'lowDiff': '20', 'avgDiff': '25', 'thanYear': None, 'isDependent': None, 'column': None, 'firstYear': None, 'secondYear': None, 'thirdYear': None, 'planLastYear': None, 'referType': None, 'pagination': None}], 'columnConfig': None}\n",
      "{'list': [{'id': 61685, 'majorName': '哲学', 'majorCategory': None, 'year': 2017, 'cityId': None, 'cityName': '江苏', 'scienceClass': '文科', 'enrollNum': None, 'hightScore': 352.0, 'lowScore': 352.0, 'avgScore': 352.0, 'sCode': 'FCHTWR', 'type': '普通文理', 'batch': '本科一批', 'isDelete': None, 'creator': None, 'createTime': None, 'modifier': None, 'modifyTime': None, 'remark': None, 'hasCat': None, 'hightScoreRank': None, 'lowScoreRank': None, 'avgScoreRank': None, 'provinceScore': None, 'schoolScore': None, 'templateType': None, 'ids': None, 'enrollPlan': None, 'scoreLine': 333.0, 'lowDiff': '19', 'avgDiff': '19', 'thanYear': None, 'isDependent': None, 'column': None, 'firstYear': None, 'secondYear': None, 'thirdYear': None, 'planLastYear': None, 'referType': None, 'pagination': None}, {'id': 61686, 'majorName': '财政学', 'majorCategory': None, 'year': 2017, 'cityId': None, 'cityName': '江苏', 'scienceClass': '文科', 'enrollNum': None, 'hightScore': 358.0, 'lowScore': 354.0, 'avgScore': 356.0, 'sCode': 'FCHTWR', 'type': '普通文理', 'batch': '本科一批', 'isDelete': None, 'creator': None, 'createTime': None, 'modifier': None, 'modifyTime': None, 'remark': None, 'hasCat': None, 'hightScoreRank': None, 'lowScoreRank': None, 'avgScoreRank': None, 'provinceScore': None, 'schoolScore': None, 'templateType': None, 'ids': None, 'enrollPlan': None, 'scoreLine': 333.0, 'lowDiff': '21', 'avgDiff': '23', 'thanYear': None, 'isDependent': None, 'column': None, 'firstYear': None, 'secondYear': None, 'thirdYear': None, 'planLastYear': None, 'referType': None, 'pagination': None}, {'id': 61687, 'majorName': '法学', 'majorCategory': None, 'year': 2017, 'cityId': None, 'cityName': '江苏', 'scienceClass': '文科', 'enrollNum': None, 'hightScore': 354.0, 'lowScore': 353.0, 'avgScore': 354.0, 'sCode': 'FCHTWR', 'type': '普通文理', 'batch': '本科一批', 'isDelete': None, 'creator': None, 'createTime': None, 'modifier': None, 'modifyTime': None, 'remark': None, 'hasCat': None, 'hightScoreRank': None, 'lowScoreRank': None, 'avgScoreRank': None, 'provinceScore': None, 'schoolScore': None, 'templateType': None, 'ids': None, 'enrollPlan': None, 'scoreLine': 333.0, 'lowDiff': '20', 'avgDiff': '21', 'thanYear': None, 'isDependent': None, 'column': None, 'firstYear': None, 'secondYear': None, 'thirdYear': None, 'planLastYear': None, 'referType': None, 'pagination': None}, {'id': 61688, 'majorName': '新闻传播学类', 'majorCategory': None, 'year': 2017, 'cityId': None, 'cityName': '江苏', 'scienceClass': '文科', 'enrollNum': None, 'hightScore': 359.0, 'lowScore': 353.0, 'avgScore': 356.0, 'sCode': 'FCHTWR', 'type': '普通文理', 'batch': '本科一批', 'isDelete': None, 'creator': None, 'createTime': None, 'modifier': None, 'modifyTime': None, 'remark': None, 'hasCat': None, 'hightScoreRank': None, 'lowScoreRank': None, 'avgScoreRank': None, 'provinceScore': None, 'schoolScore': None, 'templateType': None, 'ids': None, 'enrollPlan': None, 'scoreLine': 333.0, 'lowDiff': '20', 'avgDiff': '23', 'thanYear': None, 'isDependent': None, 'column': None, 'firstYear': None, 'secondYear': None, 'thirdYear': None, 'planLastYear': None, 'referType': None, 'pagination': None}, {'id': 61689, 'majorName': '汉语言文学', 'majorCategory': None, 'year': 2017, 'cityId': None, 'cityName': '江苏', 'scienceClass': '文科', 'enrollNum': None, 'hightScore': 355.0, 'lowScore': 353.0, 'avgScore': 354.0, 'sCode': 'FCHTWR', 'type': '普通文理', 'batch': '本科一批', 'isDelete': None, 'creator': None, 'createTime': None, 'modifier': None, 'modifyTime': None, 'remark': None, 'hasCat': None, 'hightScoreRank': None, 'lowScoreRank': None, 'avgScoreRank': None, 'provinceScore': None, 'schoolScore': None, 'templateType': None, 'ids': None, 'enrollPlan': None, 'scoreLine': 333.0, 'lowDiff': '20', 'avgDiff': '21', 'thanYear': None, 'isDependent': None, 'column': None, 'firstYear': None, 'secondYear': None, 'thirdYear': None, 'planLastYear': None, 'referType': None, 'pagination': None}, {'id': 61690, 'majorName': '汉语国际教育', 'majorCategory': None, 'year': 2017, 'cityId': None, 'cityName': '江苏', 'scienceClass': '文科', 'enrollNum': None, 'hightScore': 355.0, 'lowScore': 353.0, 'avgScore': 354.0, 'sCode': 'FCHTWR', 'type': '普通文理', 'batch': '本科一批', 'isDelete': None, 'creator': None, 'createTime': None, 'modifier': None, 'modifyTime': None, 'remark': None, 'hasCat': None, 'hightScoreRank': None, 'lowScoreRank': None, 'avgScoreRank': None, 'provinceScore': None, 'schoolScore': None, 'templateType': None, 'ids': None, 'enrollPlan': None, 'scoreLine': 333.0, 'lowDiff': '20', 'avgDiff': '21', 'thanYear': None, 'isDependent': None, 'column': None, 'firstYear': None, 'secondYear': None, 'thirdYear': None, 'planLastYear': None, 'referType': None, 'pagination': None}, {'id': 61691, 'majorName': '历史学类', 'majorCategory': None, 'year': 2017, 'cityId': None, 'cityName': '江苏', 'scienceClass': '文科', 'enrollNum': None, 'hightScore': 353.0, 'lowScore': 352.0, 'avgScore': 353.0, 'sCode': 'FCHTWR', 'type': '普通文理', 'batch': '本科一批', 'isDelete': None, 'creator': None, 'createTime': None, 'modifier': None, 'modifyTime': None, 'remark': None, 'hasCat': None, 'hightScoreRank': None, 'lowScoreRank': None, 'avgScoreRank': None, 'provinceScore': None, 'schoolScore': None, 'templateType': None, 'ids': None, 'enrollPlan': None, 'scoreLine': 333.0, 'lowDiff': '19', 'avgDiff': '20', 'thanYear': None, 'isDependent': None, 'column': None, 'firstYear': None, 'secondYear': None, 'thirdYear': None, 'planLastYear': None, 'referType': None, 'pagination': None}, {'id': 61692, 'majorName': '考古学', 'majorCategory': None, 'year': 2017, 'cityId': None, 'cityName': '江苏', 'scienceClass': '文科', 'enrollNum': None, 'hightScore': 362.0, 'lowScore': 353.0, 'avgScore': 358.0, 'sCode': 'FCHTWR', 'type': '普通文理', 'batch': '本科一批', 'isDelete': None, 'creator': None, 'createTime': None, 'modifier': None, 'modifyTime': None, 'remark': None, 'hasCat': None, 'hightScoreRank': None, 'lowScoreRank': None, 'avgScoreRank': None, 'provinceScore': None, 'schoolScore': None, 'templateType': None, 'ids': None, 'enrollPlan': None, 'scoreLine': 333.0, 'lowDiff': '20', 'avgDiff': '25', 'thanYear': None, 'isDependent': None, 'column': None, 'firstYear': None, 'secondYear': None, 'thirdYear': None, 'planLastYear': None, 'referType': None, 'pagination': None}], 'columnConfig': None}\n",
      "{'list': [{'id': 61685, 'majorName': '哲学', 'majorCategory': None, 'year': 2017, 'cityId': None, 'cityName': '江苏', 'scienceClass': '文科', 'enrollNum': None, 'hightScore': 352.0, 'lowScore': 352.0, 'avgScore': 352.0, 'sCode': 'FCHTWR', 'type': '普通文理', 'batch': '本科一批', 'isDelete': None, 'creator': None, 'createTime': None, 'modifier': None, 'modifyTime': None, 'remark': None, 'hasCat': None, 'hightScoreRank': None, 'lowScoreRank': None, 'avgScoreRank': None, 'provinceScore': None, 'schoolScore': None, 'templateType': None, 'ids': None, 'enrollPlan': None, 'scoreLine': 333.0, 'lowDiff': '19', 'avgDiff': '19', 'thanYear': None, 'isDependent': None, 'column': None, 'firstYear': None, 'secondYear': None, 'thirdYear': None, 'planLastYear': None, 'referType': None, 'pagination': None}, {'id': 61686, 'majorName': '财政学', 'majorCategory': None, 'year': 2017, 'cityId': None, 'cityName': '江苏', 'scienceClass': '文科', 'enrollNum': None, 'hightScore': 358.0, 'lowScore': 354.0, 'avgScore': 356.0, 'sCode': 'FCHTWR', 'type': '普通文理', 'batch': '本科一批', 'isDelete': None, 'creator': None, 'createTime': None, 'modifier': None, 'modifyTime': None, 'remark': None, 'hasCat': None, 'hightScoreRank': None, 'lowScoreRank': None, 'avgScoreRank': None, 'provinceScore': None, 'schoolScore': None, 'templateType': None, 'ids': None, 'enrollPlan': None, 'scoreLine': 333.0, 'lowDiff': '21', 'avgDiff': '23', 'thanYear': None, 'isDependent': None, 'column': None, 'firstYear': None, 'secondYear': None, 'thirdYear': None, 'planLastYear': None, 'referType': None, 'pagination': None}, {'id': 61687, 'majorName': '法学', 'majorCategory': None, 'year': 2017, 'cityId': None, 'cityName': '江苏', 'scienceClass': '文科', 'enrollNum': None, 'hightScore': 354.0, 'lowScore': 353.0, 'avgScore': 354.0, 'sCode': 'FCHTWR', 'type': '普通文理', 'batch': '本科一批', 'isDelete': None, 'creator': None, 'createTime': None, 'modifier': None, 'modifyTime': None, 'remark': None, 'hasCat': None, 'hightScoreRank': None, 'lowScoreRank': None, 'avgScoreRank': None, 'provinceScore': None, 'schoolScore': None, 'templateType': None, 'ids': None, 'enrollPlan': None, 'scoreLine': 333.0, 'lowDiff': '20', 'avgDiff': '21', 'thanYear': None, 'isDependent': None, 'column': None, 'firstYear': None, 'secondYear': None, 'thirdYear': None, 'planLastYear': None, 'referType': None, 'pagination': None}, {'id': 61688, 'majorName': '新闻传播学类', 'majorCategory': None, 'year': 2017, 'cityId': None, 'cityName': '江苏', 'scienceClass': '文科', 'enrollNum': None, 'hightScore': 359.0, 'lowScore': 353.0, 'avgScore': 356.0, 'sCode': 'FCHTWR', 'type': '普通文理', 'batch': '本科一批', 'isDelete': None, 'creator': None, 'createTime': None, 'modifier': None, 'modifyTime': None, 'remark': None, 'hasCat': None, 'hightScoreRank': None, 'lowScoreRank': None, 'avgScoreRank': None, 'provinceScore': None, 'schoolScore': None, 'templateType': None, 'ids': None, 'enrollPlan': None, 'scoreLine': 333.0, 'lowDiff': '20', 'avgDiff': '23', 'thanYear': None, 'isDependent': None, 'column': None, 'firstYear': None, 'secondYear': None, 'thirdYear': None, 'planLastYear': None, 'referType': None, 'pagination': None}, {'id': 61689, 'majorName': '汉语言文学', 'majorCategory': None, 'year': 2017, 'cityId': None, 'cityName': '江苏', 'scienceClass': '文科', 'enrollNum': None, 'hightScore': 355.0, 'lowScore': 353.0, 'avgScore': 354.0, 'sCode': 'FCHTWR', 'type': '普通文理', 'batch': '本科一批', 'isDelete': None, 'creator': None, 'createTime': None, 'modifier': None, 'modifyTime': None, 'remark': None, 'hasCat': None, 'hightScoreRank': None, 'lowScoreRank': None, 'avgScoreRank': None, 'provinceScore': None, 'schoolScore': None, 'templateType': None, 'ids': None, 'enrollPlan': None, 'scoreLine': 333.0, 'lowDiff': '20', 'avgDiff': '21', 'thanYear': None, 'isDependent': None, 'column': None, 'firstYear': None, 'secondYear': None, 'thirdYear': None, 'planLastYear': None, 'referType': None, 'pagination': None}, {'id': 61690, 'majorName': '汉语国际教育', 'majorCategory': None, 'year': 2017, 'cityId': None, 'cityName': '江苏', 'scienceClass': '文科', 'enrollNum': None, 'hightScore': 355.0, 'lowScore': 353.0, 'avgScore': 354.0, 'sCode': 'FCHTWR', 'type': '普通文理', 'batch': '本科一批', 'isDelete': None, 'creator': None, 'createTime': None, 'modifier': None, 'modifyTime': None, 'remark': None, 'hasCat': None, 'hightScoreRank': None, 'lowScoreRank': None, 'avgScoreRank': None, 'provinceScore': None, 'schoolScore': None, 'templateType': None, 'ids': None, 'enrollPlan': None, 'scoreLine': 333.0, 'lowDiff': '20', 'avgDiff': '21', 'thanYear': None, 'isDependent': None, 'column': None, 'firstYear': None, 'secondYear': None, 'thirdYear': None, 'planLastYear': None, 'referType': None, 'pagination': None}, {'id': 61691, 'majorName': '历史学类', 'majorCategory': None, 'year': 2017, 'cityId': None, 'cityName': '江苏', 'scienceClass': '文科', 'enrollNum': None, 'hightScore': 353.0, 'lowScore': 352.0, 'avgScore': 353.0, 'sCode': 'FCHTWR', 'type': '普通文理', 'batch': '本科一批', 'isDelete': None, 'creator': None, 'createTime': None, 'modifier': None, 'modifyTime': None, 'remark': None, 'hasCat': None, 'hightScoreRank': None, 'lowScoreRank': None, 'avgScoreRank': None, 'provinceScore': None, 'schoolScore': None, 'templateType': None, 'ids': None, 'enrollPlan': None, 'scoreLine': 333.0, 'lowDiff': '19', 'avgDiff': '20', 'thanYear': None, 'isDependent': None, 'column': None, 'firstYear': None, 'secondYear': None, 'thirdYear': None, 'planLastYear': None, 'referType': None, 'pagination': None}, {'id': 61692, 'majorName': '考古学', 'majorCategory': None, 'year': 2017, 'cityId': None, 'cityName': '江苏', 'scienceClass': '文科', 'enrollNum': None, 'hightScore': 362.0, 'lowScore': 353.0, 'avgScore': 358.0, 'sCode': 'FCHTWR', 'type': '普通文理', 'batch': '本科一批', 'isDelete': None, 'creator': None, 'createTime': None, 'modifier': None, 'modifyTime': None, 'remark': None, 'hasCat': None, 'hightScoreRank': None, 'lowScoreRank': None, 'avgScoreRank': None, 'provinceScore': None, 'schoolScore': None, 'templateType': None, 'ids': None, 'enrollPlan': None, 'scoreLine': 333.0, 'lowDiff': '20', 'avgDiff': '25', 'thanYear': None, 'isDependent': None, 'column': None, 'firstYear': None, 'secondYear': None, 'thirdYear': None, 'planLastYear': None, 'referType': None, 'pagination': None}], 'columnConfig': None}\n"
     ]
    },
    {
     "name": "stdout",
     "output_type": "stream",
     "text": [
      "{'list': [{'id': 61685, 'majorName': '哲学', 'majorCategory': None, 'year': 2017, 'cityId': None, 'cityName': '江苏', 'scienceClass': '文科', 'enrollNum': None, 'hightScore': 352.0, 'lowScore': 352.0, 'avgScore': 352.0, 'sCode': 'FCHTWR', 'type': '普通文理', 'batch': '本科一批', 'isDelete': None, 'creator': None, 'createTime': None, 'modifier': None, 'modifyTime': None, 'remark': None, 'hasCat': None, 'hightScoreRank': None, 'lowScoreRank': None, 'avgScoreRank': None, 'provinceScore': None, 'schoolScore': None, 'templateType': None, 'ids': None, 'enrollPlan': None, 'scoreLine': 333.0, 'lowDiff': '19', 'avgDiff': '19', 'thanYear': None, 'isDependent': None, 'column': None, 'firstYear': None, 'secondYear': None, 'thirdYear': None, 'planLastYear': None, 'referType': None, 'pagination': None}, {'id': 61686, 'majorName': '财政学', 'majorCategory': None, 'year': 2017, 'cityId': None, 'cityName': '江苏', 'scienceClass': '文科', 'enrollNum': None, 'hightScore': 358.0, 'lowScore': 354.0, 'avgScore': 356.0, 'sCode': 'FCHTWR', 'type': '普通文理', 'batch': '本科一批', 'isDelete': None, 'creator': None, 'createTime': None, 'modifier': None, 'modifyTime': None, 'remark': None, 'hasCat': None, 'hightScoreRank': None, 'lowScoreRank': None, 'avgScoreRank': None, 'provinceScore': None, 'schoolScore': None, 'templateType': None, 'ids': None, 'enrollPlan': None, 'scoreLine': 333.0, 'lowDiff': '21', 'avgDiff': '23', 'thanYear': None, 'isDependent': None, 'column': None, 'firstYear': None, 'secondYear': None, 'thirdYear': None, 'planLastYear': None, 'referType': None, 'pagination': None}, {'id': 61687, 'majorName': '法学', 'majorCategory': None, 'year': 2017, 'cityId': None, 'cityName': '江苏', 'scienceClass': '文科', 'enrollNum': None, 'hightScore': 354.0, 'lowScore': 353.0, 'avgScore': 354.0, 'sCode': 'FCHTWR', 'type': '普通文理', 'batch': '本科一批', 'isDelete': None, 'creator': None, 'createTime': None, 'modifier': None, 'modifyTime': None, 'remark': None, 'hasCat': None, 'hightScoreRank': None, 'lowScoreRank': None, 'avgScoreRank': None, 'provinceScore': None, 'schoolScore': None, 'templateType': None, 'ids': None, 'enrollPlan': None, 'scoreLine': 333.0, 'lowDiff': '20', 'avgDiff': '21', 'thanYear': None, 'isDependent': None, 'column': None, 'firstYear': None, 'secondYear': None, 'thirdYear': None, 'planLastYear': None, 'referType': None, 'pagination': None}, {'id': 61688, 'majorName': '新闻传播学类', 'majorCategory': None, 'year': 2017, 'cityId': None, 'cityName': '江苏', 'scienceClass': '文科', 'enrollNum': None, 'hightScore': 359.0, 'lowScore': 353.0, 'avgScore': 356.0, 'sCode': 'FCHTWR', 'type': '普通文理', 'batch': '本科一批', 'isDelete': None, 'creator': None, 'createTime': None, 'modifier': None, 'modifyTime': None, 'remark': None, 'hasCat': None, 'hightScoreRank': None, 'lowScoreRank': None, 'avgScoreRank': None, 'provinceScore': None, 'schoolScore': None, 'templateType': None, 'ids': None, 'enrollPlan': None, 'scoreLine': 333.0, 'lowDiff': '20', 'avgDiff': '23', 'thanYear': None, 'isDependent': None, 'column': None, 'firstYear': None, 'secondYear': None, 'thirdYear': None, 'planLastYear': None, 'referType': None, 'pagination': None}, {'id': 61689, 'majorName': '汉语言文学', 'majorCategory': None, 'year': 2017, 'cityId': None, 'cityName': '江苏', 'scienceClass': '文科', 'enrollNum': None, 'hightScore': 355.0, 'lowScore': 353.0, 'avgScore': 354.0, 'sCode': 'FCHTWR', 'type': '普通文理', 'batch': '本科一批', 'isDelete': None, 'creator': None, 'createTime': None, 'modifier': None, 'modifyTime': None, 'remark': None, 'hasCat': None, 'hightScoreRank': None, 'lowScoreRank': None, 'avgScoreRank': None, 'provinceScore': None, 'schoolScore': None, 'templateType': None, 'ids': None, 'enrollPlan': None, 'scoreLine': 333.0, 'lowDiff': '20', 'avgDiff': '21', 'thanYear': None, 'isDependent': None, 'column': None, 'firstYear': None, 'secondYear': None, 'thirdYear': None, 'planLastYear': None, 'referType': None, 'pagination': None}, {'id': 61690, 'majorName': '汉语国际教育', 'majorCategory': None, 'year': 2017, 'cityId': None, 'cityName': '江苏', 'scienceClass': '文科', 'enrollNum': None, 'hightScore': 355.0, 'lowScore': 353.0, 'avgScore': 354.0, 'sCode': 'FCHTWR', 'type': '普通文理', 'batch': '本科一批', 'isDelete': None, 'creator': None, 'createTime': None, 'modifier': None, 'modifyTime': None, 'remark': None, 'hasCat': None, 'hightScoreRank': None, 'lowScoreRank': None, 'avgScoreRank': None, 'provinceScore': None, 'schoolScore': None, 'templateType': None, 'ids': None, 'enrollPlan': None, 'scoreLine': 333.0, 'lowDiff': '20', 'avgDiff': '21', 'thanYear': None, 'isDependent': None, 'column': None, 'firstYear': None, 'secondYear': None, 'thirdYear': None, 'planLastYear': None, 'referType': None, 'pagination': None}, {'id': 61691, 'majorName': '历史学类', 'majorCategory': None, 'year': 2017, 'cityId': None, 'cityName': '江苏', 'scienceClass': '文科', 'enrollNum': None, 'hightScore': 353.0, 'lowScore': 352.0, 'avgScore': 353.0, 'sCode': 'FCHTWR', 'type': '普通文理', 'batch': '本科一批', 'isDelete': None, 'creator': None, 'createTime': None, 'modifier': None, 'modifyTime': None, 'remark': None, 'hasCat': None, 'hightScoreRank': None, 'lowScoreRank': None, 'avgScoreRank': None, 'provinceScore': None, 'schoolScore': None, 'templateType': None, 'ids': None, 'enrollPlan': None, 'scoreLine': 333.0, 'lowDiff': '19', 'avgDiff': '20', 'thanYear': None, 'isDependent': None, 'column': None, 'firstYear': None, 'secondYear': None, 'thirdYear': None, 'planLastYear': None, 'referType': None, 'pagination': None}, {'id': 61692, 'majorName': '考古学', 'majorCategory': None, 'year': 2017, 'cityId': None, 'cityName': '江苏', 'scienceClass': '文科', 'enrollNum': None, 'hightScore': 362.0, 'lowScore': 353.0, 'avgScore': 358.0, 'sCode': 'FCHTWR', 'type': '普通文理', 'batch': '本科一批', 'isDelete': None, 'creator': None, 'createTime': None, 'modifier': None, 'modifyTime': None, 'remark': None, 'hasCat': None, 'hightScoreRank': None, 'lowScoreRank': None, 'avgScoreRank': None, 'provinceScore': None, 'schoolScore': None, 'templateType': None, 'ids': None, 'enrollPlan': None, 'scoreLine': 333.0, 'lowDiff': '20', 'avgDiff': '25', 'thanYear': None, 'isDependent': None, 'column': None, 'firstYear': None, 'secondYear': None, 'thirdYear': None, 'planLastYear': None, 'referType': None, 'pagination': None}], 'columnConfig': None}\n",
      "{'list': [{'id': 61685, 'majorName': '哲学', 'majorCategory': None, 'year': 2017, 'cityId': None, 'cityName': '江苏', 'scienceClass': '文科', 'enrollNum': None, 'hightScore': 352.0, 'lowScore': 352.0, 'avgScore': 352.0, 'sCode': 'FCHTWR', 'type': '普通文理', 'batch': '本科一批', 'isDelete': None, 'creator': None, 'createTime': None, 'modifier': None, 'modifyTime': None, 'remark': None, 'hasCat': None, 'hightScoreRank': None, 'lowScoreRank': None, 'avgScoreRank': None, 'provinceScore': None, 'schoolScore': None, 'templateType': None, 'ids': None, 'enrollPlan': None, 'scoreLine': 333.0, 'lowDiff': '19', 'avgDiff': '19', 'thanYear': None, 'isDependent': None, 'column': None, 'firstYear': None, 'secondYear': None, 'thirdYear': None, 'planLastYear': None, 'referType': None, 'pagination': None}, {'id': 61686, 'majorName': '财政学', 'majorCategory': None, 'year': 2017, 'cityId': None, 'cityName': '江苏', 'scienceClass': '文科', 'enrollNum': None, 'hightScore': 358.0, 'lowScore': 354.0, 'avgScore': 356.0, 'sCode': 'FCHTWR', 'type': '普通文理', 'batch': '本科一批', 'isDelete': None, 'creator': None, 'createTime': None, 'modifier': None, 'modifyTime': None, 'remark': None, 'hasCat': None, 'hightScoreRank': None, 'lowScoreRank': None, 'avgScoreRank': None, 'provinceScore': None, 'schoolScore': None, 'templateType': None, 'ids': None, 'enrollPlan': None, 'scoreLine': 333.0, 'lowDiff': '21', 'avgDiff': '23', 'thanYear': None, 'isDependent': None, 'column': None, 'firstYear': None, 'secondYear': None, 'thirdYear': None, 'planLastYear': None, 'referType': None, 'pagination': None}, {'id': 61687, 'majorName': '法学', 'majorCategory': None, 'year': 2017, 'cityId': None, 'cityName': '江苏', 'scienceClass': '文科', 'enrollNum': None, 'hightScore': 354.0, 'lowScore': 353.0, 'avgScore': 354.0, 'sCode': 'FCHTWR', 'type': '普通文理', 'batch': '本科一批', 'isDelete': None, 'creator': None, 'createTime': None, 'modifier': None, 'modifyTime': None, 'remark': None, 'hasCat': None, 'hightScoreRank': None, 'lowScoreRank': None, 'avgScoreRank': None, 'provinceScore': None, 'schoolScore': None, 'templateType': None, 'ids': None, 'enrollPlan': None, 'scoreLine': 333.0, 'lowDiff': '20', 'avgDiff': '21', 'thanYear': None, 'isDependent': None, 'column': None, 'firstYear': None, 'secondYear': None, 'thirdYear': None, 'planLastYear': None, 'referType': None, 'pagination': None}, {'id': 61688, 'majorName': '新闻传播学类', 'majorCategory': None, 'year': 2017, 'cityId': None, 'cityName': '江苏', 'scienceClass': '文科', 'enrollNum': None, 'hightScore': 359.0, 'lowScore': 353.0, 'avgScore': 356.0, 'sCode': 'FCHTWR', 'type': '普通文理', 'batch': '本科一批', 'isDelete': None, 'creator': None, 'createTime': None, 'modifier': None, 'modifyTime': None, 'remark': None, 'hasCat': None, 'hightScoreRank': None, 'lowScoreRank': None, 'avgScoreRank': None, 'provinceScore': None, 'schoolScore': None, 'templateType': None, 'ids': None, 'enrollPlan': None, 'scoreLine': 333.0, 'lowDiff': '20', 'avgDiff': '23', 'thanYear': None, 'isDependent': None, 'column': None, 'firstYear': None, 'secondYear': None, 'thirdYear': None, 'planLastYear': None, 'referType': None, 'pagination': None}, {'id': 61689, 'majorName': '汉语言文学', 'majorCategory': None, 'year': 2017, 'cityId': None, 'cityName': '江苏', 'scienceClass': '文科', 'enrollNum': None, 'hightScore': 355.0, 'lowScore': 353.0, 'avgScore': 354.0, 'sCode': 'FCHTWR', 'type': '普通文理', 'batch': '本科一批', 'isDelete': None, 'creator': None, 'createTime': None, 'modifier': None, 'modifyTime': None, 'remark': None, 'hasCat': None, 'hightScoreRank': None, 'lowScoreRank': None, 'avgScoreRank': None, 'provinceScore': None, 'schoolScore': None, 'templateType': None, 'ids': None, 'enrollPlan': None, 'scoreLine': 333.0, 'lowDiff': '20', 'avgDiff': '21', 'thanYear': None, 'isDependent': None, 'column': None, 'firstYear': None, 'secondYear': None, 'thirdYear': None, 'planLastYear': None, 'referType': None, 'pagination': None}, {'id': 61690, 'majorName': '汉语国际教育', 'majorCategory': None, 'year': 2017, 'cityId': None, 'cityName': '江苏', 'scienceClass': '文科', 'enrollNum': None, 'hightScore': 355.0, 'lowScore': 353.0, 'avgScore': 354.0, 'sCode': 'FCHTWR', 'type': '普通文理', 'batch': '本科一批', 'isDelete': None, 'creator': None, 'createTime': None, 'modifier': None, 'modifyTime': None, 'remark': None, 'hasCat': None, 'hightScoreRank': None, 'lowScoreRank': None, 'avgScoreRank': None, 'provinceScore': None, 'schoolScore': None, 'templateType': None, 'ids': None, 'enrollPlan': None, 'scoreLine': 333.0, 'lowDiff': '20', 'avgDiff': '21', 'thanYear': None, 'isDependent': None, 'column': None, 'firstYear': None, 'secondYear': None, 'thirdYear': None, 'planLastYear': None, 'referType': None, 'pagination': None}, {'id': 61691, 'majorName': '历史学类', 'majorCategory': None, 'year': 2017, 'cityId': None, 'cityName': '江苏', 'scienceClass': '文科', 'enrollNum': None, 'hightScore': 353.0, 'lowScore': 352.0, 'avgScore': 353.0, 'sCode': 'FCHTWR', 'type': '普通文理', 'batch': '本科一批', 'isDelete': None, 'creator': None, 'createTime': None, 'modifier': None, 'modifyTime': None, 'remark': None, 'hasCat': None, 'hightScoreRank': None, 'lowScoreRank': None, 'avgScoreRank': None, 'provinceScore': None, 'schoolScore': None, 'templateType': None, 'ids': None, 'enrollPlan': None, 'scoreLine': 333.0, 'lowDiff': '19', 'avgDiff': '20', 'thanYear': None, 'isDependent': None, 'column': None, 'firstYear': None, 'secondYear': None, 'thirdYear': None, 'planLastYear': None, 'referType': None, 'pagination': None}, {'id': 61692, 'majorName': '考古学', 'majorCategory': None, 'year': 2017, 'cityId': None, 'cityName': '江苏', 'scienceClass': '文科', 'enrollNum': None, 'hightScore': 362.0, 'lowScore': 353.0, 'avgScore': 358.0, 'sCode': 'FCHTWR', 'type': '普通文理', 'batch': '本科一批', 'isDelete': None, 'creator': None, 'createTime': None, 'modifier': None, 'modifyTime': None, 'remark': None, 'hasCat': None, 'hightScoreRank': None, 'lowScoreRank': None, 'avgScoreRank': None, 'provinceScore': None, 'schoolScore': None, 'templateType': None, 'ids': None, 'enrollPlan': None, 'scoreLine': 333.0, 'lowDiff': '20', 'avgDiff': '25', 'thanYear': None, 'isDependent': None, 'column': None, 'firstYear': None, 'secondYear': None, 'thirdYear': None, 'planLastYear': None, 'referType': None, 'pagination': None}], 'columnConfig': None}\n",
      "{'list': [{'id': 61685, 'majorName': '哲学', 'majorCategory': None, 'year': 2017, 'cityId': None, 'cityName': '江苏', 'scienceClass': '文科', 'enrollNum': None, 'hightScore': 352.0, 'lowScore': 352.0, 'avgScore': 352.0, 'sCode': 'FCHTWR', 'type': '普通文理', 'batch': '本科一批', 'isDelete': None, 'creator': None, 'createTime': None, 'modifier': None, 'modifyTime': None, 'remark': None, 'hasCat': None, 'hightScoreRank': None, 'lowScoreRank': None, 'avgScoreRank': None, 'provinceScore': None, 'schoolScore': None, 'templateType': None, 'ids': None, 'enrollPlan': None, 'scoreLine': 333.0, 'lowDiff': '19', 'avgDiff': '19', 'thanYear': None, 'isDependent': None, 'column': None, 'firstYear': None, 'secondYear': None, 'thirdYear': None, 'planLastYear': None, 'referType': None, 'pagination': None}, {'id': 61686, 'majorName': '财政学', 'majorCategory': None, 'year': 2017, 'cityId': None, 'cityName': '江苏', 'scienceClass': '文科', 'enrollNum': None, 'hightScore': 358.0, 'lowScore': 354.0, 'avgScore': 356.0, 'sCode': 'FCHTWR', 'type': '普通文理', 'batch': '本科一批', 'isDelete': None, 'creator': None, 'createTime': None, 'modifier': None, 'modifyTime': None, 'remark': None, 'hasCat': None, 'hightScoreRank': None, 'lowScoreRank': None, 'avgScoreRank': None, 'provinceScore': None, 'schoolScore': None, 'templateType': None, 'ids': None, 'enrollPlan': None, 'scoreLine': 333.0, 'lowDiff': '21', 'avgDiff': '23', 'thanYear': None, 'isDependent': None, 'column': None, 'firstYear': None, 'secondYear': None, 'thirdYear': None, 'planLastYear': None, 'referType': None, 'pagination': None}, {'id': 61687, 'majorName': '法学', 'majorCategory': None, 'year': 2017, 'cityId': None, 'cityName': '江苏', 'scienceClass': '文科', 'enrollNum': None, 'hightScore': 354.0, 'lowScore': 353.0, 'avgScore': 354.0, 'sCode': 'FCHTWR', 'type': '普通文理', 'batch': '本科一批', 'isDelete': None, 'creator': None, 'createTime': None, 'modifier': None, 'modifyTime': None, 'remark': None, 'hasCat': None, 'hightScoreRank': None, 'lowScoreRank': None, 'avgScoreRank': None, 'provinceScore': None, 'schoolScore': None, 'templateType': None, 'ids': None, 'enrollPlan': None, 'scoreLine': 333.0, 'lowDiff': '20', 'avgDiff': '21', 'thanYear': None, 'isDependent': None, 'column': None, 'firstYear': None, 'secondYear': None, 'thirdYear': None, 'planLastYear': None, 'referType': None, 'pagination': None}, {'id': 61688, 'majorName': '新闻传播学类', 'majorCategory': None, 'year': 2017, 'cityId': None, 'cityName': '江苏', 'scienceClass': '文科', 'enrollNum': None, 'hightScore': 359.0, 'lowScore': 353.0, 'avgScore': 356.0, 'sCode': 'FCHTWR', 'type': '普通文理', 'batch': '本科一批', 'isDelete': None, 'creator': None, 'createTime': None, 'modifier': None, 'modifyTime': None, 'remark': None, 'hasCat': None, 'hightScoreRank': None, 'lowScoreRank': None, 'avgScoreRank': None, 'provinceScore': None, 'schoolScore': None, 'templateType': None, 'ids': None, 'enrollPlan': None, 'scoreLine': 333.0, 'lowDiff': '20', 'avgDiff': '23', 'thanYear': None, 'isDependent': None, 'column': None, 'firstYear': None, 'secondYear': None, 'thirdYear': None, 'planLastYear': None, 'referType': None, 'pagination': None}, {'id': 61689, 'majorName': '汉语言文学', 'majorCategory': None, 'year': 2017, 'cityId': None, 'cityName': '江苏', 'scienceClass': '文科', 'enrollNum': None, 'hightScore': 355.0, 'lowScore': 353.0, 'avgScore': 354.0, 'sCode': 'FCHTWR', 'type': '普通文理', 'batch': '本科一批', 'isDelete': None, 'creator': None, 'createTime': None, 'modifier': None, 'modifyTime': None, 'remark': None, 'hasCat': None, 'hightScoreRank': None, 'lowScoreRank': None, 'avgScoreRank': None, 'provinceScore': None, 'schoolScore': None, 'templateType': None, 'ids': None, 'enrollPlan': None, 'scoreLine': 333.0, 'lowDiff': '20', 'avgDiff': '21', 'thanYear': None, 'isDependent': None, 'column': None, 'firstYear': None, 'secondYear': None, 'thirdYear': None, 'planLastYear': None, 'referType': None, 'pagination': None}, {'id': 61690, 'majorName': '汉语国际教育', 'majorCategory': None, 'year': 2017, 'cityId': None, 'cityName': '江苏', 'scienceClass': '文科', 'enrollNum': None, 'hightScore': 355.0, 'lowScore': 353.0, 'avgScore': 354.0, 'sCode': 'FCHTWR', 'type': '普通文理', 'batch': '本科一批', 'isDelete': None, 'creator': None, 'createTime': None, 'modifier': None, 'modifyTime': None, 'remark': None, 'hasCat': None, 'hightScoreRank': None, 'lowScoreRank': None, 'avgScoreRank': None, 'provinceScore': None, 'schoolScore': None, 'templateType': None, 'ids': None, 'enrollPlan': None, 'scoreLine': 333.0, 'lowDiff': '20', 'avgDiff': '21', 'thanYear': None, 'isDependent': None, 'column': None, 'firstYear': None, 'secondYear': None, 'thirdYear': None, 'planLastYear': None, 'referType': None, 'pagination': None}, {'id': 61691, 'majorName': '历史学类', 'majorCategory': None, 'year': 2017, 'cityId': None, 'cityName': '江苏', 'scienceClass': '文科', 'enrollNum': None, 'hightScore': 353.0, 'lowScore': 352.0, 'avgScore': 353.0, 'sCode': 'FCHTWR', 'type': '普通文理', 'batch': '本科一批', 'isDelete': None, 'creator': None, 'createTime': None, 'modifier': None, 'modifyTime': None, 'remark': None, 'hasCat': None, 'hightScoreRank': None, 'lowScoreRank': None, 'avgScoreRank': None, 'provinceScore': None, 'schoolScore': None, 'templateType': None, 'ids': None, 'enrollPlan': None, 'scoreLine': 333.0, 'lowDiff': '19', 'avgDiff': '20', 'thanYear': None, 'isDependent': None, 'column': None, 'firstYear': None, 'secondYear': None, 'thirdYear': None, 'planLastYear': None, 'referType': None, 'pagination': None}, {'id': 61692, 'majorName': '考古学', 'majorCategory': None, 'year': 2017, 'cityId': None, 'cityName': '江苏', 'scienceClass': '文科', 'enrollNum': None, 'hightScore': 362.0, 'lowScore': 353.0, 'avgScore': 358.0, 'sCode': 'FCHTWR', 'type': '普通文理', 'batch': '本科一批', 'isDelete': None, 'creator': None, 'createTime': None, 'modifier': None, 'modifyTime': None, 'remark': None, 'hasCat': None, 'hightScoreRank': None, 'lowScoreRank': None, 'avgScoreRank': None, 'provinceScore': None, 'schoolScore': None, 'templateType': None, 'ids': None, 'enrollPlan': None, 'scoreLine': 333.0, 'lowDiff': '20', 'avgDiff': '25', 'thanYear': None, 'isDependent': None, 'column': None, 'firstYear': None, 'secondYear': None, 'thirdYear': None, 'planLastYear': None, 'referType': None, 'pagination': None}], 'columnConfig': None}\n"
     ]
    },
    {
     "name": "stdout",
     "output_type": "stream",
     "text": [
      "{'list': [{'id': 61685, 'majorName': '哲学', 'majorCategory': None, 'year': 2017, 'cityId': None, 'cityName': '江苏', 'scienceClass': '文科', 'enrollNum': None, 'hightScore': 352.0, 'lowScore': 352.0, 'avgScore': 352.0, 'sCode': 'FCHTWR', 'type': '普通文理', 'batch': '本科一批', 'isDelete': None, 'creator': None, 'createTime': None, 'modifier': None, 'modifyTime': None, 'remark': None, 'hasCat': None, 'hightScoreRank': None, 'lowScoreRank': None, 'avgScoreRank': None, 'provinceScore': None, 'schoolScore': None, 'templateType': None, 'ids': None, 'enrollPlan': None, 'scoreLine': 333.0, 'lowDiff': '19', 'avgDiff': '19', 'thanYear': None, 'isDependent': None, 'column': None, 'firstYear': None, 'secondYear': None, 'thirdYear': None, 'planLastYear': None, 'referType': None, 'pagination': None}, {'id': 61686, 'majorName': '财政学', 'majorCategory': None, 'year': 2017, 'cityId': None, 'cityName': '江苏', 'scienceClass': '文科', 'enrollNum': None, 'hightScore': 358.0, 'lowScore': 354.0, 'avgScore': 356.0, 'sCode': 'FCHTWR', 'type': '普通文理', 'batch': '本科一批', 'isDelete': None, 'creator': None, 'createTime': None, 'modifier': None, 'modifyTime': None, 'remark': None, 'hasCat': None, 'hightScoreRank': None, 'lowScoreRank': None, 'avgScoreRank': None, 'provinceScore': None, 'schoolScore': None, 'templateType': None, 'ids': None, 'enrollPlan': None, 'scoreLine': 333.0, 'lowDiff': '21', 'avgDiff': '23', 'thanYear': None, 'isDependent': None, 'column': None, 'firstYear': None, 'secondYear': None, 'thirdYear': None, 'planLastYear': None, 'referType': None, 'pagination': None}, {'id': 61687, 'majorName': '法学', 'majorCategory': None, 'year': 2017, 'cityId': None, 'cityName': '江苏', 'scienceClass': '文科', 'enrollNum': None, 'hightScore': 354.0, 'lowScore': 353.0, 'avgScore': 354.0, 'sCode': 'FCHTWR', 'type': '普通文理', 'batch': '本科一批', 'isDelete': None, 'creator': None, 'createTime': None, 'modifier': None, 'modifyTime': None, 'remark': None, 'hasCat': None, 'hightScoreRank': None, 'lowScoreRank': None, 'avgScoreRank': None, 'provinceScore': None, 'schoolScore': None, 'templateType': None, 'ids': None, 'enrollPlan': None, 'scoreLine': 333.0, 'lowDiff': '20', 'avgDiff': '21', 'thanYear': None, 'isDependent': None, 'column': None, 'firstYear': None, 'secondYear': None, 'thirdYear': None, 'planLastYear': None, 'referType': None, 'pagination': None}, {'id': 61688, 'majorName': '新闻传播学类', 'majorCategory': None, 'year': 2017, 'cityId': None, 'cityName': '江苏', 'scienceClass': '文科', 'enrollNum': None, 'hightScore': 359.0, 'lowScore': 353.0, 'avgScore': 356.0, 'sCode': 'FCHTWR', 'type': '普通文理', 'batch': '本科一批', 'isDelete': None, 'creator': None, 'createTime': None, 'modifier': None, 'modifyTime': None, 'remark': None, 'hasCat': None, 'hightScoreRank': None, 'lowScoreRank': None, 'avgScoreRank': None, 'provinceScore': None, 'schoolScore': None, 'templateType': None, 'ids': None, 'enrollPlan': None, 'scoreLine': 333.0, 'lowDiff': '20', 'avgDiff': '23', 'thanYear': None, 'isDependent': None, 'column': None, 'firstYear': None, 'secondYear': None, 'thirdYear': None, 'planLastYear': None, 'referType': None, 'pagination': None}, {'id': 61689, 'majorName': '汉语言文学', 'majorCategory': None, 'year': 2017, 'cityId': None, 'cityName': '江苏', 'scienceClass': '文科', 'enrollNum': None, 'hightScore': 355.0, 'lowScore': 353.0, 'avgScore': 354.0, 'sCode': 'FCHTWR', 'type': '普通文理', 'batch': '本科一批', 'isDelete': None, 'creator': None, 'createTime': None, 'modifier': None, 'modifyTime': None, 'remark': None, 'hasCat': None, 'hightScoreRank': None, 'lowScoreRank': None, 'avgScoreRank': None, 'provinceScore': None, 'schoolScore': None, 'templateType': None, 'ids': None, 'enrollPlan': None, 'scoreLine': 333.0, 'lowDiff': '20', 'avgDiff': '21', 'thanYear': None, 'isDependent': None, 'column': None, 'firstYear': None, 'secondYear': None, 'thirdYear': None, 'planLastYear': None, 'referType': None, 'pagination': None}, {'id': 61690, 'majorName': '汉语国际教育', 'majorCategory': None, 'year': 2017, 'cityId': None, 'cityName': '江苏', 'scienceClass': '文科', 'enrollNum': None, 'hightScore': 355.0, 'lowScore': 353.0, 'avgScore': 354.0, 'sCode': 'FCHTWR', 'type': '普通文理', 'batch': '本科一批', 'isDelete': None, 'creator': None, 'createTime': None, 'modifier': None, 'modifyTime': None, 'remark': None, 'hasCat': None, 'hightScoreRank': None, 'lowScoreRank': None, 'avgScoreRank': None, 'provinceScore': None, 'schoolScore': None, 'templateType': None, 'ids': None, 'enrollPlan': None, 'scoreLine': 333.0, 'lowDiff': '20', 'avgDiff': '21', 'thanYear': None, 'isDependent': None, 'column': None, 'firstYear': None, 'secondYear': None, 'thirdYear': None, 'planLastYear': None, 'referType': None, 'pagination': None}, {'id': 61691, 'majorName': '历史学类', 'majorCategory': None, 'year': 2017, 'cityId': None, 'cityName': '江苏', 'scienceClass': '文科', 'enrollNum': None, 'hightScore': 353.0, 'lowScore': 352.0, 'avgScore': 353.0, 'sCode': 'FCHTWR', 'type': '普通文理', 'batch': '本科一批', 'isDelete': None, 'creator': None, 'createTime': None, 'modifier': None, 'modifyTime': None, 'remark': None, 'hasCat': None, 'hightScoreRank': None, 'lowScoreRank': None, 'avgScoreRank': None, 'provinceScore': None, 'schoolScore': None, 'templateType': None, 'ids': None, 'enrollPlan': None, 'scoreLine': 333.0, 'lowDiff': '19', 'avgDiff': '20', 'thanYear': None, 'isDependent': None, 'column': None, 'firstYear': None, 'secondYear': None, 'thirdYear': None, 'planLastYear': None, 'referType': None, 'pagination': None}, {'id': 61692, 'majorName': '考古学', 'majorCategory': None, 'year': 2017, 'cityId': None, 'cityName': '江苏', 'scienceClass': '文科', 'enrollNum': None, 'hightScore': 362.0, 'lowScore': 353.0, 'avgScore': 358.0, 'sCode': 'FCHTWR', 'type': '普通文理', 'batch': '本科一批', 'isDelete': None, 'creator': None, 'createTime': None, 'modifier': None, 'modifyTime': None, 'remark': None, 'hasCat': None, 'hightScoreRank': None, 'lowScoreRank': None, 'avgScoreRank': None, 'provinceScore': None, 'schoolScore': None, 'templateType': None, 'ids': None, 'enrollPlan': None, 'scoreLine': 333.0, 'lowDiff': '20', 'avgDiff': '25', 'thanYear': None, 'isDependent': None, 'column': None, 'firstYear': None, 'secondYear': None, 'thirdYear': None, 'planLastYear': None, 'referType': None, 'pagination': None}], 'columnConfig': None}\n",
      "{'list': [{'id': 61685, 'majorName': '哲学', 'majorCategory': None, 'year': 2017, 'cityId': None, 'cityName': '江苏', 'scienceClass': '文科', 'enrollNum': None, 'hightScore': 352.0, 'lowScore': 352.0, 'avgScore': 352.0, 'sCode': 'FCHTWR', 'type': '普通文理', 'batch': '本科一批', 'isDelete': None, 'creator': None, 'createTime': None, 'modifier': None, 'modifyTime': None, 'remark': None, 'hasCat': None, 'hightScoreRank': None, 'lowScoreRank': None, 'avgScoreRank': None, 'provinceScore': None, 'schoolScore': None, 'templateType': None, 'ids': None, 'enrollPlan': None, 'scoreLine': 333.0, 'lowDiff': '19', 'avgDiff': '19', 'thanYear': None, 'isDependent': None, 'column': None, 'firstYear': None, 'secondYear': None, 'thirdYear': None, 'planLastYear': None, 'referType': None, 'pagination': None}, {'id': 61686, 'majorName': '财政学', 'majorCategory': None, 'year': 2017, 'cityId': None, 'cityName': '江苏', 'scienceClass': '文科', 'enrollNum': None, 'hightScore': 358.0, 'lowScore': 354.0, 'avgScore': 356.0, 'sCode': 'FCHTWR', 'type': '普通文理', 'batch': '本科一批', 'isDelete': None, 'creator': None, 'createTime': None, 'modifier': None, 'modifyTime': None, 'remark': None, 'hasCat': None, 'hightScoreRank': None, 'lowScoreRank': None, 'avgScoreRank': None, 'provinceScore': None, 'schoolScore': None, 'templateType': None, 'ids': None, 'enrollPlan': None, 'scoreLine': 333.0, 'lowDiff': '21', 'avgDiff': '23', 'thanYear': None, 'isDependent': None, 'column': None, 'firstYear': None, 'secondYear': None, 'thirdYear': None, 'planLastYear': None, 'referType': None, 'pagination': None}, {'id': 61687, 'majorName': '法学', 'majorCategory': None, 'year': 2017, 'cityId': None, 'cityName': '江苏', 'scienceClass': '文科', 'enrollNum': None, 'hightScore': 354.0, 'lowScore': 353.0, 'avgScore': 354.0, 'sCode': 'FCHTWR', 'type': '普通文理', 'batch': '本科一批', 'isDelete': None, 'creator': None, 'createTime': None, 'modifier': None, 'modifyTime': None, 'remark': None, 'hasCat': None, 'hightScoreRank': None, 'lowScoreRank': None, 'avgScoreRank': None, 'provinceScore': None, 'schoolScore': None, 'templateType': None, 'ids': None, 'enrollPlan': None, 'scoreLine': 333.0, 'lowDiff': '20', 'avgDiff': '21', 'thanYear': None, 'isDependent': None, 'column': None, 'firstYear': None, 'secondYear': None, 'thirdYear': None, 'planLastYear': None, 'referType': None, 'pagination': None}, {'id': 61688, 'majorName': '新闻传播学类', 'majorCategory': None, 'year': 2017, 'cityId': None, 'cityName': '江苏', 'scienceClass': '文科', 'enrollNum': None, 'hightScore': 359.0, 'lowScore': 353.0, 'avgScore': 356.0, 'sCode': 'FCHTWR', 'type': '普通文理', 'batch': '本科一批', 'isDelete': None, 'creator': None, 'createTime': None, 'modifier': None, 'modifyTime': None, 'remark': None, 'hasCat': None, 'hightScoreRank': None, 'lowScoreRank': None, 'avgScoreRank': None, 'provinceScore': None, 'schoolScore': None, 'templateType': None, 'ids': None, 'enrollPlan': None, 'scoreLine': 333.0, 'lowDiff': '20', 'avgDiff': '23', 'thanYear': None, 'isDependent': None, 'column': None, 'firstYear': None, 'secondYear': None, 'thirdYear': None, 'planLastYear': None, 'referType': None, 'pagination': None}, {'id': 61689, 'majorName': '汉语言文学', 'majorCategory': None, 'year': 2017, 'cityId': None, 'cityName': '江苏', 'scienceClass': '文科', 'enrollNum': None, 'hightScore': 355.0, 'lowScore': 353.0, 'avgScore': 354.0, 'sCode': 'FCHTWR', 'type': '普通文理', 'batch': '本科一批', 'isDelete': None, 'creator': None, 'createTime': None, 'modifier': None, 'modifyTime': None, 'remark': None, 'hasCat': None, 'hightScoreRank': None, 'lowScoreRank': None, 'avgScoreRank': None, 'provinceScore': None, 'schoolScore': None, 'templateType': None, 'ids': None, 'enrollPlan': None, 'scoreLine': 333.0, 'lowDiff': '20', 'avgDiff': '21', 'thanYear': None, 'isDependent': None, 'column': None, 'firstYear': None, 'secondYear': None, 'thirdYear': None, 'planLastYear': None, 'referType': None, 'pagination': None}, {'id': 61690, 'majorName': '汉语国际教育', 'majorCategory': None, 'year': 2017, 'cityId': None, 'cityName': '江苏', 'scienceClass': '文科', 'enrollNum': None, 'hightScore': 355.0, 'lowScore': 353.0, 'avgScore': 354.0, 'sCode': 'FCHTWR', 'type': '普通文理', 'batch': '本科一批', 'isDelete': None, 'creator': None, 'createTime': None, 'modifier': None, 'modifyTime': None, 'remark': None, 'hasCat': None, 'hightScoreRank': None, 'lowScoreRank': None, 'avgScoreRank': None, 'provinceScore': None, 'schoolScore': None, 'templateType': None, 'ids': None, 'enrollPlan': None, 'scoreLine': 333.0, 'lowDiff': '20', 'avgDiff': '21', 'thanYear': None, 'isDependent': None, 'column': None, 'firstYear': None, 'secondYear': None, 'thirdYear': None, 'planLastYear': None, 'referType': None, 'pagination': None}, {'id': 61691, 'majorName': '历史学类', 'majorCategory': None, 'year': 2017, 'cityId': None, 'cityName': '江苏', 'scienceClass': '文科', 'enrollNum': None, 'hightScore': 353.0, 'lowScore': 352.0, 'avgScore': 353.0, 'sCode': 'FCHTWR', 'type': '普通文理', 'batch': '本科一批', 'isDelete': None, 'creator': None, 'createTime': None, 'modifier': None, 'modifyTime': None, 'remark': None, 'hasCat': None, 'hightScoreRank': None, 'lowScoreRank': None, 'avgScoreRank': None, 'provinceScore': None, 'schoolScore': None, 'templateType': None, 'ids': None, 'enrollPlan': None, 'scoreLine': 333.0, 'lowDiff': '19', 'avgDiff': '20', 'thanYear': None, 'isDependent': None, 'column': None, 'firstYear': None, 'secondYear': None, 'thirdYear': None, 'planLastYear': None, 'referType': None, 'pagination': None}, {'id': 61692, 'majorName': '考古学', 'majorCategory': None, 'year': 2017, 'cityId': None, 'cityName': '江苏', 'scienceClass': '文科', 'enrollNum': None, 'hightScore': 362.0, 'lowScore': 353.0, 'avgScore': 358.0, 'sCode': 'FCHTWR', 'type': '普通文理', 'batch': '本科一批', 'isDelete': None, 'creator': None, 'createTime': None, 'modifier': None, 'modifyTime': None, 'remark': None, 'hasCat': None, 'hightScoreRank': None, 'lowScoreRank': None, 'avgScoreRank': None, 'provinceScore': None, 'schoolScore': None, 'templateType': None, 'ids': None, 'enrollPlan': None, 'scoreLine': 333.0, 'lowDiff': '20', 'avgDiff': '25', 'thanYear': None, 'isDependent': None, 'column': None, 'firstYear': None, 'secondYear': None, 'thirdYear': None, 'planLastYear': None, 'referType': None, 'pagination': None}], 'columnConfig': None}\n",
      "{'list': [{'id': 61685, 'majorName': '哲学', 'majorCategory': None, 'year': 2017, 'cityId': None, 'cityName': '江苏', 'scienceClass': '文科', 'enrollNum': None, 'hightScore': 352.0, 'lowScore': 352.0, 'avgScore': 352.0, 'sCode': 'FCHTWR', 'type': '普通文理', 'batch': '本科一批', 'isDelete': None, 'creator': None, 'createTime': None, 'modifier': None, 'modifyTime': None, 'remark': None, 'hasCat': None, 'hightScoreRank': None, 'lowScoreRank': None, 'avgScoreRank': None, 'provinceScore': None, 'schoolScore': None, 'templateType': None, 'ids': None, 'enrollPlan': None, 'scoreLine': 333.0, 'lowDiff': '19', 'avgDiff': '19', 'thanYear': None, 'isDependent': None, 'column': None, 'firstYear': None, 'secondYear': None, 'thirdYear': None, 'planLastYear': None, 'referType': None, 'pagination': None}, {'id': 61686, 'majorName': '财政学', 'majorCategory': None, 'year': 2017, 'cityId': None, 'cityName': '江苏', 'scienceClass': '文科', 'enrollNum': None, 'hightScore': 358.0, 'lowScore': 354.0, 'avgScore': 356.0, 'sCode': 'FCHTWR', 'type': '普通文理', 'batch': '本科一批', 'isDelete': None, 'creator': None, 'createTime': None, 'modifier': None, 'modifyTime': None, 'remark': None, 'hasCat': None, 'hightScoreRank': None, 'lowScoreRank': None, 'avgScoreRank': None, 'provinceScore': None, 'schoolScore': None, 'templateType': None, 'ids': None, 'enrollPlan': None, 'scoreLine': 333.0, 'lowDiff': '21', 'avgDiff': '23', 'thanYear': None, 'isDependent': None, 'column': None, 'firstYear': None, 'secondYear': None, 'thirdYear': None, 'planLastYear': None, 'referType': None, 'pagination': None}, {'id': 61687, 'majorName': '法学', 'majorCategory': None, 'year': 2017, 'cityId': None, 'cityName': '江苏', 'scienceClass': '文科', 'enrollNum': None, 'hightScore': 354.0, 'lowScore': 353.0, 'avgScore': 354.0, 'sCode': 'FCHTWR', 'type': '普通文理', 'batch': '本科一批', 'isDelete': None, 'creator': None, 'createTime': None, 'modifier': None, 'modifyTime': None, 'remark': None, 'hasCat': None, 'hightScoreRank': None, 'lowScoreRank': None, 'avgScoreRank': None, 'provinceScore': None, 'schoolScore': None, 'templateType': None, 'ids': None, 'enrollPlan': None, 'scoreLine': 333.0, 'lowDiff': '20', 'avgDiff': '21', 'thanYear': None, 'isDependent': None, 'column': None, 'firstYear': None, 'secondYear': None, 'thirdYear': None, 'planLastYear': None, 'referType': None, 'pagination': None}, {'id': 61688, 'majorName': '新闻传播学类', 'majorCategory': None, 'year': 2017, 'cityId': None, 'cityName': '江苏', 'scienceClass': '文科', 'enrollNum': None, 'hightScore': 359.0, 'lowScore': 353.0, 'avgScore': 356.0, 'sCode': 'FCHTWR', 'type': '普通文理', 'batch': '本科一批', 'isDelete': None, 'creator': None, 'createTime': None, 'modifier': None, 'modifyTime': None, 'remark': None, 'hasCat': None, 'hightScoreRank': None, 'lowScoreRank': None, 'avgScoreRank': None, 'provinceScore': None, 'schoolScore': None, 'templateType': None, 'ids': None, 'enrollPlan': None, 'scoreLine': 333.0, 'lowDiff': '20', 'avgDiff': '23', 'thanYear': None, 'isDependent': None, 'column': None, 'firstYear': None, 'secondYear': None, 'thirdYear': None, 'planLastYear': None, 'referType': None, 'pagination': None}, {'id': 61689, 'majorName': '汉语言文学', 'majorCategory': None, 'year': 2017, 'cityId': None, 'cityName': '江苏', 'scienceClass': '文科', 'enrollNum': None, 'hightScore': 355.0, 'lowScore': 353.0, 'avgScore': 354.0, 'sCode': 'FCHTWR', 'type': '普通文理', 'batch': '本科一批', 'isDelete': None, 'creator': None, 'createTime': None, 'modifier': None, 'modifyTime': None, 'remark': None, 'hasCat': None, 'hightScoreRank': None, 'lowScoreRank': None, 'avgScoreRank': None, 'provinceScore': None, 'schoolScore': None, 'templateType': None, 'ids': None, 'enrollPlan': None, 'scoreLine': 333.0, 'lowDiff': '20', 'avgDiff': '21', 'thanYear': None, 'isDependent': None, 'column': None, 'firstYear': None, 'secondYear': None, 'thirdYear': None, 'planLastYear': None, 'referType': None, 'pagination': None}, {'id': 61690, 'majorName': '汉语国际教育', 'majorCategory': None, 'year': 2017, 'cityId': None, 'cityName': '江苏', 'scienceClass': '文科', 'enrollNum': None, 'hightScore': 355.0, 'lowScore': 353.0, 'avgScore': 354.0, 'sCode': 'FCHTWR', 'type': '普通文理', 'batch': '本科一批', 'isDelete': None, 'creator': None, 'createTime': None, 'modifier': None, 'modifyTime': None, 'remark': None, 'hasCat': None, 'hightScoreRank': None, 'lowScoreRank': None, 'avgScoreRank': None, 'provinceScore': None, 'schoolScore': None, 'templateType': None, 'ids': None, 'enrollPlan': None, 'scoreLine': 333.0, 'lowDiff': '20', 'avgDiff': '21', 'thanYear': None, 'isDependent': None, 'column': None, 'firstYear': None, 'secondYear': None, 'thirdYear': None, 'planLastYear': None, 'referType': None, 'pagination': None}, {'id': 61691, 'majorName': '历史学类', 'majorCategory': None, 'year': 2017, 'cityId': None, 'cityName': '江苏', 'scienceClass': '文科', 'enrollNum': None, 'hightScore': 353.0, 'lowScore': 352.0, 'avgScore': 353.0, 'sCode': 'FCHTWR', 'type': '普通文理', 'batch': '本科一批', 'isDelete': None, 'creator': None, 'createTime': None, 'modifier': None, 'modifyTime': None, 'remark': None, 'hasCat': None, 'hightScoreRank': None, 'lowScoreRank': None, 'avgScoreRank': None, 'provinceScore': None, 'schoolScore': None, 'templateType': None, 'ids': None, 'enrollPlan': None, 'scoreLine': 333.0, 'lowDiff': '19', 'avgDiff': '20', 'thanYear': None, 'isDependent': None, 'column': None, 'firstYear': None, 'secondYear': None, 'thirdYear': None, 'planLastYear': None, 'referType': None, 'pagination': None}, {'id': 61692, 'majorName': '考古学', 'majorCategory': None, 'year': 2017, 'cityId': None, 'cityName': '江苏', 'scienceClass': '文科', 'enrollNum': None, 'hightScore': 362.0, 'lowScore': 353.0, 'avgScore': 358.0, 'sCode': 'FCHTWR', 'type': '普通文理', 'batch': '本科一批', 'isDelete': None, 'creator': None, 'createTime': None, 'modifier': None, 'modifyTime': None, 'remark': None, 'hasCat': None, 'hightScoreRank': None, 'lowScoreRank': None, 'avgScoreRank': None, 'provinceScore': None, 'schoolScore': None, 'templateType': None, 'ids': None, 'enrollPlan': None, 'scoreLine': 333.0, 'lowDiff': '20', 'avgDiff': '25', 'thanYear': None, 'isDependent': None, 'column': None, 'firstYear': None, 'secondYear': None, 'thirdYear': None, 'planLastYear': None, 'referType': None, 'pagination': None}], 'columnConfig': None}\n"
     ]
    },
    {
     "name": "stdout",
     "output_type": "stream",
     "text": [
      "{'list': [{'id': 61685, 'majorName': '哲学', 'majorCategory': None, 'year': 2017, 'cityId': None, 'cityName': '江苏', 'scienceClass': '文科', 'enrollNum': None, 'hightScore': 352.0, 'lowScore': 352.0, 'avgScore': 352.0, 'sCode': 'FCHTWR', 'type': '普通文理', 'batch': '本科一批', 'isDelete': None, 'creator': None, 'createTime': None, 'modifier': None, 'modifyTime': None, 'remark': None, 'hasCat': None, 'hightScoreRank': None, 'lowScoreRank': None, 'avgScoreRank': None, 'provinceScore': None, 'schoolScore': None, 'templateType': None, 'ids': None, 'enrollPlan': None, 'scoreLine': 333.0, 'lowDiff': '19', 'avgDiff': '19', 'thanYear': None, 'isDependent': None, 'column': None, 'firstYear': None, 'secondYear': None, 'thirdYear': None, 'planLastYear': None, 'referType': None, 'pagination': None}, {'id': 61686, 'majorName': '财政学', 'majorCategory': None, 'year': 2017, 'cityId': None, 'cityName': '江苏', 'scienceClass': '文科', 'enrollNum': None, 'hightScore': 358.0, 'lowScore': 354.0, 'avgScore': 356.0, 'sCode': 'FCHTWR', 'type': '普通文理', 'batch': '本科一批', 'isDelete': None, 'creator': None, 'createTime': None, 'modifier': None, 'modifyTime': None, 'remark': None, 'hasCat': None, 'hightScoreRank': None, 'lowScoreRank': None, 'avgScoreRank': None, 'provinceScore': None, 'schoolScore': None, 'templateType': None, 'ids': None, 'enrollPlan': None, 'scoreLine': 333.0, 'lowDiff': '21', 'avgDiff': '23', 'thanYear': None, 'isDependent': None, 'column': None, 'firstYear': None, 'secondYear': None, 'thirdYear': None, 'planLastYear': None, 'referType': None, 'pagination': None}, {'id': 61687, 'majorName': '法学', 'majorCategory': None, 'year': 2017, 'cityId': None, 'cityName': '江苏', 'scienceClass': '文科', 'enrollNum': None, 'hightScore': 354.0, 'lowScore': 353.0, 'avgScore': 354.0, 'sCode': 'FCHTWR', 'type': '普通文理', 'batch': '本科一批', 'isDelete': None, 'creator': None, 'createTime': None, 'modifier': None, 'modifyTime': None, 'remark': None, 'hasCat': None, 'hightScoreRank': None, 'lowScoreRank': None, 'avgScoreRank': None, 'provinceScore': None, 'schoolScore': None, 'templateType': None, 'ids': None, 'enrollPlan': None, 'scoreLine': 333.0, 'lowDiff': '20', 'avgDiff': '21', 'thanYear': None, 'isDependent': None, 'column': None, 'firstYear': None, 'secondYear': None, 'thirdYear': None, 'planLastYear': None, 'referType': None, 'pagination': None}, {'id': 61688, 'majorName': '新闻传播学类', 'majorCategory': None, 'year': 2017, 'cityId': None, 'cityName': '江苏', 'scienceClass': '文科', 'enrollNum': None, 'hightScore': 359.0, 'lowScore': 353.0, 'avgScore': 356.0, 'sCode': 'FCHTWR', 'type': '普通文理', 'batch': '本科一批', 'isDelete': None, 'creator': None, 'createTime': None, 'modifier': None, 'modifyTime': None, 'remark': None, 'hasCat': None, 'hightScoreRank': None, 'lowScoreRank': None, 'avgScoreRank': None, 'provinceScore': None, 'schoolScore': None, 'templateType': None, 'ids': None, 'enrollPlan': None, 'scoreLine': 333.0, 'lowDiff': '20', 'avgDiff': '23', 'thanYear': None, 'isDependent': None, 'column': None, 'firstYear': None, 'secondYear': None, 'thirdYear': None, 'planLastYear': None, 'referType': None, 'pagination': None}, {'id': 61689, 'majorName': '汉语言文学', 'majorCategory': None, 'year': 2017, 'cityId': None, 'cityName': '江苏', 'scienceClass': '文科', 'enrollNum': None, 'hightScore': 355.0, 'lowScore': 353.0, 'avgScore': 354.0, 'sCode': 'FCHTWR', 'type': '普通文理', 'batch': '本科一批', 'isDelete': None, 'creator': None, 'createTime': None, 'modifier': None, 'modifyTime': None, 'remark': None, 'hasCat': None, 'hightScoreRank': None, 'lowScoreRank': None, 'avgScoreRank': None, 'provinceScore': None, 'schoolScore': None, 'templateType': None, 'ids': None, 'enrollPlan': None, 'scoreLine': 333.0, 'lowDiff': '20', 'avgDiff': '21', 'thanYear': None, 'isDependent': None, 'column': None, 'firstYear': None, 'secondYear': None, 'thirdYear': None, 'planLastYear': None, 'referType': None, 'pagination': None}, {'id': 61690, 'majorName': '汉语国际教育', 'majorCategory': None, 'year': 2017, 'cityId': None, 'cityName': '江苏', 'scienceClass': '文科', 'enrollNum': None, 'hightScore': 355.0, 'lowScore': 353.0, 'avgScore': 354.0, 'sCode': 'FCHTWR', 'type': '普通文理', 'batch': '本科一批', 'isDelete': None, 'creator': None, 'createTime': None, 'modifier': None, 'modifyTime': None, 'remark': None, 'hasCat': None, 'hightScoreRank': None, 'lowScoreRank': None, 'avgScoreRank': None, 'provinceScore': None, 'schoolScore': None, 'templateType': None, 'ids': None, 'enrollPlan': None, 'scoreLine': 333.0, 'lowDiff': '20', 'avgDiff': '21', 'thanYear': None, 'isDependent': None, 'column': None, 'firstYear': None, 'secondYear': None, 'thirdYear': None, 'planLastYear': None, 'referType': None, 'pagination': None}, {'id': 61691, 'majorName': '历史学类', 'majorCategory': None, 'year': 2017, 'cityId': None, 'cityName': '江苏', 'scienceClass': '文科', 'enrollNum': None, 'hightScore': 353.0, 'lowScore': 352.0, 'avgScore': 353.0, 'sCode': 'FCHTWR', 'type': '普通文理', 'batch': '本科一批', 'isDelete': None, 'creator': None, 'createTime': None, 'modifier': None, 'modifyTime': None, 'remark': None, 'hasCat': None, 'hightScoreRank': None, 'lowScoreRank': None, 'avgScoreRank': None, 'provinceScore': None, 'schoolScore': None, 'templateType': None, 'ids': None, 'enrollPlan': None, 'scoreLine': 333.0, 'lowDiff': '19', 'avgDiff': '20', 'thanYear': None, 'isDependent': None, 'column': None, 'firstYear': None, 'secondYear': None, 'thirdYear': None, 'planLastYear': None, 'referType': None, 'pagination': None}, {'id': 61692, 'majorName': '考古学', 'majorCategory': None, 'year': 2017, 'cityId': None, 'cityName': '江苏', 'scienceClass': '文科', 'enrollNum': None, 'hightScore': 362.0, 'lowScore': 353.0, 'avgScore': 358.0, 'sCode': 'FCHTWR', 'type': '普通文理', 'batch': '本科一批', 'isDelete': None, 'creator': None, 'createTime': None, 'modifier': None, 'modifyTime': None, 'remark': None, 'hasCat': None, 'hightScoreRank': None, 'lowScoreRank': None, 'avgScoreRank': None, 'provinceScore': None, 'schoolScore': None, 'templateType': None, 'ids': None, 'enrollPlan': None, 'scoreLine': 333.0, 'lowDiff': '20', 'avgDiff': '25', 'thanYear': None, 'isDependent': None, 'column': None, 'firstYear': None, 'secondYear': None, 'thirdYear': None, 'planLastYear': None, 'referType': None, 'pagination': None}], 'columnConfig': None}\n",
      "{'list': [{'id': 61685, 'majorName': '哲学', 'majorCategory': None, 'year': 2017, 'cityId': None, 'cityName': '江苏', 'scienceClass': '文科', 'enrollNum': None, 'hightScore': 352.0, 'lowScore': 352.0, 'avgScore': 352.0, 'sCode': 'FCHTWR', 'type': '普通文理', 'batch': '本科一批', 'isDelete': None, 'creator': None, 'createTime': None, 'modifier': None, 'modifyTime': None, 'remark': None, 'hasCat': None, 'hightScoreRank': None, 'lowScoreRank': None, 'avgScoreRank': None, 'provinceScore': None, 'schoolScore': None, 'templateType': None, 'ids': None, 'enrollPlan': None, 'scoreLine': 333.0, 'lowDiff': '19', 'avgDiff': '19', 'thanYear': None, 'isDependent': None, 'column': None, 'firstYear': None, 'secondYear': None, 'thirdYear': None, 'planLastYear': None, 'referType': None, 'pagination': None}, {'id': 61686, 'majorName': '财政学', 'majorCategory': None, 'year': 2017, 'cityId': None, 'cityName': '江苏', 'scienceClass': '文科', 'enrollNum': None, 'hightScore': 358.0, 'lowScore': 354.0, 'avgScore': 356.0, 'sCode': 'FCHTWR', 'type': '普通文理', 'batch': '本科一批', 'isDelete': None, 'creator': None, 'createTime': None, 'modifier': None, 'modifyTime': None, 'remark': None, 'hasCat': None, 'hightScoreRank': None, 'lowScoreRank': None, 'avgScoreRank': None, 'provinceScore': None, 'schoolScore': None, 'templateType': None, 'ids': None, 'enrollPlan': None, 'scoreLine': 333.0, 'lowDiff': '21', 'avgDiff': '23', 'thanYear': None, 'isDependent': None, 'column': None, 'firstYear': None, 'secondYear': None, 'thirdYear': None, 'planLastYear': None, 'referType': None, 'pagination': None}, {'id': 61687, 'majorName': '法学', 'majorCategory': None, 'year': 2017, 'cityId': None, 'cityName': '江苏', 'scienceClass': '文科', 'enrollNum': None, 'hightScore': 354.0, 'lowScore': 353.0, 'avgScore': 354.0, 'sCode': 'FCHTWR', 'type': '普通文理', 'batch': '本科一批', 'isDelete': None, 'creator': None, 'createTime': None, 'modifier': None, 'modifyTime': None, 'remark': None, 'hasCat': None, 'hightScoreRank': None, 'lowScoreRank': None, 'avgScoreRank': None, 'provinceScore': None, 'schoolScore': None, 'templateType': None, 'ids': None, 'enrollPlan': None, 'scoreLine': 333.0, 'lowDiff': '20', 'avgDiff': '21', 'thanYear': None, 'isDependent': None, 'column': None, 'firstYear': None, 'secondYear': None, 'thirdYear': None, 'planLastYear': None, 'referType': None, 'pagination': None}, {'id': 61688, 'majorName': '新闻传播学类', 'majorCategory': None, 'year': 2017, 'cityId': None, 'cityName': '江苏', 'scienceClass': '文科', 'enrollNum': None, 'hightScore': 359.0, 'lowScore': 353.0, 'avgScore': 356.0, 'sCode': 'FCHTWR', 'type': '普通文理', 'batch': '本科一批', 'isDelete': None, 'creator': None, 'createTime': None, 'modifier': None, 'modifyTime': None, 'remark': None, 'hasCat': None, 'hightScoreRank': None, 'lowScoreRank': None, 'avgScoreRank': None, 'provinceScore': None, 'schoolScore': None, 'templateType': None, 'ids': None, 'enrollPlan': None, 'scoreLine': 333.0, 'lowDiff': '20', 'avgDiff': '23', 'thanYear': None, 'isDependent': None, 'column': None, 'firstYear': None, 'secondYear': None, 'thirdYear': None, 'planLastYear': None, 'referType': None, 'pagination': None}, {'id': 61689, 'majorName': '汉语言文学', 'majorCategory': None, 'year': 2017, 'cityId': None, 'cityName': '江苏', 'scienceClass': '文科', 'enrollNum': None, 'hightScore': 355.0, 'lowScore': 353.0, 'avgScore': 354.0, 'sCode': 'FCHTWR', 'type': '普通文理', 'batch': '本科一批', 'isDelete': None, 'creator': None, 'createTime': None, 'modifier': None, 'modifyTime': None, 'remark': None, 'hasCat': None, 'hightScoreRank': None, 'lowScoreRank': None, 'avgScoreRank': None, 'provinceScore': None, 'schoolScore': None, 'templateType': None, 'ids': None, 'enrollPlan': None, 'scoreLine': 333.0, 'lowDiff': '20', 'avgDiff': '21', 'thanYear': None, 'isDependent': None, 'column': None, 'firstYear': None, 'secondYear': None, 'thirdYear': None, 'planLastYear': None, 'referType': None, 'pagination': None}, {'id': 61690, 'majorName': '汉语国际教育', 'majorCategory': None, 'year': 2017, 'cityId': None, 'cityName': '江苏', 'scienceClass': '文科', 'enrollNum': None, 'hightScore': 355.0, 'lowScore': 353.0, 'avgScore': 354.0, 'sCode': 'FCHTWR', 'type': '普通文理', 'batch': '本科一批', 'isDelete': None, 'creator': None, 'createTime': None, 'modifier': None, 'modifyTime': None, 'remark': None, 'hasCat': None, 'hightScoreRank': None, 'lowScoreRank': None, 'avgScoreRank': None, 'provinceScore': None, 'schoolScore': None, 'templateType': None, 'ids': None, 'enrollPlan': None, 'scoreLine': 333.0, 'lowDiff': '20', 'avgDiff': '21', 'thanYear': None, 'isDependent': None, 'column': None, 'firstYear': None, 'secondYear': None, 'thirdYear': None, 'planLastYear': None, 'referType': None, 'pagination': None}, {'id': 61691, 'majorName': '历史学类', 'majorCategory': None, 'year': 2017, 'cityId': None, 'cityName': '江苏', 'scienceClass': '文科', 'enrollNum': None, 'hightScore': 353.0, 'lowScore': 352.0, 'avgScore': 353.0, 'sCode': 'FCHTWR', 'type': '普通文理', 'batch': '本科一批', 'isDelete': None, 'creator': None, 'createTime': None, 'modifier': None, 'modifyTime': None, 'remark': None, 'hasCat': None, 'hightScoreRank': None, 'lowScoreRank': None, 'avgScoreRank': None, 'provinceScore': None, 'schoolScore': None, 'templateType': None, 'ids': None, 'enrollPlan': None, 'scoreLine': 333.0, 'lowDiff': '19', 'avgDiff': '20', 'thanYear': None, 'isDependent': None, 'column': None, 'firstYear': None, 'secondYear': None, 'thirdYear': None, 'planLastYear': None, 'referType': None, 'pagination': None}, {'id': 61692, 'majorName': '考古学', 'majorCategory': None, 'year': 2017, 'cityId': None, 'cityName': '江苏', 'scienceClass': '文科', 'enrollNum': None, 'hightScore': 362.0, 'lowScore': 353.0, 'avgScore': 358.0, 'sCode': 'FCHTWR', 'type': '普通文理', 'batch': '本科一批', 'isDelete': None, 'creator': None, 'createTime': None, 'modifier': None, 'modifyTime': None, 'remark': None, 'hasCat': None, 'hightScoreRank': None, 'lowScoreRank': None, 'avgScoreRank': None, 'provinceScore': None, 'schoolScore': None, 'templateType': None, 'ids': None, 'enrollPlan': None, 'scoreLine': 333.0, 'lowDiff': '20', 'avgDiff': '25', 'thanYear': None, 'isDependent': None, 'column': None, 'firstYear': None, 'secondYear': None, 'thirdYear': None, 'planLastYear': None, 'referType': None, 'pagination': None}], 'columnConfig': None}\n",
      "{'list': [{'id': 61685, 'majorName': '哲学', 'majorCategory': None, 'year': 2017, 'cityId': None, 'cityName': '江苏', 'scienceClass': '文科', 'enrollNum': None, 'hightScore': 352.0, 'lowScore': 352.0, 'avgScore': 352.0, 'sCode': 'FCHTWR', 'type': '普通文理', 'batch': '本科一批', 'isDelete': None, 'creator': None, 'createTime': None, 'modifier': None, 'modifyTime': None, 'remark': None, 'hasCat': None, 'hightScoreRank': None, 'lowScoreRank': None, 'avgScoreRank': None, 'provinceScore': None, 'schoolScore': None, 'templateType': None, 'ids': None, 'enrollPlan': None, 'scoreLine': 333.0, 'lowDiff': '19', 'avgDiff': '19', 'thanYear': None, 'isDependent': None, 'column': None, 'firstYear': None, 'secondYear': None, 'thirdYear': None, 'planLastYear': None, 'referType': None, 'pagination': None}, {'id': 61686, 'majorName': '财政学', 'majorCategory': None, 'year': 2017, 'cityId': None, 'cityName': '江苏', 'scienceClass': '文科', 'enrollNum': None, 'hightScore': 358.0, 'lowScore': 354.0, 'avgScore': 356.0, 'sCode': 'FCHTWR', 'type': '普通文理', 'batch': '本科一批', 'isDelete': None, 'creator': None, 'createTime': None, 'modifier': None, 'modifyTime': None, 'remark': None, 'hasCat': None, 'hightScoreRank': None, 'lowScoreRank': None, 'avgScoreRank': None, 'provinceScore': None, 'schoolScore': None, 'templateType': None, 'ids': None, 'enrollPlan': None, 'scoreLine': 333.0, 'lowDiff': '21', 'avgDiff': '23', 'thanYear': None, 'isDependent': None, 'column': None, 'firstYear': None, 'secondYear': None, 'thirdYear': None, 'planLastYear': None, 'referType': None, 'pagination': None}, {'id': 61687, 'majorName': '法学', 'majorCategory': None, 'year': 2017, 'cityId': None, 'cityName': '江苏', 'scienceClass': '文科', 'enrollNum': None, 'hightScore': 354.0, 'lowScore': 353.0, 'avgScore': 354.0, 'sCode': 'FCHTWR', 'type': '普通文理', 'batch': '本科一批', 'isDelete': None, 'creator': None, 'createTime': None, 'modifier': None, 'modifyTime': None, 'remark': None, 'hasCat': None, 'hightScoreRank': None, 'lowScoreRank': None, 'avgScoreRank': None, 'provinceScore': None, 'schoolScore': None, 'templateType': None, 'ids': None, 'enrollPlan': None, 'scoreLine': 333.0, 'lowDiff': '20', 'avgDiff': '21', 'thanYear': None, 'isDependent': None, 'column': None, 'firstYear': None, 'secondYear': None, 'thirdYear': None, 'planLastYear': None, 'referType': None, 'pagination': None}, {'id': 61688, 'majorName': '新闻传播学类', 'majorCategory': None, 'year': 2017, 'cityId': None, 'cityName': '江苏', 'scienceClass': '文科', 'enrollNum': None, 'hightScore': 359.0, 'lowScore': 353.0, 'avgScore': 356.0, 'sCode': 'FCHTWR', 'type': '普通文理', 'batch': '本科一批', 'isDelete': None, 'creator': None, 'createTime': None, 'modifier': None, 'modifyTime': None, 'remark': None, 'hasCat': None, 'hightScoreRank': None, 'lowScoreRank': None, 'avgScoreRank': None, 'provinceScore': None, 'schoolScore': None, 'templateType': None, 'ids': None, 'enrollPlan': None, 'scoreLine': 333.0, 'lowDiff': '20', 'avgDiff': '23', 'thanYear': None, 'isDependent': None, 'column': None, 'firstYear': None, 'secondYear': None, 'thirdYear': None, 'planLastYear': None, 'referType': None, 'pagination': None}, {'id': 61689, 'majorName': '汉语言文学', 'majorCategory': None, 'year': 2017, 'cityId': None, 'cityName': '江苏', 'scienceClass': '文科', 'enrollNum': None, 'hightScore': 355.0, 'lowScore': 353.0, 'avgScore': 354.0, 'sCode': 'FCHTWR', 'type': '普通文理', 'batch': '本科一批', 'isDelete': None, 'creator': None, 'createTime': None, 'modifier': None, 'modifyTime': None, 'remark': None, 'hasCat': None, 'hightScoreRank': None, 'lowScoreRank': None, 'avgScoreRank': None, 'provinceScore': None, 'schoolScore': None, 'templateType': None, 'ids': None, 'enrollPlan': None, 'scoreLine': 333.0, 'lowDiff': '20', 'avgDiff': '21', 'thanYear': None, 'isDependent': None, 'column': None, 'firstYear': None, 'secondYear': None, 'thirdYear': None, 'planLastYear': None, 'referType': None, 'pagination': None}, {'id': 61690, 'majorName': '汉语国际教育', 'majorCategory': None, 'year': 2017, 'cityId': None, 'cityName': '江苏', 'scienceClass': '文科', 'enrollNum': None, 'hightScore': 355.0, 'lowScore': 353.0, 'avgScore': 354.0, 'sCode': 'FCHTWR', 'type': '普通文理', 'batch': '本科一批', 'isDelete': None, 'creator': None, 'createTime': None, 'modifier': None, 'modifyTime': None, 'remark': None, 'hasCat': None, 'hightScoreRank': None, 'lowScoreRank': None, 'avgScoreRank': None, 'provinceScore': None, 'schoolScore': None, 'templateType': None, 'ids': None, 'enrollPlan': None, 'scoreLine': 333.0, 'lowDiff': '20', 'avgDiff': '21', 'thanYear': None, 'isDependent': None, 'column': None, 'firstYear': None, 'secondYear': None, 'thirdYear': None, 'planLastYear': None, 'referType': None, 'pagination': None}, {'id': 61691, 'majorName': '历史学类', 'majorCategory': None, 'year': 2017, 'cityId': None, 'cityName': '江苏', 'scienceClass': '文科', 'enrollNum': None, 'hightScore': 353.0, 'lowScore': 352.0, 'avgScore': 353.0, 'sCode': 'FCHTWR', 'type': '普通文理', 'batch': '本科一批', 'isDelete': None, 'creator': None, 'createTime': None, 'modifier': None, 'modifyTime': None, 'remark': None, 'hasCat': None, 'hightScoreRank': None, 'lowScoreRank': None, 'avgScoreRank': None, 'provinceScore': None, 'schoolScore': None, 'templateType': None, 'ids': None, 'enrollPlan': None, 'scoreLine': 333.0, 'lowDiff': '19', 'avgDiff': '20', 'thanYear': None, 'isDependent': None, 'column': None, 'firstYear': None, 'secondYear': None, 'thirdYear': None, 'planLastYear': None, 'referType': None, 'pagination': None}, {'id': 61692, 'majorName': '考古学', 'majorCategory': None, 'year': 2017, 'cityId': None, 'cityName': '江苏', 'scienceClass': '文科', 'enrollNum': None, 'hightScore': 362.0, 'lowScore': 353.0, 'avgScore': 358.0, 'sCode': 'FCHTWR', 'type': '普通文理', 'batch': '本科一批', 'isDelete': None, 'creator': None, 'createTime': None, 'modifier': None, 'modifyTime': None, 'remark': None, 'hasCat': None, 'hightScoreRank': None, 'lowScoreRank': None, 'avgScoreRank': None, 'provinceScore': None, 'schoolScore': None, 'templateType': None, 'ids': None, 'enrollPlan': None, 'scoreLine': 333.0, 'lowDiff': '20', 'avgDiff': '25', 'thanYear': None, 'isDependent': None, 'column': None, 'firstYear': None, 'secondYear': None, 'thirdYear': None, 'planLastYear': None, 'referType': None, 'pagination': None}], 'columnConfig': None}\n"
     ]
    },
    {
     "name": "stdout",
     "output_type": "stream",
     "text": [
      "{'list': [{'id': 61685, 'majorName': '哲学', 'majorCategory': None, 'year': 2017, 'cityId': None, 'cityName': '江苏', 'scienceClass': '文科', 'enrollNum': None, 'hightScore': 352.0, 'lowScore': 352.0, 'avgScore': 352.0, 'sCode': 'FCHTWR', 'type': '普通文理', 'batch': '本科一批', 'isDelete': None, 'creator': None, 'createTime': None, 'modifier': None, 'modifyTime': None, 'remark': None, 'hasCat': None, 'hightScoreRank': None, 'lowScoreRank': None, 'avgScoreRank': None, 'provinceScore': None, 'schoolScore': None, 'templateType': None, 'ids': None, 'enrollPlan': None, 'scoreLine': 333.0, 'lowDiff': '19', 'avgDiff': '19', 'thanYear': None, 'isDependent': None, 'column': None, 'firstYear': None, 'secondYear': None, 'thirdYear': None, 'planLastYear': None, 'referType': None, 'pagination': None}, {'id': 61686, 'majorName': '财政学', 'majorCategory': None, 'year': 2017, 'cityId': None, 'cityName': '江苏', 'scienceClass': '文科', 'enrollNum': None, 'hightScore': 358.0, 'lowScore': 354.0, 'avgScore': 356.0, 'sCode': 'FCHTWR', 'type': '普通文理', 'batch': '本科一批', 'isDelete': None, 'creator': None, 'createTime': None, 'modifier': None, 'modifyTime': None, 'remark': None, 'hasCat': None, 'hightScoreRank': None, 'lowScoreRank': None, 'avgScoreRank': None, 'provinceScore': None, 'schoolScore': None, 'templateType': None, 'ids': None, 'enrollPlan': None, 'scoreLine': 333.0, 'lowDiff': '21', 'avgDiff': '23', 'thanYear': None, 'isDependent': None, 'column': None, 'firstYear': None, 'secondYear': None, 'thirdYear': None, 'planLastYear': None, 'referType': None, 'pagination': None}, {'id': 61687, 'majorName': '法学', 'majorCategory': None, 'year': 2017, 'cityId': None, 'cityName': '江苏', 'scienceClass': '文科', 'enrollNum': None, 'hightScore': 354.0, 'lowScore': 353.0, 'avgScore': 354.0, 'sCode': 'FCHTWR', 'type': '普通文理', 'batch': '本科一批', 'isDelete': None, 'creator': None, 'createTime': None, 'modifier': None, 'modifyTime': None, 'remark': None, 'hasCat': None, 'hightScoreRank': None, 'lowScoreRank': None, 'avgScoreRank': None, 'provinceScore': None, 'schoolScore': None, 'templateType': None, 'ids': None, 'enrollPlan': None, 'scoreLine': 333.0, 'lowDiff': '20', 'avgDiff': '21', 'thanYear': None, 'isDependent': None, 'column': None, 'firstYear': None, 'secondYear': None, 'thirdYear': None, 'planLastYear': None, 'referType': None, 'pagination': None}, {'id': 61688, 'majorName': '新闻传播学类', 'majorCategory': None, 'year': 2017, 'cityId': None, 'cityName': '江苏', 'scienceClass': '文科', 'enrollNum': None, 'hightScore': 359.0, 'lowScore': 353.0, 'avgScore': 356.0, 'sCode': 'FCHTWR', 'type': '普通文理', 'batch': '本科一批', 'isDelete': None, 'creator': None, 'createTime': None, 'modifier': None, 'modifyTime': None, 'remark': None, 'hasCat': None, 'hightScoreRank': None, 'lowScoreRank': None, 'avgScoreRank': None, 'provinceScore': None, 'schoolScore': None, 'templateType': None, 'ids': None, 'enrollPlan': None, 'scoreLine': 333.0, 'lowDiff': '20', 'avgDiff': '23', 'thanYear': None, 'isDependent': None, 'column': None, 'firstYear': None, 'secondYear': None, 'thirdYear': None, 'planLastYear': None, 'referType': None, 'pagination': None}, {'id': 61689, 'majorName': '汉语言文学', 'majorCategory': None, 'year': 2017, 'cityId': None, 'cityName': '江苏', 'scienceClass': '文科', 'enrollNum': None, 'hightScore': 355.0, 'lowScore': 353.0, 'avgScore': 354.0, 'sCode': 'FCHTWR', 'type': '普通文理', 'batch': '本科一批', 'isDelete': None, 'creator': None, 'createTime': None, 'modifier': None, 'modifyTime': None, 'remark': None, 'hasCat': None, 'hightScoreRank': None, 'lowScoreRank': None, 'avgScoreRank': None, 'provinceScore': None, 'schoolScore': None, 'templateType': None, 'ids': None, 'enrollPlan': None, 'scoreLine': 333.0, 'lowDiff': '20', 'avgDiff': '21', 'thanYear': None, 'isDependent': None, 'column': None, 'firstYear': None, 'secondYear': None, 'thirdYear': None, 'planLastYear': None, 'referType': None, 'pagination': None}, {'id': 61690, 'majorName': '汉语国际教育', 'majorCategory': None, 'year': 2017, 'cityId': None, 'cityName': '江苏', 'scienceClass': '文科', 'enrollNum': None, 'hightScore': 355.0, 'lowScore': 353.0, 'avgScore': 354.0, 'sCode': 'FCHTWR', 'type': '普通文理', 'batch': '本科一批', 'isDelete': None, 'creator': None, 'createTime': None, 'modifier': None, 'modifyTime': None, 'remark': None, 'hasCat': None, 'hightScoreRank': None, 'lowScoreRank': None, 'avgScoreRank': None, 'provinceScore': None, 'schoolScore': None, 'templateType': None, 'ids': None, 'enrollPlan': None, 'scoreLine': 333.0, 'lowDiff': '20', 'avgDiff': '21', 'thanYear': None, 'isDependent': None, 'column': None, 'firstYear': None, 'secondYear': None, 'thirdYear': None, 'planLastYear': None, 'referType': None, 'pagination': None}, {'id': 61691, 'majorName': '历史学类', 'majorCategory': None, 'year': 2017, 'cityId': None, 'cityName': '江苏', 'scienceClass': '文科', 'enrollNum': None, 'hightScore': 353.0, 'lowScore': 352.0, 'avgScore': 353.0, 'sCode': 'FCHTWR', 'type': '普通文理', 'batch': '本科一批', 'isDelete': None, 'creator': None, 'createTime': None, 'modifier': None, 'modifyTime': None, 'remark': None, 'hasCat': None, 'hightScoreRank': None, 'lowScoreRank': None, 'avgScoreRank': None, 'provinceScore': None, 'schoolScore': None, 'templateType': None, 'ids': None, 'enrollPlan': None, 'scoreLine': 333.0, 'lowDiff': '19', 'avgDiff': '20', 'thanYear': None, 'isDependent': None, 'column': None, 'firstYear': None, 'secondYear': None, 'thirdYear': None, 'planLastYear': None, 'referType': None, 'pagination': None}, {'id': 61692, 'majorName': '考古学', 'majorCategory': None, 'year': 2017, 'cityId': None, 'cityName': '江苏', 'scienceClass': '文科', 'enrollNum': None, 'hightScore': 362.0, 'lowScore': 353.0, 'avgScore': 358.0, 'sCode': 'FCHTWR', 'type': '普通文理', 'batch': '本科一批', 'isDelete': None, 'creator': None, 'createTime': None, 'modifier': None, 'modifyTime': None, 'remark': None, 'hasCat': None, 'hightScoreRank': None, 'lowScoreRank': None, 'avgScoreRank': None, 'provinceScore': None, 'schoolScore': None, 'templateType': None, 'ids': None, 'enrollPlan': None, 'scoreLine': 333.0, 'lowDiff': '20', 'avgDiff': '25', 'thanYear': None, 'isDependent': None, 'column': None, 'firstYear': None, 'secondYear': None, 'thirdYear': None, 'planLastYear': None, 'referType': None, 'pagination': None}], 'columnConfig': None}\n"
     ]
    }
   ],
   "source": [
    "csv_list=[]\n",
    "for p in range(len(province_list)):\n",
    "    cityname_dict={'cityName':'{}'.format(province_list[p])}\n",
    "    cityname_url=parse.urlencode(cityname_dict)\n",
    "    #print(cityname_url)\n",
    "    r=requests.get(\"http://admin.zhinengdayi.com/front/enroll/findMajorScoreCompareList?sCode=FCHTWR&cityName=%E6%B1%9F%E8%8B%8F&year=2017&scienceClass=%E6%96%87%E7%A7%91&type=%E6%99%AE%E9%80%9A%E6%96%87%E7%90%86&batch=\")\n",
    "    jsonlib=r.json()\n",
    "    print((jsonlib))\n",
    "    #for index in range(len(jsonlib['list'])):\n",
    "    #    info_list=[]\n",
    "    #    info_string=\"西北大学,2017,{},文史,{},{},61518407李浩瑞\".format(province_list[p],jsonlib['list'][index]['majorName'],int(jsonlib['list'][index]['lowScore']))\n",
    "    #    info_list=info_string.split(\",\")\n",
    "    #    print(info_list)\n",
    "    #csv_list.append(info_list)\n",
    "#print(csv_list)"
   ]
  },
  {
   "cell_type": "code",
   "execution_count": 5,
   "metadata": {},
   "outputs": [
    {
     "ename": "NameError",
     "evalue": "name 'info_list' is not defined",
     "output_type": "error",
     "traceback": [
      "\u001b[0;31m---------------------------------------------------------------------------\u001b[0m",
      "\u001b[0;31mNameError\u001b[0m                                 Traceback (most recent call last)",
      "\u001b[0;32m<ipython-input-5-3d5e74a69325>\u001b[0m in \u001b[0;36m<module>\u001b[0;34m\u001b[0m\n\u001b[0;32m----> 1\u001b[0;31m \u001b[0minfo_list\u001b[0m\u001b[0;34m\u001b[0m\u001b[0;34m\u001b[0m\u001b[0m\n\u001b[0m",
      "\u001b[0;31mNameError\u001b[0m: name 'info_list' is not defined"
     ]
    }
   ],
   "source": [
    "info_list"
   ]
  },
  {
   "cell_type": "markdown",
   "metadata": {},
   "source": [
    "# 写CSV"
   ]
  },
  {
   "cell_type": "code",
   "execution_count": 53,
   "metadata": {},
   "outputs": [],
   "source": [
    "import csv\n",
    "s_head=\"College Year Province Category Major Score Contributor\"\n",
    "csv_head=[]\n",
    "csv_head=s_head.split(\" \")\n",
    "with open('TEST.csv', 'w', newline='') as csvfile:\n",
    "    writer  = csv.writer(csvfile)\n",
    "    writer.writerow(csv_head)\n",
    "    for row in csv_list:\n",
    "        writer.writerow(row)"
   ]
  },
  {
   "cell_type": "code",
   "execution_count": null,
   "metadata": {},
   "outputs": [],
   "source": []
  },
  {
   "cell_type": "code",
   "execution_count": null,
   "metadata": {},
   "outputs": [],
   "source": []
  },
  {
   "cell_type": "code",
   "execution_count": null,
   "metadata": {},
   "outputs": [],
   "source": []
  },
  {
   "cell_type": "code",
   "execution_count": null,
   "metadata": {},
   "outputs": [],
   "source": []
  },
  {
   "cell_type": "code",
   "execution_count": null,
   "metadata": {},
   "outputs": [],
   "source": []
  },
  {
   "cell_type": "code",
   "execution_count": null,
   "metadata": {},
   "outputs": [],
   "source": []
  },
  {
   "cell_type": "code",
   "execution_count": null,
   "metadata": {},
   "outputs": [],
   "source": []
  },
  {
   "cell_type": "code",
   "execution_count": null,
   "metadata": {},
   "outputs": [],
   "source": [
    "cityname_list=['江苏']\n",
    "cityname=parse.urlencode(json.dump(cityname_list))\n",
    "\n",
    "r=requests.get(\"http://admin.zhinengdayi.com/front/enroll/findMajorScoreCompareList?sCode=FCHTWR&cityName={}&year={}&scienceClass={}&type={}&batch={}\".format(cityname[],'2018','%E6%96%87%E5%8F%B2','%E6%99%AE%E9%80%9A%E6%96%87%E7%90%86','%E6%9C%AC%E7%A7%91%E4%B8%80%E6%89%B9'))\n",
    "jsonlib=r.json()\n",
    "for index in range(len(jsonlib['list'])):\n",
    "    print(jsonlib['list'][index]['majorName'])\n",
    "    print(jsonlib['list'][index]['lowScore'])"
   ]
  },
  {
   "cell_type": "code",
   "execution_count": null,
   "metadata": {},
   "outputs": [],
   "source": []
  },
  {
   "cell_type": "code",
   "execution_count": null,
   "metadata": {},
   "outputs": [],
   "source": []
  },
  {
   "cell_type": "code",
   "execution_count": 67,
   "metadata": {
    "scrolled": false
   },
   "outputs": [
    {
     "name": "stdout",
     "output_type": "stream",
     "text": [
      "哲学 585.0\n",
      "财政学 601.0\n",
      "金融学 604.0\n",
      "国际经济与贸易 596.0\n",
      "工商管理类 592.0\n",
      "旅游管理 585.0\n",
      "社会工作 584.0\n",
      "新闻传播学类 588.0\n",
      "汉语言文学 592.0\n",
      "法学 591.0\n",
      "汉语国际教育 590.0\n",
      "英语 586.0\n",
      "日语 585.0\n",
      "历史学类 588.0\n",
      "考古学 593.0\n",
      "文物与博物馆学 588.0\n",
      "公共管理类 585.0\n",
      "图书情报与档案管理类 584.0\n"
     ]
    }
   ],
   "source": [
    "import requests\n",
    "from urllib import parse\n",
    "import json\n",
    "#cityName=江苏\n",
    "#URL编码\n",
    "#scienceClass=%E6%96%87%E5%8F%B2\n",
    "#http://admin.zhinengdayi.com/front/enroll/findMajorScoreCompareList?sCode=FCHTWR&cityName=江苏&year=2019&scienceClass=文史&type=普通文理&batch=\n",
    "#陕西选本科一批\n",
    "#http://admin.zhinengdayi.com/front/enroll/findMajorScoreCompareList?sCode=FCHTWR&cityName=%E9%99%95%E8%A5%BF&year=2019&scienceClass=%E6%96%87%E5%8F%B2&type=%E6%99%AE%E9%80%9A%E6%96%87%E7%90%86&batch=%E6%9C%AC%E7%A7%91%E4%B8%80%E6%89%B9\n",
    "#2018年\n",
    "#http://admin.zhinengdayi.com/front/enroll/findMajorScoreCompareList?sCode=FCHTWR&cityName=%E9%99%95%E8%A5%BF&year=2018&scienceClass=%E6%96%87%E5%8F%B2&type=%E6%99%AE%E9%80%9A%E6%96%87%E7%90%86&batch=%E6%9C%AC%E7%A7%91%E4%B8%80%E6%89%B9\n",
    "\n",
    "#print(r.status_code)\n",
    "#print((r.json()))\n",
    "#jsonlib=r.json()\n",
    "#jsonlib['list'][-1]['majorName']\n",
    "#print(jsonlib['list'])\n",
    "\n",
    "#r=requests.get(\"http://admin.zhinengdayi.com/front/enroll/findMajorScoreCompareList?sCode=FCHTWR&cityName=%e6%b1%9f%e8%8b%8f&year=2018&scienceClass=%E6%96%87%E5%8F%B2&type=%E6%99%AE%E9%80%9A%E6%96%87%E7%90%86&batch=%E6%9C%AC%E7%A7%91%E4%B8%80%E6%89%B9\")\n",
    "cityname_list=['江苏']\n",
    "#cityname=parse.urlencode(json.dump(cityname_list))\n",
    "\n",
    "r=requests.get(\"http://admin.zhinengdayi.com/front/enroll/findMajorScoreCompareList?sCode=FCHTWR&cityName={}&year={}&scienceClass={}&type={}&batch={}\".format('%E9%99%95%E8%A5%BF','2018','%E6%96%87%E5%8F%B2','%E6%99%AE%E9%80%9A%E6%96%87%E7%90%86','%E6%9C%AC%E7%A7%91%E4%B8%80%E6%89%B9'))\n",
    "jsonlib=r.json()\n",
    "for index in range(len(jsonlib['list'])):\n",
    "    print(jsonlib['list'][index]['majorName'],jsonlib['list'][index]['lowScore'])"
   ]
  },
  {
   "cell_type": "code",
   "execution_count": null,
   "metadata": {},
   "outputs": [],
   "source": []
  },
  {
   "cell_type": "markdown",
   "metadata": {},
   "source": [
    "# 测试程序"
   ]
  },
  {
   "cell_type": "code",
   "execution_count": 56,
   "metadata": {},
   "outputs": [
    {
     "name": "stdout",
     "output_type": "stream",
     "text": [
      "cityname=江苏\n",
      "cityname=%E6%B1%9F%E8%8B%8F\n"
     ]
    }
   ],
   "source": [
    "from urllib import parse\n",
    "\n",
    "\n",
    "\n",
    "b = parse.urlencode({'cityname':'江苏'})      # dict 数据的编码\n",
    "c = parse.unquote(b)    # dict数据解码\n",
    "print(c)\n",
    "print(b)"
   ]
  },
  {
   "cell_type": "code",
   "execution_count": 6,
   "metadata": {},
   "outputs": [
    {
     "name": "stdout",
     "output_type": "stream",
     "text": [
      "cityname=江苏\n",
      "cityname=%E6%B1%9F%E8%8B%8F\n"
     ]
    }
   ],
   "source": [
    "from urllib import parse\n",
    "\n",
    "\n",
    "cityname_list=['北京','天津','河北',]\n",
    "b = parse.urlencode({'cityname':'{}'.format(cityname_list[0])})      # dict 数据的编码\n",
    "c = parse.unquote(b)    # dict数据解码\n",
    "print(c)\n",
    "print(b)\n",
    "#print(b.split('=')[1]\n"
   ]
  },
  {
   "cell_type": "code",
   "execution_count": null,
   "metadata": {},
   "outputs": [],
   "source": []
  },
  {
   "cell_type": "code",
   "execution_count": 4,
   "metadata": {},
   "outputs": [
    {
     "name": "stdout",
     "output_type": "stream",
     "text": [
      "{'list': [], 'columnConfig': None}\n"
     ]
    }
   ],
   "source": [
    "import requests\n",
    "from urllib import parse\n",
    "import json\n",
    "#cityName=江苏\n",
    "#URL编码\n",
    "#scienceClass=%E6%96%87%E5%8F%B2\n",
    "#http://admin.zhinengdayi.com/front/enroll/findMajorScoreCompareList?sCode=FCHTWR&cityName=江苏&year=2019&scienceClass=文史&type=普通文理&batch=\n",
    "#陕西选本科一批\n",
    "#http://admin.zhinengdayi.com/front/enroll/findMajorScoreCompareList?sCode=FCHTWR&cityName=%E9%99%95%E8%A5%BF&year=2019&scienceClass=%E6%96%87%E5%8F%B2&type=%E6%99%AE%E9%80%9A%E6%96%87%E7%90%86&batch=%E6%9C%AC%E7%A7%91%E4%B8%80%E6%89%B9\n",
    "#2018年\n",
    "#http://admin.zhinengdayi.com/front/enroll/findMajorScoreCompareList?sCode=FCHTWR&cityName=%E9%99%95%E8%A5%BF&year=2018&scienceClass=%E6%96%87%E5%8F%B2&type=%E6%99%AE%E9%80%9A%E6%96%87%E7%90%86&batch=%E6%9C%AC%E7%A7%91%E4%B8%80%E6%89%B9\n",
    "\n",
    "#print(r.status_code)\n",
    "#print((r.json()))\n",
    "#jsonlib=r.json()\n",
    "#jsonlib['list'][-1]['majorName']\n",
    "#print(jsonlib['list'])\n",
    "\n",
    "#r=requests.get(\"http://admin.zhinengdayi.com/front/enroll/findMajorScoreCompareList?sCode=FCHTWR&cityName=%e6%b1%9f%e8%8b%8f&year=2018&scienceClass=%E6%96%87%E5%8F%B2&type=%E6%99%AE%E9%80%9A%E6%96%87%E7%90%86&batch=%E6%9C%AC%E7%A7%91%E4%B8%80%E6%89%B9\")\n",
    "#cityname_list=['江苏']\n",
    "#cityname=parse.urlencode(json.dump(cityname_list))\n",
    "\n",
    "\n",
    "b = parse.urlencode({'cityname':['江苏','北京']})      # dict 数据的编码\n",
    "r=requests.get(\"http://admin.zhinengdayi.com/front/enroll/findMajorScoreCompareList?sCode=FCHTWR&cityName={}&year={}&scienceClass={}&type={}&batch={}\".format(str(b.split('=')[1].split('+')[0]),'2018','%E6%96%87%E5%8F%B2','%E6%99%AE%E9%80%9A%E6%96%87%E7%90%86','%E6%9C%AC%E7%A7%91%E4%B8%80%E6%89%B9'))\n",
    "jsonlib=r.json()\n",
    "print(jsonlib)\n",
    "#for index in range(len(jsonlib['list'])):\n",
    "#    print(jsonlib['list'][index]['majorName'],jsonlib['list'][index]['lowScore'])"
   ]
  }
 ],
 "metadata": {
  "kernelspec": {
   "display_name": "Python 3",
   "language": "python",
   "name": "python3"
  },
  "language_info": {
   "codemirror_mode": {
    "name": "ipython",
    "version": 3
   },
   "file_extension": ".py",
   "mimetype": "text/x-python",
   "name": "python",
   "nbconvert_exporter": "python",
   "pygments_lexer": "ipython3",
   "version": "3.6.9"
  }
 },
 "nbformat": 4,
 "nbformat_minor": 2
}
